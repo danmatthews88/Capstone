{
 "cells": [
  {
   "cell_type": "code",
   "execution_count": null,
   "metadata": {
    "collapsed": true
   },
   "outputs": [],
   "source": [
    "import pandas as pd\n",
    "import numpy as np\n",
    "import matplotlib.pyplot as plt"
   ]
  },
  {
   "cell_type": "code",
   "execution_count": null,
   "metadata": {
    "collapsed": true
   },
   "outputs": [],
   "source": [
    "%matplotlib inline"
   ]
  },
  {
   "cell_type": "markdown",
   "metadata": {
    "collapsed": true
   },
   "source": [
    "Imports the cleaned data set (from HealthCost_data_cleaning notebook)"
   ]
  },
  {
   "cell_type": "code",
   "execution_count": null,
   "metadata": {
    "collapsed": false,
    "scrolled": false
   },
   "outputs": [],
   "source": [
    "df=pd.read_csv('data/IPPS_Data_Clean.csv', \\\n",
    "               dtype={'provider_id':str,'provider_zip_code':str, 'drg_id':str,'total_discharges':float})\n",
    "\n",
    "#df['provider_city_state'] = df.provider_city + ', ' + df.provider_state\n",
    "df.head(3)"
   ]
  },
  {
   "cell_type": "markdown",
   "metadata": {},
   "source": [
    "GPS locations of every unique provider."
   ]
  },
  {
   "cell_type": "code",
   "execution_count": null,
   "metadata": {
    "collapsed": false,
    "scrolled": false
   },
   "outputs": [],
   "source": [
    "dfprovgeo=pd.read_csv('data/Providers_Geocode.csv',usecols=['provider_id','lat','lng'],dtype={'provider_id':str})\n",
    "dfprovgeo.head(3)"
   ]
  },
  {
   "cell_type": "markdown",
   "metadata": {},
   "source": [
    "Percentage of uninsured by state (2013)"
   ]
  },
  {
   "cell_type": "code",
   "execution_count": null,
   "metadata": {
    "collapsed": false
   },
   "outputs": [],
   "source": [
    "dfins = pd.read_csv('data/InsuranceCoverage_Adults19-64.csv',usecols=['Location','Uninsured'])#,encoding='Latin')\n",
    "dfins=dfins[1:].reset_index(drop=True)#.head()\n",
    "\n",
    "# Dataframe that lists states and their abbreviations for mapping\n",
    "abbrev = pd.read_csv('data/states.csv').rename(columns={'State':'Location','Abbreviation':'provider_state'})\n",
    "dfins = dfins.merge(abbrev,on ='Location')[['provider_state','Uninsured']]\n",
    "dfins.head(3)"
   ]
  },
  {
   "cell_type": "markdown",
   "metadata": {},
   "source": [
    "Population by state dataframe (Census.gov)"
   ]
  },
  {
   "cell_type": "code",
   "execution_count": null,
   "metadata": {
    "collapsed": false,
    "scrolled": true
   },
   "outputs": [],
   "source": [
    "dfstates=pd.read_csv('data/NST-EST2015-alldata.csv',usecols=['NAME','POPESTIMATE2011'])#,dtype={'POPESTIMATE2011':float})\n",
    "dfstates = dfstates[5:56].reset_index(drop=True)\n",
    "\n",
    "# Dataframe that lists states and their abbreviations for mapping\n",
    "abbrev = pd.read_csv('data/states.csv').rename(columns={'State':'NAME','Abbreviation':'provider_state'})\n",
    "\n",
    "dfstates = dfstates.merge(abbrev,on ='NAME')\n",
    "dfstates = dfstates[['provider_state','POPESTIMATE2011']]#,'RBIRTH2011','RDEATH2011']]\n",
    "dfstates = dfstates.rename(columns={'POPESTIMATE2011':'state_population2011'})\n",
    "\n",
    "dfstates.head(3)"
   ]
  },
  {
   "cell_type": "markdown",
   "metadata": {
    "collapsed": false
   },
   "source": [
    "Population by zip code dataframe (http://notnullhypothesis.com/2010-census-data-by-zip-code-population/)"
   ]
  },
  {
   "cell_type": "code",
   "execution_count": null,
   "metadata": {
    "collapsed": false,
    "scrolled": true
   },
   "outputs": [],
   "source": [
    "#dfzip = pd.read_csv('2010CensusPopulationData.csv',usecols=['Zip','Population'],dtype={'Zip':str})\n",
    "dfzip = pd.read_csv('data/Zipcode-ZCTA-Population-Density-And-Area-Unsorted.csv', \\\n",
    "                   dtype={'Zip':str},usecols=['Zip','2010 Population','Density Per Sq Mile'])\n",
    "dfzip.Zip = dfzip.Zip.str.zfill(5)\n",
    "dfzip = dfzip.rename(columns = {'Zip':'provider_zip_code','2010 Population':'zip_population2010', \\\n",
    "                               'Density Per Sq Mile':'zip_pop2010_density'})\n",
    "dfzip.head()"
   ]
  },
  {
   "cell_type": "markdown",
   "metadata": {},
   "source": [
    "Median income by zipcode (http://www.psc.isr.umich.edu/dis/census/Features/tract2zip/)"
   ]
  },
  {
   "cell_type": "code",
   "execution_count": null,
   "metadata": {
    "collapsed": false
   },
   "outputs": [],
   "source": [
    "dfincome = pd.read_csv('data/MedianZIP-3.csv',dtype={'Zip':str},usecols=['Zip','Median'])\n",
    "\n",
    "dfincome.Zip = dfincome.Zip.str.zfill(5)\n",
    "dfincome.Median = dfincome.Median.str.replace(',','').astype(int)\n",
    "dfincome = dfincome.rename(columns={'Zip':'provider_zip_code','Median':'zip_median_income'})\n",
    "\n",
    "dfincome.head()"
   ]
  },
  {
   "cell_type": "markdown",
   "metadata": {
    "collapsed": false
   },
   "source": [
    "Combines all into one dataframe and selects the relevant columns"
   ]
  },
  {
   "cell_type": "code",
   "execution_count": null,
   "metadata": {
    "collapsed": false,
    "scrolled": true
   },
   "outputs": [],
   "source": [
    "#df['provider_city_state'] = df.provider_city + ', ' + df.provider_state\n",
    "\n",
    "dftot = df.merge(dfprovgeo, on='provider_id')\n",
    "#dftot = dftot.merge(dfins,on='provider_state')\n",
    "#dftot = dftot.merge(dfstates, on='provider_state')\n",
    "#dftot = dftot.merge(dfzip, on='provider_zip_code',how='left')\n",
    "#dftot = dftot.merge(dfcities, on=['provider_city_state'])\n",
    "#dftot = dftot.merge(dfincome, on='provider_zip_code')\n",
    "#dftot = dftot.drop([list(dftot.columns)[1]]+list(dftot.columns)[3:5]+list(dftot.columns)[11:13],axis=1)\n",
    "#dftot.head()\n",
    "#dftot.provider_id.nunique()\n",
    "print(len(dftot))\n",
    "dftot.head(3)"
   ]
  },
  {
   "cell_type": "code",
   "execution_count": null,
   "metadata": {
    "collapsed": true
   },
   "outputs": [],
   "source": []
  }
 ],
 "metadata": {
  "anaconda-cloud": {},
  "kernelspec": {
   "display_name": "Python [default]",
   "language": "python",
   "name": "python3"
  },
  "language_info": {
   "codemirror_mode": {
    "name": "ipython",
    "version": 3
   },
   "file_extension": ".py",
   "mimetype": "text/x-python",
   "name": "python",
   "nbconvert_exporter": "python",
   "pygments_lexer": "ipython3",
   "version": "3.5.2"
  }
 },
 "nbformat": 4,
 "nbformat_minor": 0
}
