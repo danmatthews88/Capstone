{
 "cells": [
  {
   "cell_type": "code",
   "execution_count": 1,
   "metadata": {
    "collapsed": true
   },
   "outputs": [],
   "source": [
    "import pandas as pd\n",
    "import numpy as np\n",
    "import matplotlib.pyplot as plt"
   ]
  },
  {
   "cell_type": "code",
   "execution_count": 2,
   "metadata": {
    "collapsed": true
   },
   "outputs": [],
   "source": [
    "%matplotlib inline"
   ]
  },
  {
   "cell_type": "code",
   "execution_count": 3,
   "metadata": {
    "collapsed": false
   },
   "outputs": [],
   "source": [
    "from sklearn.linear_model import LinearRegression,LogisticRegression\n",
    "from sklearn.ensemble import RandomForestRegressor, RandomForestClassifier\n",
    "from sklearn.cross_validation import train_test_split\n",
    "from sklearn.preprocessing import LabelEncoder, OneHotEncoder, scale\n",
    "from sklearn import metrics as mt # mean_squared_error, confusion_matrix, roc_auc_score\n",
    "from sklearn.neighbors import NearestNeighbors"
   ]
  },
  {
   "cell_type": "markdown",
   "metadata": {
    "collapsed": true
   },
   "source": [
    "Imports the cleaned data set (from HealthCost_data_cleaning notebook)"
   ]
  },
  {
   "cell_type": "code",
   "execution_count": 4,
   "metadata": {
    "collapsed": false,
    "scrolled": false
   },
   "outputs": [
    {
     "data": {
      "text/html": [
       "<div>\n",
       "<table border=\"1\" class=\"dataframe\">\n",
       "  <thead>\n",
       "    <tr style=\"text-align: right;\">\n",
       "      <th></th>\n",
       "      <th>drg_id</th>\n",
       "      <th>drg_definition</th>\n",
       "      <th>provider_id</th>\n",
       "      <th>provider_name</th>\n",
       "      <th>provider_street_address</th>\n",
       "      <th>provider_city</th>\n",
       "      <th>provider_state</th>\n",
       "      <th>provider_zip_code</th>\n",
       "      <th>hospital_referral_region_description</th>\n",
       "      <th>total_discharges</th>\n",
       "      <th>average_covered_charges</th>\n",
       "      <th>average_total_payments</th>\n",
       "      <th>average_medicare_payments</th>\n",
       "    </tr>\n",
       "  </thead>\n",
       "  <tbody>\n",
       "    <tr>\n",
       "      <th>0</th>\n",
       "      <td>039</td>\n",
       "      <td>039 - EXTRACRANIAL PROCEDURES W/O CC/MCC</td>\n",
       "      <td>10001</td>\n",
       "      <td>SOUTHEAST ALABAMA MEDICAL CENTER</td>\n",
       "      <td>1108 ROSS CLARK CIRCLE</td>\n",
       "      <td>DOTHAN</td>\n",
       "      <td>AL</td>\n",
       "      <td>36301</td>\n",
       "      <td>AL - Dothan</td>\n",
       "      <td>91.0</td>\n",
       "      <td>32963.07</td>\n",
       "      <td>5777.24</td>\n",
       "      <td>4763.73</td>\n",
       "    </tr>\n",
       "    <tr>\n",
       "      <th>1</th>\n",
       "      <td>039</td>\n",
       "      <td>039 - EXTRACRANIAL PROCEDURES W/O CC/MCC</td>\n",
       "      <td>10005</td>\n",
       "      <td>MARSHALL MEDICAL CENTER SOUTH</td>\n",
       "      <td>2505 U S HIGHWAY 431 NORTH</td>\n",
       "      <td>BOAZ</td>\n",
       "      <td>AL</td>\n",
       "      <td>35957</td>\n",
       "      <td>AL - Birmingham</td>\n",
       "      <td>14.0</td>\n",
       "      <td>15131.85</td>\n",
       "      <td>5787.57</td>\n",
       "      <td>4976.71</td>\n",
       "    </tr>\n",
       "    <tr>\n",
       "      <th>2</th>\n",
       "      <td>039</td>\n",
       "      <td>039 - EXTRACRANIAL PROCEDURES W/O CC/MCC</td>\n",
       "      <td>10006</td>\n",
       "      <td>ELIZA COFFEE MEMORIAL HOSPITAL</td>\n",
       "      <td>205 MARENGO STREET</td>\n",
       "      <td>FLORENCE</td>\n",
       "      <td>AL</td>\n",
       "      <td>35631</td>\n",
       "      <td>AL - Birmingham</td>\n",
       "      <td>24.0</td>\n",
       "      <td>37560.37</td>\n",
       "      <td>5434.95</td>\n",
       "      <td>4453.79</td>\n",
       "    </tr>\n",
       "  </tbody>\n",
       "</table>\n",
       "</div>"
      ],
      "text/plain": [
       "  drg_id                            drg_definition provider_id  \\\n",
       "0    039  039 - EXTRACRANIAL PROCEDURES W/O CC/MCC       10001   \n",
       "1    039  039 - EXTRACRANIAL PROCEDURES W/O CC/MCC       10005   \n",
       "2    039  039 - EXTRACRANIAL PROCEDURES W/O CC/MCC       10006   \n",
       "\n",
       "                      provider_name     provider_street_address provider_city  \\\n",
       "0  SOUTHEAST ALABAMA MEDICAL CENTER      1108 ROSS CLARK CIRCLE        DOTHAN   \n",
       "1     MARSHALL MEDICAL CENTER SOUTH  2505 U S HIGHWAY 431 NORTH          BOAZ   \n",
       "2    ELIZA COFFEE MEMORIAL HOSPITAL          205 MARENGO STREET      FLORENCE   \n",
       "\n",
       "  provider_state provider_zip_code hospital_referral_region_description  \\\n",
       "0             AL             36301                          AL - Dothan   \n",
       "1             AL             35957                      AL - Birmingham   \n",
       "2             AL             35631                      AL - Birmingham   \n",
       "\n",
       "   total_discharges  average_covered_charges  average_total_payments  \\\n",
       "0              91.0                 32963.07                 5777.24   \n",
       "1              14.0                 15131.85                 5787.57   \n",
       "2              24.0                 37560.37                 5434.95   \n",
       "\n",
       "   average_medicare_payments  \n",
       "0                    4763.73  \n",
       "1                    4976.71  \n",
       "2                    4453.79  "
      ]
     },
     "execution_count": 4,
     "metadata": {},
     "output_type": "execute_result"
    }
   ],
   "source": [
    "df=pd.read_csv('data/IPPS_Data_Clean.csv', \\\n",
    "               dtype={'provider_id':str,'provider_zip_code':str, 'drg_id':str,'total_discharges':float})\n",
    "\n",
    "#df['provider_city_state'] = df.provider_city + ', ' + df.provider_state\n",
    "df.head(3)"
   ]
  },
  {
   "cell_type": "markdown",
   "metadata": {},
   "source": [
    "GPS locations of every unique provider."
   ]
  },
  {
   "cell_type": "code",
   "execution_count": 5,
   "metadata": {
    "collapsed": false,
    "scrolled": false
   },
   "outputs": [
    {
     "data": {
      "text/html": [
       "<div>\n",
       "<table border=\"1\" class=\"dataframe\">\n",
       "  <thead>\n",
       "    <tr style=\"text-align: right;\">\n",
       "      <th></th>\n",
       "      <th>provider_id</th>\n",
       "      <th>lat</th>\n",
       "      <th>lng</th>\n",
       "    </tr>\n",
       "  </thead>\n",
       "  <tbody>\n",
       "    <tr>\n",
       "      <th>0</th>\n",
       "      <td>10001</td>\n",
       "      <td>31.216725</td>\n",
       "      <td>-85.363068</td>\n",
       "    </tr>\n",
       "    <tr>\n",
       "      <th>1</th>\n",
       "      <td>10005</td>\n",
       "      <td>34.221556</td>\n",
       "      <td>-86.159441</td>\n",
       "    </tr>\n",
       "    <tr>\n",
       "      <th>2</th>\n",
       "      <td>10006</td>\n",
       "      <td>34.793845</td>\n",
       "      <td>-87.683155</td>\n",
       "    </tr>\n",
       "  </tbody>\n",
       "</table>\n",
       "</div>"
      ],
      "text/plain": [
       "  provider_id        lat        lng\n",
       "0       10001  31.216725 -85.363068\n",
       "1       10005  34.221556 -86.159441\n",
       "2       10006  34.793845 -87.683155"
      ]
     },
     "execution_count": 5,
     "metadata": {},
     "output_type": "execute_result"
    }
   ],
   "source": [
    "dfprovgeo=pd.read_csv('data/Providers_Geocode.csv',usecols=['provider_id','lat','lng'],dtype={'provider_id':str})\n",
    "dfprovgeo.head(3)"
   ]
  },
  {
   "cell_type": "markdown",
   "metadata": {},
   "source": [
    "Percentage of uninsured by state (2013)"
   ]
  },
  {
   "cell_type": "code",
   "execution_count": 6,
   "metadata": {
    "collapsed": false
   },
   "outputs": [
    {
     "data": {
      "text/html": [
       "<div>\n",
       "<table border=\"1\" class=\"dataframe\">\n",
       "  <thead>\n",
       "    <tr style=\"text-align: right;\">\n",
       "      <th></th>\n",
       "      <th>provider_state</th>\n",
       "      <th>Uninsured</th>\n",
       "    </tr>\n",
       "  </thead>\n",
       "  <tbody>\n",
       "    <tr>\n",
       "      <th>0</th>\n",
       "      <td>AL</td>\n",
       "      <td>0.22</td>\n",
       "    </tr>\n",
       "    <tr>\n",
       "      <th>1</th>\n",
       "      <td>AK</td>\n",
       "      <td>0.18</td>\n",
       "    </tr>\n",
       "    <tr>\n",
       "      <th>2</th>\n",
       "      <td>AZ</td>\n",
       "      <td>0.24</td>\n",
       "    </tr>\n",
       "  </tbody>\n",
       "</table>\n",
       "</div>"
      ],
      "text/plain": [
       "  provider_state  Uninsured\n",
       "0             AL       0.22\n",
       "1             AK       0.18\n",
       "2             AZ       0.24"
      ]
     },
     "execution_count": 6,
     "metadata": {},
     "output_type": "execute_result"
    }
   ],
   "source": [
    "dfins = pd.read_csv('data/InsuranceCoverage_Adults19-64.csv',usecols=['Location','Uninsured'])#,encoding='Latin')\n",
    "dfins=dfins[1:].reset_index(drop=True)#.head()\n",
    "\n",
    "# Dataframe that lists states and their abbreviations for mapping\n",
    "abbrev = pd.read_csv('data/states.csv').rename(columns={'State':'Location','Abbreviation':'provider_state'})\n",
    "dfins = dfins.merge(abbrev,on ='Location')[['provider_state','Uninsured']]\n",
    "dfins.head(3)"
   ]
  },
  {
   "cell_type": "markdown",
   "metadata": {},
   "source": [
    "Population by state dataframe (Census.gov)"
   ]
  },
  {
   "cell_type": "code",
   "execution_count": 7,
   "metadata": {
    "collapsed": false,
    "scrolled": true
   },
   "outputs": [
    {
     "data": {
      "text/html": [
       "<div>\n",
       "<table border=\"1\" class=\"dataframe\">\n",
       "  <thead>\n",
       "    <tr style=\"text-align: right;\">\n",
       "      <th></th>\n",
       "      <th>provider_state</th>\n",
       "      <th>state_population2011</th>\n",
       "    </tr>\n",
       "  </thead>\n",
       "  <tbody>\n",
       "    <tr>\n",
       "      <th>0</th>\n",
       "      <td>AL</td>\n",
       "      <td>4801108</td>\n",
       "    </tr>\n",
       "    <tr>\n",
       "      <th>1</th>\n",
       "      <td>AK</td>\n",
       "      <td>722720</td>\n",
       "    </tr>\n",
       "    <tr>\n",
       "      <th>2</th>\n",
       "      <td>AZ</td>\n",
       "      <td>6468732</td>\n",
       "    </tr>\n",
       "  </tbody>\n",
       "</table>\n",
       "</div>"
      ],
      "text/plain": [
       "  provider_state  state_population2011\n",
       "0             AL               4801108\n",
       "1             AK                722720\n",
       "2             AZ               6468732"
      ]
     },
     "execution_count": 7,
     "metadata": {},
     "output_type": "execute_result"
    }
   ],
   "source": [
    "dfstates=pd.read_csv('data/NST-EST2015-alldata.csv',usecols=['NAME','POPESTIMATE2011'])#,dtype={'POPESTIMATE2011':float})\n",
    "dfstates = dfstates[5:56].reset_index(drop=True)\n",
    "\n",
    "# Dataframe that lists states and their abbreviations for mapping\n",
    "abbrev = pd.read_csv('data/states.csv').rename(columns={'State':'NAME','Abbreviation':'provider_state'})\n",
    "\n",
    "dfstates = dfstates.merge(abbrev,on ='NAME')\n",
    "dfstates = dfstates[['provider_state','POPESTIMATE2011']]#,'RBIRTH2011','RDEATH2011']]\n",
    "dfstates = dfstates.rename(columns={'POPESTIMATE2011':'state_population2011'})\n",
    "\n",
    "dfstates.head(3)"
   ]
  },
  {
   "cell_type": "markdown",
   "metadata": {
    "collapsed": false
   },
   "source": [
    "Population by zip code dataframe (http://notnullhypothesis.com/2010-census-data-by-zip-code-population/)"
   ]
  },
  {
   "cell_type": "code",
   "execution_count": 8,
   "metadata": {
    "collapsed": false,
    "scrolled": true
   },
   "outputs": [
    {
     "data": {
      "text/html": [
       "<div>\n",
       "<table border=\"1\" class=\"dataframe\">\n",
       "  <thead>\n",
       "    <tr style=\"text-align: right;\">\n",
       "      <th></th>\n",
       "      <th>provider_zip_code</th>\n",
       "      <th>zip_population2010</th>\n",
       "      <th>zip_pop2010_density</th>\n",
       "    </tr>\n",
       "  </thead>\n",
       "  <tbody>\n",
       "    <tr>\n",
       "      <th>0</th>\n",
       "      <td>00601</td>\n",
       "      <td>0</td>\n",
       "      <td>0.0</td>\n",
       "    </tr>\n",
       "    <tr>\n",
       "      <th>1</th>\n",
       "      <td>00602</td>\n",
       "      <td>0</td>\n",
       "      <td>0.0</td>\n",
       "    </tr>\n",
       "    <tr>\n",
       "      <th>2</th>\n",
       "      <td>00603</td>\n",
       "      <td>0</td>\n",
       "      <td>0.0</td>\n",
       "    </tr>\n",
       "    <tr>\n",
       "      <th>3</th>\n",
       "      <td>00606</td>\n",
       "      <td>0</td>\n",
       "      <td>0.0</td>\n",
       "    </tr>\n",
       "    <tr>\n",
       "      <th>4</th>\n",
       "      <td>00610</td>\n",
       "      <td>0</td>\n",
       "      <td>0.0</td>\n",
       "    </tr>\n",
       "  </tbody>\n",
       "</table>\n",
       "</div>"
      ],
      "text/plain": [
       "  provider_zip_code  zip_population2010  zip_pop2010_density\n",
       "0             00601                   0                  0.0\n",
       "1             00602                   0                  0.0\n",
       "2             00603                   0                  0.0\n",
       "3             00606                   0                  0.0\n",
       "4             00610                   0                  0.0"
      ]
     },
     "execution_count": 8,
     "metadata": {},
     "output_type": "execute_result"
    }
   ],
   "source": [
    "#dfzip = pd.read_csv('2010CensusPopulationData.csv',usecols=['Zip','Population'],dtype={'Zip':str})\n",
    "dfzip = pd.read_csv('data/Zipcode-ZCTA-Population-Density-And-Area-Unsorted.csv', \\\n",
    "                   dtype={'Zip':str},usecols=['Zip','2010 Population','Density Per Sq Mile'])\n",
    "dfzip.Zip = dfzip.Zip.str.zfill(5)\n",
    "dfzip = dfzip.rename(columns = {'Zip':'provider_zip_code','2010 Population':'zip_population2010', \\\n",
    "                               'Density Per Sq Mile':'zip_pop2010_density'})\n",
    "dfzip.head()"
   ]
  },
  {
   "cell_type": "markdown",
   "metadata": {},
   "source": [
    "Median income by zipcode (http://www.psc.isr.umich.edu/dis/census/Features/tract2zip/)"
   ]
  },
  {
   "cell_type": "code",
   "execution_count": 9,
   "metadata": {
    "collapsed": false
   },
   "outputs": [
    {
     "data": {
      "text/html": [
       "<div>\n",
       "<table border=\"1\" class=\"dataframe\">\n",
       "  <thead>\n",
       "    <tr style=\"text-align: right;\">\n",
       "      <th></th>\n",
       "      <th>provider_zip_code</th>\n",
       "      <th>zip_median_income</th>\n",
       "    </tr>\n",
       "  </thead>\n",
       "  <tbody>\n",
       "    <tr>\n",
       "      <th>0</th>\n",
       "      <td>01001</td>\n",
       "      <td>56663</td>\n",
       "    </tr>\n",
       "    <tr>\n",
       "      <th>1</th>\n",
       "      <td>01002</td>\n",
       "      <td>49853</td>\n",
       "    </tr>\n",
       "    <tr>\n",
       "      <th>2</th>\n",
       "      <td>01003</td>\n",
       "      <td>28462</td>\n",
       "    </tr>\n",
       "    <tr>\n",
       "      <th>3</th>\n",
       "      <td>01005</td>\n",
       "      <td>75423</td>\n",
       "    </tr>\n",
       "    <tr>\n",
       "      <th>4</th>\n",
       "      <td>01007</td>\n",
       "      <td>79076</td>\n",
       "    </tr>\n",
       "  </tbody>\n",
       "</table>\n",
       "</div>"
      ],
      "text/plain": [
       "  provider_zip_code  zip_median_income\n",
       "0             01001              56663\n",
       "1             01002              49853\n",
       "2             01003              28462\n",
       "3             01005              75423\n",
       "4             01007              79076"
      ]
     },
     "execution_count": 9,
     "metadata": {},
     "output_type": "execute_result"
    }
   ],
   "source": [
    "dfincome = pd.read_csv('data/MedianZIP-3.csv',dtype={'Zip':str},usecols=['Zip','Median'])\n",
    "\n",
    "dfincome.Zip = dfincome.Zip.str.zfill(5)\n",
    "dfincome.Median = dfincome.Median.str.replace(',','').astype(int)\n",
    "dfincome = dfincome.rename(columns={'Zip':'provider_zip_code','Median':'zip_median_income'})\n",
    "\n",
    "dfincome.head()"
   ]
  },
  {
   "cell_type": "markdown",
   "metadata": {
    "collapsed": false
   },
   "source": [
    "Combines all into one dataframe and selects the relevant columns"
   ]
  },
  {
   "cell_type": "code",
   "execution_count": 10,
   "metadata": {
    "collapsed": false,
    "scrolled": true
   },
   "outputs": [
    {
     "name": "stdout",
     "output_type": "stream",
     "text": [
      "163065\n"
     ]
    },
    {
     "data": {
      "text/html": [
       "<div>\n",
       "<table border=\"1\" class=\"dataframe\">\n",
       "  <thead>\n",
       "    <tr style=\"text-align: right;\">\n",
       "      <th></th>\n",
       "      <th>drg_id</th>\n",
       "      <th>drg_definition</th>\n",
       "      <th>provider_id</th>\n",
       "      <th>provider_name</th>\n",
       "      <th>provider_street_address</th>\n",
       "      <th>provider_city</th>\n",
       "      <th>provider_state</th>\n",
       "      <th>provider_zip_code</th>\n",
       "      <th>hospital_referral_region_description</th>\n",
       "      <th>total_discharges</th>\n",
       "      <th>average_covered_charges</th>\n",
       "      <th>average_total_payments</th>\n",
       "      <th>average_medicare_payments</th>\n",
       "      <th>lat</th>\n",
       "      <th>lng</th>\n",
       "    </tr>\n",
       "  </thead>\n",
       "  <tbody>\n",
       "    <tr>\n",
       "      <th>0</th>\n",
       "      <td>039</td>\n",
       "      <td>039 - EXTRACRANIAL PROCEDURES W/O CC/MCC</td>\n",
       "      <td>10001</td>\n",
       "      <td>SOUTHEAST ALABAMA MEDICAL CENTER</td>\n",
       "      <td>1108 ROSS CLARK CIRCLE</td>\n",
       "      <td>DOTHAN</td>\n",
       "      <td>AL</td>\n",
       "      <td>36301</td>\n",
       "      <td>AL - Dothan</td>\n",
       "      <td>91.0</td>\n",
       "      <td>32963.07</td>\n",
       "      <td>5777.24</td>\n",
       "      <td>4763.73</td>\n",
       "      <td>31.216725</td>\n",
       "      <td>-85.363068</td>\n",
       "    </tr>\n",
       "    <tr>\n",
       "      <th>1</th>\n",
       "      <td>057</td>\n",
       "      <td>057 - DEGENERATIVE NERVOUS SYSTEM DISORDERS W/...</td>\n",
       "      <td>10001</td>\n",
       "      <td>SOUTHEAST ALABAMA MEDICAL CENTER</td>\n",
       "      <td>1108 ROSS CLARK CIRCLE</td>\n",
       "      <td>DOTHAN</td>\n",
       "      <td>AL</td>\n",
       "      <td>36301</td>\n",
       "      <td>AL - Dothan</td>\n",
       "      <td>38.0</td>\n",
       "      <td>20312.78</td>\n",
       "      <td>4894.76</td>\n",
       "      <td>3865.50</td>\n",
       "      <td>31.216725</td>\n",
       "      <td>-85.363068</td>\n",
       "    </tr>\n",
       "    <tr>\n",
       "      <th>2</th>\n",
       "      <td>064</td>\n",
       "      <td>064 - INTRACRANIAL HEMORRHAGE OR CEREBRAL INFA...</td>\n",
       "      <td>10001</td>\n",
       "      <td>SOUTHEAST ALABAMA MEDICAL CENTER</td>\n",
       "      <td>1108 ROSS CLARK CIRCLE</td>\n",
       "      <td>DOTHAN</td>\n",
       "      <td>AL</td>\n",
       "      <td>36301</td>\n",
       "      <td>AL - Dothan</td>\n",
       "      <td>84.0</td>\n",
       "      <td>38820.39</td>\n",
       "      <td>10260.21</td>\n",
       "      <td>9167.08</td>\n",
       "      <td>31.216725</td>\n",
       "      <td>-85.363068</td>\n",
       "    </tr>\n",
       "  </tbody>\n",
       "</table>\n",
       "</div>"
      ],
      "text/plain": [
       "  drg_id                                     drg_definition provider_id  \\\n",
       "0    039           039 - EXTRACRANIAL PROCEDURES W/O CC/MCC       10001   \n",
       "1    057  057 - DEGENERATIVE NERVOUS SYSTEM DISORDERS W/...       10001   \n",
       "2    064  064 - INTRACRANIAL HEMORRHAGE OR CEREBRAL INFA...       10001   \n",
       "\n",
       "                      provider_name provider_street_address provider_city  \\\n",
       "0  SOUTHEAST ALABAMA MEDICAL CENTER  1108 ROSS CLARK CIRCLE        DOTHAN   \n",
       "1  SOUTHEAST ALABAMA MEDICAL CENTER  1108 ROSS CLARK CIRCLE        DOTHAN   \n",
       "2  SOUTHEAST ALABAMA MEDICAL CENTER  1108 ROSS CLARK CIRCLE        DOTHAN   \n",
       "\n",
       "  provider_state provider_zip_code hospital_referral_region_description  \\\n",
       "0             AL             36301                          AL - Dothan   \n",
       "1             AL             36301                          AL - Dothan   \n",
       "2             AL             36301                          AL - Dothan   \n",
       "\n",
       "   total_discharges  average_covered_charges  average_total_payments  \\\n",
       "0              91.0                 32963.07                 5777.24   \n",
       "1              38.0                 20312.78                 4894.76   \n",
       "2              84.0                 38820.39                10260.21   \n",
       "\n",
       "   average_medicare_payments        lat        lng  \n",
       "0                    4763.73  31.216725 -85.363068  \n",
       "1                    3865.50  31.216725 -85.363068  \n",
       "2                    9167.08  31.216725 -85.363068  "
      ]
     },
     "execution_count": 10,
     "metadata": {},
     "output_type": "execute_result"
    }
   ],
   "source": [
    "#df['provider_city_state'] = df.provider_city + ', ' + df.provider_state\n",
    "\n",
    "dftot = df.merge(dfprovgeo, on='provider_id')\n",
    "#dftot = dftot.merge(dfins,on='provider_state')\n",
    "#dftot = dftot.merge(dfstates, on='provider_state')\n",
    "#dftot = dftot.merge(dfzip, on='provider_zip_code',how='left')\n",
    "#dftot = dftot.merge(dfcities, on=['provider_city_state'])\n",
    "#dftot = dftot.merge(dfincome, on='provider_zip_code')\n",
    "#dftot = dftot.drop([list(dftot.columns)[1]]+list(dftot.columns)[3:5]+list(dftot.columns)[11:13],axis=1)\n",
    "#dftot.head()\n",
    "#dftot.provider_id.nunique()\n",
    "print(len(dftot))\n",
    "dftot.head(3)"
   ]
  },
  {
   "cell_type": "markdown",
   "metadata": {},
   "source": [
    "Calculates the national median cost for each procedure"
   ]
  },
  {
   "cell_type": "code",
   "execution_count": 11,
   "metadata": {
    "collapsed": false,
    "scrolled": true
   },
   "outputs": [
    {
     "data": {
      "text/html": [
       "<div>\n",
       "<table border=\"1\" class=\"dataframe\">\n",
       "  <thead>\n",
       "    <tr style=\"text-align: right;\">\n",
       "      <th></th>\n",
       "      <th>drg_id</th>\n",
       "      <th>median_covered_charges</th>\n",
       "    </tr>\n",
       "  </thead>\n",
       "  <tbody>\n",
       "    <tr>\n",
       "      <th>0</th>\n",
       "      <td>039</td>\n",
       "      <td>26651.00</td>\n",
       "    </tr>\n",
       "    <tr>\n",
       "      <th>1</th>\n",
       "      <td>057</td>\n",
       "      <td>20453.05</td>\n",
       "    </tr>\n",
       "    <tr>\n",
       "      <th>2</th>\n",
       "      <td>064</td>\n",
       "      <td>40953.59</td>\n",
       "    </tr>\n",
       "    <tr>\n",
       "      <th>3</th>\n",
       "      <td>065</td>\n",
       "      <td>25151.47</td>\n",
       "    </tr>\n",
       "    <tr>\n",
       "      <th>4</th>\n",
       "      <td>066</td>\n",
       "      <td>19976.00</td>\n",
       "    </tr>\n",
       "  </tbody>\n",
       "</table>\n",
       "</div>"
      ],
      "text/plain": [
       "  drg_id  median_covered_charges\n",
       "0    039                26651.00\n",
       "1    057                20453.05\n",
       "2    064                40953.59\n",
       "3    065                25151.47\n",
       "4    066                19976.00"
      ]
     },
     "execution_count": 11,
     "metadata": {},
     "output_type": "execute_result"
    }
   ],
   "source": [
    "natmed = pd.DataFrame(dftot.groupby('drg_id',sort=False).average_covered_charges.median()).reset_index()\n",
    "natmed = natmed.rename(columns={'average_covered_charges':'median_covered_charges'})\n",
    "natmed.head()"
   ]
  },
  {
   "cell_type": "markdown",
   "metadata": {},
   "source": [
    "Adds a column that is the fractional difference in total charges from the national median (for that particular procedure) and a column classifying whether the fractional difference is above (True) or below (False) the national median."
   ]
  },
  {
   "cell_type": "code",
   "execution_count": 12,
   "metadata": {
    "collapsed": false,
    "scrolled": false
   },
   "outputs": [
    {
     "data": {
      "text/html": [
       "<div>\n",
       "<table border=\"1\" class=\"dataframe\">\n",
       "  <thead>\n",
       "    <tr style=\"text-align: right;\">\n",
       "      <th></th>\n",
       "      <th>drg_id</th>\n",
       "      <th>drg_definition</th>\n",
       "      <th>provider_id</th>\n",
       "      <th>provider_name</th>\n",
       "      <th>provider_street_address</th>\n",
       "      <th>provider_city</th>\n",
       "      <th>provider_state</th>\n",
       "      <th>provider_zip_code</th>\n",
       "      <th>hospital_referral_region_description</th>\n",
       "      <th>total_discharges</th>\n",
       "      <th>average_covered_charges</th>\n",
       "      <th>average_total_payments</th>\n",
       "      <th>average_medicare_payments</th>\n",
       "      <th>lat</th>\n",
       "      <th>lng</th>\n",
       "      <th>frac_diff</th>\n",
       "      <th>frac_diff_class</th>\n",
       "    </tr>\n",
       "  </thead>\n",
       "  <tbody>\n",
       "    <tr>\n",
       "      <th>0</th>\n",
       "      <td>039</td>\n",
       "      <td>039 - EXTRACRANIAL PROCEDURES W/O CC/MCC</td>\n",
       "      <td>10001</td>\n",
       "      <td>SOUTHEAST ALABAMA MEDICAL CENTER</td>\n",
       "      <td>1108 ROSS CLARK CIRCLE</td>\n",
       "      <td>DOTHAN</td>\n",
       "      <td>AL</td>\n",
       "      <td>36301</td>\n",
       "      <td>AL - Dothan</td>\n",
       "      <td>91.0</td>\n",
       "      <td>32963.07</td>\n",
       "      <td>5777.24</td>\n",
       "      <td>4763.73</td>\n",
       "      <td>31.216725</td>\n",
       "      <td>-85.363068</td>\n",
       "      <td>0.236842</td>\n",
       "      <td>True</td>\n",
       "    </tr>\n",
       "    <tr>\n",
       "      <th>1</th>\n",
       "      <td>057</td>\n",
       "      <td>057 - DEGENERATIVE NERVOUS SYSTEM DISORDERS W/...</td>\n",
       "      <td>10001</td>\n",
       "      <td>SOUTHEAST ALABAMA MEDICAL CENTER</td>\n",
       "      <td>1108 ROSS CLARK CIRCLE</td>\n",
       "      <td>DOTHAN</td>\n",
       "      <td>AL</td>\n",
       "      <td>36301</td>\n",
       "      <td>AL - Dothan</td>\n",
       "      <td>38.0</td>\n",
       "      <td>20312.78</td>\n",
       "      <td>4894.76</td>\n",
       "      <td>3865.50</td>\n",
       "      <td>31.216725</td>\n",
       "      <td>-85.363068</td>\n",
       "      <td>-0.006858</td>\n",
       "      <td>False</td>\n",
       "    </tr>\n",
       "    <tr>\n",
       "      <th>2</th>\n",
       "      <td>064</td>\n",
       "      <td>064 - INTRACRANIAL HEMORRHAGE OR CEREBRAL INFA...</td>\n",
       "      <td>10001</td>\n",
       "      <td>SOUTHEAST ALABAMA MEDICAL CENTER</td>\n",
       "      <td>1108 ROSS CLARK CIRCLE</td>\n",
       "      <td>DOTHAN</td>\n",
       "      <td>AL</td>\n",
       "      <td>36301</td>\n",
       "      <td>AL - Dothan</td>\n",
       "      <td>84.0</td>\n",
       "      <td>38820.39</td>\n",
       "      <td>10260.21</td>\n",
       "      <td>9167.08</td>\n",
       "      <td>31.216725</td>\n",
       "      <td>-85.363068</td>\n",
       "      <td>-0.052088</td>\n",
       "      <td>False</td>\n",
       "    </tr>\n",
       "  </tbody>\n",
       "</table>\n",
       "</div>"
      ],
      "text/plain": [
       "  drg_id                                     drg_definition provider_id  \\\n",
       "0    039           039 - EXTRACRANIAL PROCEDURES W/O CC/MCC       10001   \n",
       "1    057  057 - DEGENERATIVE NERVOUS SYSTEM DISORDERS W/...       10001   \n",
       "2    064  064 - INTRACRANIAL HEMORRHAGE OR CEREBRAL INFA...       10001   \n",
       "\n",
       "                      provider_name provider_street_address provider_city  \\\n",
       "0  SOUTHEAST ALABAMA MEDICAL CENTER  1108 ROSS CLARK CIRCLE        DOTHAN   \n",
       "1  SOUTHEAST ALABAMA MEDICAL CENTER  1108 ROSS CLARK CIRCLE        DOTHAN   \n",
       "2  SOUTHEAST ALABAMA MEDICAL CENTER  1108 ROSS CLARK CIRCLE        DOTHAN   \n",
       "\n",
       "  provider_state provider_zip_code hospital_referral_region_description  \\\n",
       "0             AL             36301                          AL - Dothan   \n",
       "1             AL             36301                          AL - Dothan   \n",
       "2             AL             36301                          AL - Dothan   \n",
       "\n",
       "   total_discharges  average_covered_charges  average_total_payments  \\\n",
       "0              91.0                 32963.07                 5777.24   \n",
       "1              38.0                 20312.78                 4894.76   \n",
       "2              84.0                 38820.39                10260.21   \n",
       "\n",
       "   average_medicare_payments        lat        lng  frac_diff frac_diff_class  \n",
       "0                    4763.73  31.216725 -85.363068   0.236842            True  \n",
       "1                    3865.50  31.216725 -85.363068  -0.006858           False  \n",
       "2                    9167.08  31.216725 -85.363068  -0.052088           False  "
      ]
     },
     "execution_count": 12,
     "metadata": {},
     "output_type": "execute_result"
    }
   ],
   "source": [
    "procedures=dftot.drg_id.unique()\n",
    "\n",
    "for i in procedures:    \n",
    "    med = natmed.loc[natmed.drg_id == i,'median_covered_charges'].iloc[0]\n",
    "    dftot.loc[dftot.drg_id == i,'frac_diff'] = dftot.loc[dftot.drg_id == i,'average_covered_charges']/med - 1.0\n",
    "\n",
    "dftot['frac_diff_class'] = dftot.frac_diff >= 0.0\n",
    "\n",
    "dftot.head(3)"
   ]
  },
  {
   "cell_type": "code",
   "execution_count": 13,
   "metadata": {
    "collapsed": false,
    "scrolled": true
   },
   "outputs": [
    {
     "data": {
      "text/plain": [
       "frac_diff_class\n",
       "False    81506\n",
       "True     81559\n",
       "dtype: int64"
      ]
     },
     "execution_count": 13,
     "metadata": {},
     "output_type": "execute_result"
    }
   ],
   "source": [
    "dftot.groupby('frac_diff_class').size()"
   ]
  },
  {
   "cell_type": "markdown",
   "metadata": {
    "collapsed": false
   },
   "source": [
    "For each provider, calculates the number of other providers within a 40 mile radius (Takes around 3.5 minutes to run)"
   ]
  },
  {
   "cell_type": "code",
   "execution_count": 14,
   "metadata": {
    "collapsed": true
   },
   "outputs": [],
   "source": [
    "from geopy.distance import vincenty\n",
    "import time"
   ]
  },
  {
   "cell_type": "code",
   "execution_count": 15,
   "metadata": {
    "collapsed": false,
    "scrolled": false
   },
   "outputs": [
    {
     "name": "stdout",
     "output_type": "stream",
     "text": [
      "1000\n",
      "2000\n",
      "3000\n",
      "CPU times: user 3min 44s, sys: 8 ms, total: 3min 44s\n",
      "Wall time: 3min 44s\n"
     ]
    }
   ],
   "source": [
    "%%time\n",
    "dfprovgeo['n_hosp'] = 0.0\n",
    "\n",
    "pts = [dfprovgeo.lat,dfprovgeo.lng]\n",
    "pts = list(list(x) for x in zip(*pts))\n",
    "i=0\n",
    "\n",
    "for index, row in dfprovgeo[['lat','lng']].iterrows():\n",
    "    count = 0\n",
    "    pt1 = [row.lat,row.lng]\n",
    "    \n",
    "    for pt in pts:\n",
    "        dist = vincenty(pt1, pt).miles\n",
    "        if dist < 40 and dist > 0:\n",
    "            count +=1\n",
    "            \n",
    "    dfprovgeo.loc[index,'n_hosp'] = count\n",
    "    i+=1\n",
    "    if i % 1000 == 0: print(i)"
   ]
  },
  {
   "cell_type": "code",
   "execution_count": 16,
   "metadata": {
    "collapsed": false,
    "scrolled": true
   },
   "outputs": [
    {
     "data": {
      "text/html": [
       "<div>\n",
       "<table border=\"1\" class=\"dataframe\">\n",
       "  <thead>\n",
       "    <tr style=\"text-align: right;\">\n",
       "      <th></th>\n",
       "      <th>provider_id</th>\n",
       "      <th>lat</th>\n",
       "      <th>lng</th>\n",
       "      <th>n_hosp</th>\n",
       "    </tr>\n",
       "  </thead>\n",
       "  <tbody>\n",
       "    <tr>\n",
       "      <th>0</th>\n",
       "      <td>10001</td>\n",
       "      <td>31.216725</td>\n",
       "      <td>-85.363068</td>\n",
       "      <td>6.0</td>\n",
       "    </tr>\n",
       "    <tr>\n",
       "      <th>1</th>\n",
       "      <td>10005</td>\n",
       "      <td>34.221556</td>\n",
       "      <td>-86.159441</td>\n",
       "      <td>8.0</td>\n",
       "    </tr>\n",
       "    <tr>\n",
       "      <th>2</th>\n",
       "      <td>10006</td>\n",
       "      <td>34.793845</td>\n",
       "      <td>-87.683155</td>\n",
       "      <td>8.0</td>\n",
       "    </tr>\n",
       "    <tr>\n",
       "      <th>3</th>\n",
       "      <td>10011</td>\n",
       "      <td>33.596457</td>\n",
       "      <td>-86.667650</td>\n",
       "      <td>12.0</td>\n",
       "    </tr>\n",
       "    <tr>\n",
       "      <th>4</th>\n",
       "      <td>10016</td>\n",
       "      <td>33.252444</td>\n",
       "      <td>-86.813555</td>\n",
       "      <td>11.0</td>\n",
       "    </tr>\n",
       "  </tbody>\n",
       "</table>\n",
       "</div>"
      ],
      "text/plain": [
       "  provider_id        lat        lng  n_hosp\n",
       "0       10001  31.216725 -85.363068     6.0\n",
       "1       10005  34.221556 -86.159441     8.0\n",
       "2       10006  34.793845 -87.683155     8.0\n",
       "3       10011  33.596457 -86.667650    12.0\n",
       "4       10016  33.252444 -86.813555    11.0"
      ]
     },
     "execution_count": 16,
     "metadata": {},
     "output_type": "execute_result"
    }
   ],
   "source": [
    "dfprovgeo.head()"
   ]
  },
  {
   "cell_type": "code",
   "execution_count": 17,
   "metadata": {
    "collapsed": false
   },
   "outputs": [],
   "source": [
    "dftot = dftot.merge(dfprovgeo[['provider_id','n_hosp']], on='provider_id')"
   ]
  },
  {
   "cell_type": "code",
   "execution_count": 18,
   "metadata": {
    "collapsed": false
   },
   "outputs": [
    {
     "data": {
      "text/html": [
       "<div>\n",
       "<table border=\"1\" class=\"dataframe\">\n",
       "  <thead>\n",
       "    <tr style=\"text-align: right;\">\n",
       "      <th></th>\n",
       "      <th>drg_id</th>\n",
       "      <th>drg_definition</th>\n",
       "      <th>provider_id</th>\n",
       "      <th>provider_name</th>\n",
       "      <th>provider_street_address</th>\n",
       "      <th>provider_city</th>\n",
       "      <th>provider_state</th>\n",
       "      <th>provider_zip_code</th>\n",
       "      <th>hospital_referral_region_description</th>\n",
       "      <th>total_discharges</th>\n",
       "      <th>average_covered_charges</th>\n",
       "      <th>average_total_payments</th>\n",
       "      <th>average_medicare_payments</th>\n",
       "      <th>lat</th>\n",
       "      <th>lng</th>\n",
       "      <th>frac_diff</th>\n",
       "      <th>frac_diff_class</th>\n",
       "      <th>n_hosp</th>\n",
       "    </tr>\n",
       "  </thead>\n",
       "  <tbody>\n",
       "    <tr>\n",
       "      <th>0</th>\n",
       "      <td>039</td>\n",
       "      <td>039 - EXTRACRANIAL PROCEDURES W/O CC/MCC</td>\n",
       "      <td>10001</td>\n",
       "      <td>SOUTHEAST ALABAMA MEDICAL CENTER</td>\n",
       "      <td>1108 ROSS CLARK CIRCLE</td>\n",
       "      <td>DOTHAN</td>\n",
       "      <td>AL</td>\n",
       "      <td>36301</td>\n",
       "      <td>AL - Dothan</td>\n",
       "      <td>91.0</td>\n",
       "      <td>32963.07</td>\n",
       "      <td>5777.24</td>\n",
       "      <td>4763.73</td>\n",
       "      <td>31.216725</td>\n",
       "      <td>-85.363068</td>\n",
       "      <td>0.236842</td>\n",
       "      <td>True</td>\n",
       "      <td>6.0</td>\n",
       "    </tr>\n",
       "    <tr>\n",
       "      <th>1</th>\n",
       "      <td>057</td>\n",
       "      <td>057 - DEGENERATIVE NERVOUS SYSTEM DISORDERS W/...</td>\n",
       "      <td>10001</td>\n",
       "      <td>SOUTHEAST ALABAMA MEDICAL CENTER</td>\n",
       "      <td>1108 ROSS CLARK CIRCLE</td>\n",
       "      <td>DOTHAN</td>\n",
       "      <td>AL</td>\n",
       "      <td>36301</td>\n",
       "      <td>AL - Dothan</td>\n",
       "      <td>38.0</td>\n",
       "      <td>20312.78</td>\n",
       "      <td>4894.76</td>\n",
       "      <td>3865.50</td>\n",
       "      <td>31.216725</td>\n",
       "      <td>-85.363068</td>\n",
       "      <td>-0.006858</td>\n",
       "      <td>False</td>\n",
       "      <td>6.0</td>\n",
       "    </tr>\n",
       "    <tr>\n",
       "      <th>2</th>\n",
       "      <td>064</td>\n",
       "      <td>064 - INTRACRANIAL HEMORRHAGE OR CEREBRAL INFA...</td>\n",
       "      <td>10001</td>\n",
       "      <td>SOUTHEAST ALABAMA MEDICAL CENTER</td>\n",
       "      <td>1108 ROSS CLARK CIRCLE</td>\n",
       "      <td>DOTHAN</td>\n",
       "      <td>AL</td>\n",
       "      <td>36301</td>\n",
       "      <td>AL - Dothan</td>\n",
       "      <td>84.0</td>\n",
       "      <td>38820.39</td>\n",
       "      <td>10260.21</td>\n",
       "      <td>9167.08</td>\n",
       "      <td>31.216725</td>\n",
       "      <td>-85.363068</td>\n",
       "      <td>-0.052088</td>\n",
       "      <td>False</td>\n",
       "      <td>6.0</td>\n",
       "    </tr>\n",
       "  </tbody>\n",
       "</table>\n",
       "</div>"
      ],
      "text/plain": [
       "  drg_id                                     drg_definition provider_id  \\\n",
       "0    039           039 - EXTRACRANIAL PROCEDURES W/O CC/MCC       10001   \n",
       "1    057  057 - DEGENERATIVE NERVOUS SYSTEM DISORDERS W/...       10001   \n",
       "2    064  064 - INTRACRANIAL HEMORRHAGE OR CEREBRAL INFA...       10001   \n",
       "\n",
       "                      provider_name provider_street_address provider_city  \\\n",
       "0  SOUTHEAST ALABAMA MEDICAL CENTER  1108 ROSS CLARK CIRCLE        DOTHAN   \n",
       "1  SOUTHEAST ALABAMA MEDICAL CENTER  1108 ROSS CLARK CIRCLE        DOTHAN   \n",
       "2  SOUTHEAST ALABAMA MEDICAL CENTER  1108 ROSS CLARK CIRCLE        DOTHAN   \n",
       "\n",
       "  provider_state provider_zip_code hospital_referral_region_description  \\\n",
       "0             AL             36301                          AL - Dothan   \n",
       "1             AL             36301                          AL - Dothan   \n",
       "2             AL             36301                          AL - Dothan   \n",
       "\n",
       "   total_discharges  average_covered_charges  average_total_payments  \\\n",
       "0              91.0                 32963.07                 5777.24   \n",
       "1              38.0                 20312.78                 4894.76   \n",
       "2              84.0                 38820.39                10260.21   \n",
       "\n",
       "   average_medicare_payments        lat        lng  frac_diff frac_diff_class  \\\n",
       "0                    4763.73  31.216725 -85.363068   0.236842            True   \n",
       "1                    3865.50  31.216725 -85.363068  -0.006858           False   \n",
       "2                    9167.08  31.216725 -85.363068  -0.052088           False   \n",
       "\n",
       "   n_hosp  \n",
       "0     6.0  \n",
       "1     6.0  \n",
       "2     6.0  "
      ]
     },
     "execution_count": 18,
     "metadata": {},
     "output_type": "execute_result"
    }
   ],
   "source": [
    "dftot.head(3)"
   ]
  },
  {
   "cell_type": "markdown",
   "metadata": {},
   "source": [
    "Random Forest Classifier using entire dataset trying to predict whether a given procedure at a provider will be above or below the national median."
   ]
  },
  {
   "cell_type": "markdown",
   "metadata": {},
   "source": [
    "Selects the variables for X and y for the random forest classifier."
   ]
  },
  {
   "cell_type": "code",
   "execution_count": 19,
   "metadata": {
    "collapsed": false
   },
   "outputs": [
    {
     "data": {
      "text/html": [
       "<div>\n",
       "<table border=\"1\" class=\"dataframe\">\n",
       "  <thead>\n",
       "    <tr style=\"text-align: right;\">\n",
       "      <th></th>\n",
       "      <th>lat</th>\n",
       "      <th>lng</th>\n",
       "    </tr>\n",
       "  </thead>\n",
       "  <tbody>\n",
       "    <tr>\n",
       "      <th>0</th>\n",
       "      <td>31.216725</td>\n",
       "      <td>-85.363068</td>\n",
       "    </tr>\n",
       "    <tr>\n",
       "      <th>1</th>\n",
       "      <td>31.216725</td>\n",
       "      <td>-85.363068</td>\n",
       "    </tr>\n",
       "    <tr>\n",
       "      <th>2</th>\n",
       "      <td>31.216725</td>\n",
       "      <td>-85.363068</td>\n",
       "    </tr>\n",
       "    <tr>\n",
       "      <th>3</th>\n",
       "      <td>31.216725</td>\n",
       "      <td>-85.363068</td>\n",
       "    </tr>\n",
       "    <tr>\n",
       "      <th>4</th>\n",
       "      <td>31.216725</td>\n",
       "      <td>-85.363068</td>\n",
       "    </tr>\n",
       "  </tbody>\n",
       "</table>\n",
       "</div>"
      ],
      "text/plain": [
       "         lat        lng\n",
       "0  31.216725 -85.363068\n",
       "1  31.216725 -85.363068\n",
       "2  31.216725 -85.363068\n",
       "3  31.216725 -85.363068\n",
       "4  31.216725 -85.363068"
      ]
     },
     "execution_count": 19,
     "metadata": {},
     "output_type": "execute_result"
    }
   ],
   "source": [
    "inx = ['lat','lng']#'provider_city']#,'zip_pop2010_density','zip_population2010','zip_median_income']#,'provider_id']#['lat','lng']#\n",
    "dfX = dftot.loc[:,inx]#zip_population2010']]\n",
    "dfY = dftot.loc[:,'frac_diff_class']\n",
    "\n",
    "dfX.head()"
   ]
  },
  {
   "cell_type": "code",
   "execution_count": null,
   "metadata": {
    "collapsed": false
   },
   "outputs": [],
   "source": [
    "# dfX = pd.get_dummies(dfX, columns=['drg_id'], dummy_na=True)\n",
    "# dfX.head()"
   ]
  },
  {
   "cell_type": "markdown",
   "metadata": {},
   "source": [
    "Does the test-train split and runs the RFC on the training set. It then calculates the R^2 score using the model to predict the test set."
   ]
  },
  {
   "cell_type": "code",
   "execution_count": 20,
   "metadata": {
    "collapsed": false,
    "scrolled": false
   },
   "outputs": [
    {
     "data": {
      "text/plain": [
       "0.87577959709318365"
      ]
     },
     "execution_count": 20,
     "metadata": {},
     "output_type": "execute_result"
    }
   ],
   "source": [
    "rf = RandomForestClassifier(n_jobs=-1)\n",
    "#rf.n_estimators=10\n",
    "\n",
    "X_train, X_test, y_train, y_test = train_test_split(dfX, dfY, train_size=2./3)\n",
    "\n",
    "rf.fit(X_train,y_train)\n",
    "\n",
    "y_train_pred = rf.predict(X_train)\n",
    "y_test_pred = rf.predict(X_test)\n",
    "\n",
    "rf.score(X_test,y_test)"
   ]
  },
  {
   "cell_type": "code",
   "execution_count": 21,
   "metadata": {
    "collapsed": true
   },
   "outputs": [],
   "source": [
    "def plot_confusion_matrix(cm, title='Confusion matrix', cmap=plt.cm.Blues):\n",
    "    plt.imshow(cm, interpolation='nearest', cmap=cmap)\n",
    "    plt.title(title)\n",
    "    plt.colorbar()\n",
    "    tick_marks = np.arange(2)\n",
    "    tick_label = ['f < 0','f > 0']\n",
    "    plt.xticks(tick_marks, tick_label, rotation=45)\n",
    "    plt.yticks(tick_marks, tick_label)\n",
    "    plt.tight_layout()\n",
    "    plt.ylabel('True label')\n",
    "    plt.xlabel('Predicted label')"
   ]
  },
  {
   "cell_type": "markdown",
   "metadata": {},
   "source": [
    "Plots the confusion matrix comparing the predicted label to the true label."
   ]
  },
  {
   "cell_type": "code",
   "execution_count": 22,
   "metadata": {
    "collapsed": false,
    "scrolled": false
   },
   "outputs": [
    {
     "name": "stdout",
     "output_type": "stream",
     "text": [
      "Confusion matrix\n",
      "[[23754  3327]\n",
      " [ 3425 23849]]\n",
      "Normalized confusion matrix\n",
      "[[ 0.87714634  0.12285366]\n",
      " [ 0.12557747  0.87442253]]\n"
     ]
    },
    {
     "data": {
      "image/png": "[encoded data removed]",
      "text/plain": [
       "<matplotlib.figure.Figure at 0x7f83338a1978>"
      ]
     },
     "metadata": {},
     "output_type": "display_data"
    },
    {
     "data": {
      "image/png": "[encoded data removed]",
      "text/plain": [
       "<matplotlib.figure.Figure at 0x7f83338b6198>"
      ]
     },
     "metadata": {},
     "output_type": "display_data"
    }
   ],
   "source": [
    "cm = mt.confusion_matrix(y_test, y_test_pred)\n",
    "\n",
    "print('Confusion matrix')\n",
    "print(cm)\n",
    "\n",
    "cm_normalized = cm.astype('float') / cm.sum(axis=1)[:, np.newaxis]\n",
    "print('Normalized confusion matrix')\n",
    "print(cm_normalized)\n",
    "\n",
    "\n",
    "plt.figure()\n",
    "plot_confusion_matrix(cm,title='Confusion matrix, without normalization')\n",
    "plt.figure()\n",
    "plot_confusion_matrix(cm_normalized, title='Normalized confusion matrix')"
   ]
  },
  {
   "cell_type": "markdown",
   "metadata": {},
   "source": [
    "Plots the ROC curve and calculates the AUC score for the RFR model."
   ]
  },
  {
   "cell_type": "code",
   "execution_count": 23,
   "metadata": {
    "collapsed": false,
    "scrolled": false
   },
   "outputs": [
    {
     "name": "stdout",
     "output_type": "stream",
     "text": [
      "AUC Score = 0.949496112679\n"
     ]
    },
    {
     "data": {
      "image/png": "[encoded data removed]",
      "text/plain": [
       "<matplotlib.figure.Figure at 0x7f83337a5d68>"
      ]
     },
     "metadata": {},
     "output_type": "display_data"
    }
   ],
   "source": [
    "y_score = rf.predict_proba(X_test)[:,1]\n",
    "\n",
    "print('AUC Score =',mt.roc_auc_score(y_test, y_score))\n",
    "fpr, tpr, thresholds = mt.roc_curve(y_test,y_score)\n",
    "plt.figure()\n",
    "plt.plot(fpr,tpr)\n",
    "plt.xlabel('False Positive Rate')\n",
    "plt.ylabel('True Positive Rate');"
   ]
  },
  {
   "cell_type": "markdown",
   "metadata": {
    "collapsed": false
   },
   "source": [
    "Adding in other variables such as the population and median income by zip code seemed to have no significant effect. I also calculated the number of other providers within 40 miles of each provider, but adding that variable had no effect as well.\n",
    "\n",
    "I also found that I get the same results with just the provider_id tag as the input X using pandas’ get_dummies to convert the variable to an indicator variable rather than numerical value. This makes me think that the GPS coordinates are essentially acting as an indicator for the specific provider rather than giving any useful information as far as relative position to other hospitals."
   ]
  },
  {
   "cell_type": "code",
   "execution_count": null,
   "metadata": {
    "collapsed": true
   },
   "outputs": [],
   "source": []
  }
 ],
 "metadata": {
  "anaconda-cloud": {},
  "kernelspec": {
   "display_name": "Python [default]",
   "language": "python",
   "name": "python3"
  },
  "language_info": {
   "codemirror_mode": {
    "name": "ipython",
    "version": 3
   },
   "file_extension": ".py",
   "mimetype": "text/x-python",
   "name": "python",
   "nbconvert_exporter": "python",
   "pygments_lexer": "ipython3",
   "version": "3.5.2"
  }
 },
 "nbformat": 4,
 "nbformat_minor": 0
}
