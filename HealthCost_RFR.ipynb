{
 "cells": [
  {
   "cell_type": "code",
   "execution_count": null,
   "metadata": {
    "collapsed": true
   },
   "outputs": [],
   "source": [
    "import pandas as pd\n",
    "import numpy as np\n",
    "import matplotlib.pyplot as plt"
   ]
  },
  {
   "cell_type": "code",
   "execution_count": null,
   "metadata": {
    "collapsed": true
   },
   "outputs": [],
   "source": [
    "%matplotlib inline"
   ]
  },
  {
   "cell_type": "code",
   "execution_count": null,
   "metadata": {
    "collapsed": false
   },
   "outputs": [],
   "source": [
    "from sklearn.linear_model import LinearRegression,LogisticRegression\n",
    "from sklearn.ensemble import RandomForestRegressor, RandomForestClassifier\n",
    "from sklearn.cross_validation import train_test_split\n",
    "from sklearn.preprocessing import LabelEncoder, OneHotEncoder, scale\n",
    "from sklearn import metrics as mt # mean_squared_error, confusion_matrix, roc_auc_score\n",
    "from sklearn.neighbors import NearestNeighbors"
   ]
  },
  {
   "cell_type": "markdown",
   "metadata": {
    "collapsed": true
   },
   "source": [
    "Imports the cleaned data set (from HealthCost_data_cleaning notebook)"
   ]
  },
  {
   "cell_type": "code",
   "execution_count": null,
   "metadata": {
    "collapsed": false,
    "scrolled": false
   },
   "outputs": [],
   "source": [
    "df=pd.read_csv('data/IPPS_Data_Clean.csv', \\\n",
    "               dtype={'provider_id':str,'provider_zip_code':str, 'drg_id':str,'total_discharges':float})\n",
    "\n",
    "#df['provider_city_state'] = df.provider_city + ', ' + df.provider_state\n",
    "df.head(3)"
   ]
  },
  {
   "cell_type": "markdown",
   "metadata": {},
   "source": [
    "GPS locations of every unique provider."
   ]
  },
  {
   "cell_type": "code",
   "execution_count": null,
   "metadata": {
    "collapsed": false,
    "scrolled": false
   },
   "outputs": [],
   "source": [
    "dfprovgeo=pd.read_csv('data/Providers_Geocode.csv',usecols=['provider_id','lat','lng'],dtype={'provider_id':str})\n",
    "dfprovgeo.head(3)"
   ]
  },
  {
   "cell_type": "markdown",
   "metadata": {},
   "source": [
    "Percentage of uninsured by state (2013)"
   ]
  },
  {
   "cell_type": "code",
   "execution_count": null,
   "metadata": {
    "collapsed": false
   },
   "outputs": [],
   "source": [
    "dfins = pd.read_csv('data/InsuranceCoverage_Adults19-64.csv',usecols=['Location','Uninsured'])#,encoding='Latin')\n",
    "dfins=dfins[1:].reset_index(drop=True)#.head()\n",
    "\n",
    "# Dataframe that lists states and their abbreviations for mapping\n",
    "abbrev = pd.read_csv('data/states.csv').rename(columns={'State':'Location','Abbreviation':'provider_state'})\n",
    "dfins = dfins.merge(abbrev,on ='Location')[['provider_state','Uninsured']]\n",
    "dfins.head(3)"
   ]
  },
  {
   "cell_type": "markdown",
   "metadata": {},
   "source": [
    "Population by state dataframe (Census.gov)"
   ]
  },
  {
   "cell_type": "code",
   "execution_count": null,
   "metadata": {
    "collapsed": false,
    "scrolled": true
   },
   "outputs": [],
   "source": [
    "dfstates=pd.read_csv('data/NST-EST2015-alldata.csv',usecols=['NAME','POPESTIMATE2011'])#,dtype={'POPESTIMATE2011':float})\n",
    "dfstates = dfstates[5:56].reset_index(drop=True)\n",
    "\n",
    "# Dataframe that lists states and their abbreviations for mapping\n",
    "abbrev = pd.read_csv('data/states.csv').rename(columns={'State':'NAME','Abbreviation':'provider_state'})\n",
    "\n",
    "dfstates = dfstates.merge(abbrev,on ='NAME')\n",
    "dfstates = dfstates[['provider_state','POPESTIMATE2011']]#,'RBIRTH2011','RDEATH2011']]\n",
    "dfstates = dfstates.rename(columns={'POPESTIMATE2011':'state_population2011'})\n",
    "\n",
    "dfstates.head(3)"
   ]
  },
  {
   "cell_type": "markdown",
   "metadata": {
    "collapsed": false
   },
   "source": [
    "Population by zip code dataframe (http://notnullhypothesis.com/2010-census-data-by-zip-code-population/)"
   ]
  },
  {
   "cell_type": "code",
   "execution_count": null,
   "metadata": {
    "collapsed": false,
    "scrolled": true
   },
   "outputs": [],
   "source": [
    "#dfzip = pd.read_csv('2010CensusPopulationData.csv',usecols=['Zip','Population'],dtype={'Zip':str})\n",
    "dfzip = pd.read_csv('data/Zipcode-ZCTA-Population-Density-And-Area-Unsorted.csv', \\\n",
    "                   dtype={'Zip':str},usecols=['Zip','2010 Population','Density Per Sq Mile'])\n",
    "dfzip.Zip = dfzip.Zip.str.zfill(5)\n",
    "dfzip = dfzip.rename(columns = {'Zip':'provider_zip_code','2010 Population':'zip_population2010', \\\n",
    "                               'Density Per Sq Mile':'zip_pop2010_density'})\n",
    "dfzip.head()"
   ]
  },
  {
   "cell_type": "markdown",
   "metadata": {},
   "source": [
    "Median income by zipcode (http://www.psc.isr.umich.edu/dis/census/Features/tract2zip/)"
   ]
  },
  {
   "cell_type": "code",
   "execution_count": null,
   "metadata": {
    "collapsed": false
   },
   "outputs": [],
   "source": [
    "dfincome = pd.read_csv('data/MedianZIP-3.csv',dtype={'Zip':str},usecols=['Zip','Median'])\n",
    "\n",
    "dfincome.Zip = dfincome.Zip.str.zfill(5)\n",
    "dfincome.Median = dfincome.Median.str.replace(',','').astype(int)\n",
    "dfincome = dfincome.rename(columns={'Zip':'provider_zip_code','Median':'zip_median_income'})\n",
    "\n",
    "dfincome.head()"
   ]
  },
  {
   "cell_type": "markdown",
   "metadata": {
    "collapsed": false
   },
   "source": [
    "Combines all into one dataframe and selects the relevant columns"
   ]
  },
  {
   "cell_type": "code",
   "execution_count": null,
   "metadata": {
    "collapsed": false,
    "scrolled": true
   },
   "outputs": [],
   "source": [
    "#df['provider_city_state'] = df.provider_city + ', ' + df.provider_state\n",
    "\n",
    "dftot = df.merge(dfprovgeo, on='provider_id')\n",
    "#dftot = dftot.merge(dfins,on='provider_state')\n",
    "#dftot = dftot.merge(dfstates, on='provider_state')\n",
    "#dftot = dftot.merge(dfzip, on='provider_zip_code',how='left')\n",
    "#dftot = dftot.merge(dfcities, on=['provider_city_state'])\n",
    "#dftot = dftot.merge(dfincome, on='provider_zip_code')\n",
    "#dftot = dftot.drop([list(dftot.columns)[1]]+list(dftot.columns)[3:5]+list(dftot.columns)[11:13],axis=1)\n",
    "#dftot.head()\n",
    "#dftot.provider_id.nunique()\n",
    "print(len(dftot))\n",
    "dftot.head(3)"
   ]
  },
  {
   "cell_type": "markdown",
   "metadata": {},
   "source": [
    "Calculates the national median cost for each procedure"
   ]
  },
  {
   "cell_type": "code",
   "execution_count": null,
   "metadata": {
    "collapsed": false,
    "scrolled": true
   },
   "outputs": [],
   "source": [
    "natmed = pd.DataFrame(dftot.groupby('drg_id',sort=False).average_covered_charges.median()).reset_index()\n",
    "natmed = natmed.rename(columns={'average_covered_charges':'median_covered_charges'})\n",
    "natmed.head()"
   ]
  },
  {
   "cell_type": "markdown",
   "metadata": {},
   "source": [
    "Adds a column that is the fractional difference in total charges from the national median (for that particular procedure) and a column classifying whether the fractional difference is above (True) or below (False) the national median."
   ]
  },
  {
   "cell_type": "code",
   "execution_count": null,
   "metadata": {
    "collapsed": false,
    "scrolled": false
   },
   "outputs": [],
   "source": [
    "procedures=dftot.drg_id.unique()\n",
    "\n",
    "for i in procedures:    \n",
    "    med = natmed.loc[natmed.drg_id == i,'median_covered_charges'].iloc[0]\n",
    "    dftot.loc[dftot.drg_id == i,'frac_diff'] = dftot.loc[dftot.drg_id == i,'average_covered_charges']/med - 1.0\n",
    "\n",
    "dftot['frac_diff_class'] = dftot.frac_diff >= 0.0\n",
    "\n",
    "dftot.head(3)"
   ]
  },
  {
   "cell_type": "code",
   "execution_count": null,
   "metadata": {
    "collapsed": false,
    "scrolled": true
   },
   "outputs": [],
   "source": [
    "dftot.groupby('frac_diff_class').size()"
   ]
  },
  {
   "cell_type": "markdown",
   "metadata": {
    "collapsed": false
   },
   "source": [
    "For each provider, calculates the number of other providers within a 40 mile radius (Takes around 3.5 minutes to run)"
   ]
  },
  {
   "cell_type": "code",
   "execution_count": null,
   "metadata": {
    "collapsed": true
   },
   "outputs": [],
   "source": [
    "from geopy.distance import vincenty\n",
    "import time"
   ]
  },
  {
   "cell_type": "code",
   "execution_count": null,
   "metadata": {
    "collapsed": false,
    "scrolled": false
   },
   "outputs": [],
   "source": [
    "%%time\n",
    "dfprovgeo['n_hosp'] = 0.0\n",
    "\n",
    "pts = [dfprovgeo.lat,dfprovgeo.lng]\n",
    "pts = list(list(x) for x in zip(*pts))\n",
    "i=0\n",
    "\n",
    "for index, row in dfprovgeo[['lat','lng']].iterrows():\n",
    "    count = 0\n",
    "    pt1 = [row.lat,row.lng]\n",
    "    \n",
    "    for pt in pts:\n",
    "        dist = vincenty(pt1, pt).miles\n",
    "        if dist < 40 and dist > 0:\n",
    "            count +=1\n",
    "            \n",
    "    dfprovgeo.loc[index,'n_hosp'] = count\n",
    "    i+=1\n",
    "    if i % 1000 == 0: print(i)"
   ]
  },
  {
   "cell_type": "code",
   "execution_count": null,
   "metadata": {
    "collapsed": false,
    "scrolled": true
   },
   "outputs": [],
   "source": [
    "dfprovgeo.head()"
   ]
  },
  {
   "cell_type": "code",
   "execution_count": null,
   "metadata": {
    "collapsed": false
   },
   "outputs": [],
   "source": [
    "dftot = dftot.merge(dfprovgeo[['provider_id','n_hosp']], on='provider_id')"
   ]
  },
  {
   "cell_type": "code",
   "execution_count": null,
   "metadata": {
    "collapsed": false
   },
   "outputs": [],
   "source": [
    "dftot.head(3)"
   ]
  },
  {
   "cell_type": "markdown",
   "metadata": {},
   "source": [
    "Random Forest Classifier using entire dataset trying to predict whether a given procedure at a provider will be above or below the national median."
   ]
  },
  {
   "cell_type": "markdown",
   "metadata": {},
   "source": [
    "Selects the variables for X and y for the random forest classifier."
   ]
  },
  {
   "cell_type": "code",
   "execution_count": null,
   "metadata": {
    "collapsed": false
   },
   "outputs": [],
   "source": [
    "inx = ['lat','lng']#'provider_city']#,'zip_pop2010_density','zip_population2010','zip_median_income']#,'provider_id']#['lat','lng']#\n",
    "dfX = dftot.loc[:,inx]#zip_population2010']]\n",
    "dfY = dftot.loc[:,'frac_diff_class']\n",
    "\n",
    "dfX.head()"
   ]
  },
  {
   "cell_type": "code",
   "execution_count": null,
   "metadata": {
    "collapsed": false
   },
   "outputs": [],
   "source": [
    "# dfX = pd.get_dummies(dfX, columns=['drg_id'], dummy_na=True)\n",
    "# dfX.head()"
   ]
  },
  {
   "cell_type": "markdown",
   "metadata": {},
   "source": [
    "Does the test-train split and runs the RFC on the training set. It then calculates the R^2 score using the model to predict the test set."
   ]
  },
  {
   "cell_type": "code",
   "execution_count": null,
   "metadata": {
    "collapsed": false,
    "scrolled": false
   },
   "outputs": [],
   "source": [
    "rf = RandomForestClassifier(n_jobs=-1)\n",
    "#rf.n_estimators=10\n",
    "\n",
    "X_train, X_test, y_train, y_test = train_test_split(dfX, dfY, train_size=2./3)\n",
    "\n",
    "rf.fit(X_train,y_train)\n",
    "\n",
    "y_train_pred = rf.predict(X_train)\n",
    "y_test_pred = rf.predict(X_test)\n",
    "\n",
    "rf.score(X_test,y_test)"
   ]
  },
  {
   "cell_type": "code",
   "execution_count": null,
   "metadata": {
    "collapsed": true
   },
   "outputs": [],
   "source": [
    "def plot_confusion_matrix(cm, title='Confusion matrix', cmap=plt.cm.Blues):\n",
    "    plt.imshow(cm, interpolation='nearest', cmap=cmap)\n",
    "    plt.title(title)\n",
    "    plt.colorbar()\n",
    "    tick_marks = np.arange(2)\n",
    "    tick_label = ['f < 0','f > 0']\n",
    "    plt.xticks(tick_marks, tick_label, rotation=45)\n",
    "    plt.yticks(tick_marks, tick_label)\n",
    "    plt.tight_layout()\n",
    "    plt.ylabel('True label')\n",
    "    plt.xlabel('Predicted label')"
   ]
  },
  {
   "cell_type": "markdown",
   "metadata": {},
   "source": [
    "Plots the confusion matrix comparing the predicted label to the true label."
   ]
  },
  {
   "cell_type": "code",
   "execution_count": null,
   "metadata": {
    "collapsed": false,
    "scrolled": false
   },
   "outputs": [],
   "source": [
    "cm = mt.confusion_matrix(y_test, y_test_pred)\n",
    "\n",
    "print('Confusion matrix')\n",
    "print(cm)\n",
    "\n",
    "cm_normalized = cm.astype('float') / cm.sum(axis=1)[:, np.newaxis]\n",
    "print('Normalized confusion matrix')\n",
    "print(cm_normalized)\n",
    "\n",
    "\n",
    "plt.figure()\n",
    "plot_confusion_matrix(cm,title='Confusion matrix, without normalization')\n",
    "plt.figure()\n",
    "plot_confusion_matrix(cm_normalized, title='Normalized confusion matrix')"
   ]
  },
  {
   "cell_type": "markdown",
   "metadata": {},
   "source": [
    "Plots the ROC curve and calculates the AUC score for the RFR model."
   ]
  },
  {
   "cell_type": "code",
   "execution_count": null,
   "metadata": {
    "collapsed": false,
    "scrolled": false
   },
   "outputs": [],
   "source": [
    "y_score = rf.predict_proba(X_test)[:,1]\n",
    "\n",
    "print('AUC Score =',mt.roc_auc_score(y_test, y_score))\n",
    "fpr, tpr, thresholds = mt.roc_curve(y_test,y_score)\n",
    "plt.figure()\n",
    "plt.plot(fpr,tpr)\n",
    "plt.xlabel('False Positive Rate')\n",
    "plt.ylabel('True Positive Rate');"
   ]
  },
  {
   "cell_type": "markdown",
   "metadata": {
    "collapsed": false
   },
   "source": [
    "Adding in other variables such as the population and median income by zip code seemed to have no significant effect. I also calculated the number of other providers within 40 miles of each provider, but adding that variable had no effect as well.\n",
    "\n",
    "I also found that I get the same results with just the provider_id tag as the input X using pandas’ get_dummies to convert the variable to an indicator variable rather than numerical value. This makes me think that the GPS coordinates are essentially acting as an indicator for the specific provider rather than giving any useful information as far as relative position to other hospitals."
   ]
  },
  {
   "cell_type": "code",
   "execution_count": null,
   "metadata": {
    "collapsed": true
   },
   "outputs": [],
   "source": []
  }
 ],
 "metadata": {
  "anaconda-cloud": {},
  "kernelspec": {
   "display_name": "Python [default]",
   "language": "python",
   "name": "python3"
  },
  "language_info": {
   "codemirror_mode": {
    "name": "ipython",
    "version": 3
   },
   "file_extension": ".py",
   "mimetype": "text/x-python",
   "name": "python",
   "nbconvert_exporter": "python",
   "pygments_lexer": "ipython3",
   "version": "3.5.2"
  }
 },
 "nbformat": 4,
 "nbformat_minor": 0
}
