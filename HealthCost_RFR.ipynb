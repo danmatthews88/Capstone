{
 "cells": [
  {
   "cell_type": "code",
   "execution_count": 1,
   "metadata": {
    "collapsed": true
   },
   "outputs": [],
   "source": [
    "import pandas as pd\n",
    "import numpy as np\n",
    "import matplotlib.pyplot as plt"
   ]
  },
  {
   "cell_type": "code",
   "execution_count": 2,
   "metadata": {
    "collapsed": true
   },
   "outputs": [],
   "source": [
    "%matplotlib inline"
   ]
  },
  {
   "cell_type": "code",
   "execution_count": 3,
   "metadata": {
    "collapsed": false
   },
   "outputs": [],
   "source": [
    "from sklearn.linear_model import LinearRegression,LogisticRegression\n",
    "from sklearn.ensemble import RandomForestRegressor, RandomForestClassifier\n",
    "from sklearn.cross_validation import train_test_split\n",
    "from sklearn.preprocessing import LabelEncoder, OneHotEncoder, scale\n",
    "from sklearn import metrics as mt # mean_squared_error, confusion_matrix, roc_auc_score\n",
    "from sklearn.neighbors import NearestNeighbors"
   ]
  },
  {
   "cell_type": "markdown",
   "metadata": {
    "collapsed": true
   },
   "source": [
    "Imports the cleaned data set (from HealthCost_data_cleaning notebook)"
   ]
  },
  {
   "cell_type": "code",
   "execution_count": 10,
   "metadata": {
    "collapsed": false,
    "scrolled": false
   },
   "outputs": [
    {
     "data": {
      "text/html": [
       "<div>\n",
       "<table border=\"1\" class=\"dataframe\">\n",
       "  <thead>\n",
       "    <tr style=\"text-align: right;\">\n",
       "      <th></th>\n",
       "      <th>drg_id</th>\n",
       "      <th>drg_definition</th>\n",
       "      <th>provider_id</th>\n",
       "      <th>provider_name</th>\n",
       "      <th>provider_street_address</th>\n",
       "      <th>provider_city</th>\n",
       "      <th>provider_state</th>\n",
       "      <th>provider_zip_code</th>\n",
       "      <th>hospital_referral_region_description</th>\n",
       "      <th>total_discharges</th>\n",
       "      <th>average_covered_charges</th>\n",
       "      <th>average_total_payments</th>\n",
       "      <th>average_medicare_payments</th>\n",
       "    </tr>\n",
       "  </thead>\n",
       "  <tbody>\n",
       "    <tr>\n",
       "      <th>0</th>\n",
       "      <td>039</td>\n",
       "      <td>039 - EXTRACRANIAL PROCEDURES W/O CC/MCC</td>\n",
       "      <td>10001</td>\n",
       "      <td>SOUTHEAST ALABAMA MEDICAL CENTER</td>\n",
       "      <td>1108 ROSS CLARK CIRCLE</td>\n",
       "      <td>DOTHAN</td>\n",
       "      <td>AL</td>\n",
       "      <td>36301</td>\n",
       "      <td>AL - Dothan</td>\n",
       "      <td>91.0</td>\n",
       "      <td>32963.07</td>\n",
       "      <td>5777.24</td>\n",
       "      <td>4763.73</td>\n",
       "    </tr>\n",
       "    <tr>\n",
       "      <th>1</th>\n",
       "      <td>039</td>\n",
       "      <td>039 - EXTRACRANIAL PROCEDURES W/O CC/MCC</td>\n",
       "      <td>10005</td>\n",
       "      <td>MARSHALL MEDICAL CENTER SOUTH</td>\n",
       "      <td>2505 U S HIGHWAY 431 NORTH</td>\n",
       "      <td>BOAZ</td>\n",
       "      <td>AL</td>\n",
       "      <td>35957</td>\n",
       "      <td>AL - Birmingham</td>\n",
       "      <td>14.0</td>\n",
       "      <td>15131.85</td>\n",
       "      <td>5787.57</td>\n",
       "      <td>4976.71</td>\n",
       "    </tr>\n",
       "    <tr>\n",
       "      <th>2</th>\n",
       "      <td>039</td>\n",
       "      <td>039 - EXTRACRANIAL PROCEDURES W/O CC/MCC</td>\n",
       "      <td>10006</td>\n",
       "      <td>ELIZA COFFEE MEMORIAL HOSPITAL</td>\n",
       "      <td>205 MARENGO STREET</td>\n",
       "      <td>FLORENCE</td>\n",
       "      <td>AL</td>\n",
       "      <td>35631</td>\n",
       "      <td>AL - Birmingham</td>\n",
       "      <td>24.0</td>\n",
       "      <td>37560.37</td>\n",
       "      <td>5434.95</td>\n",
       "      <td>4453.79</td>\n",
       "    </tr>\n",
       "  </tbody>\n",
       "</table>\n",
       "</div>"
      ],
      "text/plain": [
       "  drg_id                            drg_definition provider_id  \\\n",
       "0    039  039 - EXTRACRANIAL PROCEDURES W/O CC/MCC       10001   \n",
       "1    039  039 - EXTRACRANIAL PROCEDURES W/O CC/MCC       10005   \n",
       "2    039  039 - EXTRACRANIAL PROCEDURES W/O CC/MCC       10006   \n",
       "\n",
       "                      provider_name     provider_street_address provider_city  \\\n",
       "0  SOUTHEAST ALABAMA MEDICAL CENTER      1108 ROSS CLARK CIRCLE        DOTHAN   \n",
       "1     MARSHALL MEDICAL CENTER SOUTH  2505 U S HIGHWAY 431 NORTH          BOAZ   \n",
       "2    ELIZA COFFEE MEMORIAL HOSPITAL          205 MARENGO STREET      FLORENCE   \n",
       "\n",
       "  provider_state provider_zip_code hospital_referral_region_description  \\\n",
       "0             AL             36301                          AL - Dothan   \n",
       "1             AL             35957                      AL - Birmingham   \n",
       "2             AL             35631                      AL - Birmingham   \n",
       "\n",
       "   total_discharges  average_covered_charges  average_total_payments  \\\n",
       "0              91.0                 32963.07                 5777.24   \n",
       "1              14.0                 15131.85                 5787.57   \n",
       "2              24.0                 37560.37                 5434.95   \n",
       "\n",
       "   average_medicare_payments  \n",
       "0                    4763.73  \n",
       "1                    4976.71  \n",
       "2                    4453.79  "
      ]
     },
     "execution_count": 10,
     "metadata": {},
     "output_type": "execute_result"
    }
   ],
   "source": [
    "df=pd.read_csv('data/IPPS_Data_Clean.csv', \\\n",
    "               dtype={'provider_id':str,'provider_zip_code':str, 'drg_id':str,'total_discharges':float})\n",
    "\n",
    "#df['provider_city_state'] = df.provider_city + ', ' + df.provider_state\n",
    "df.head(3)"
   ]
  },
  {
   "cell_type": "markdown",
   "metadata": {},
   "source": [
    "Calculates the national median cost for each procedure"
   ]
  },
  {
   "cell_type": "code",
   "execution_count": 11,
   "metadata": {
    "collapsed": false,
    "scrolled": true
   },
   "outputs": [
    {
     "data": {
      "text/html": [
       "<div>\n",
       "<table border=\"1\" class=\"dataframe\">\n",
       "  <thead>\n",
       "    <tr style=\"text-align: right;\">\n",
       "      <th></th>\n",
       "      <th>drg_id</th>\n",
       "      <th>median_covered_charges</th>\n",
       "    </tr>\n",
       "  </thead>\n",
       "  <tbody>\n",
       "    <tr>\n",
       "      <th>0</th>\n",
       "      <td>039</td>\n",
       "      <td>26651.000</td>\n",
       "    </tr>\n",
       "    <tr>\n",
       "      <th>1</th>\n",
       "      <td>057</td>\n",
       "      <td>20453.050</td>\n",
       "    </tr>\n",
       "    <tr>\n",
       "      <th>2</th>\n",
       "      <td>069</td>\n",
       "      <td>18342.265</td>\n",
       "    </tr>\n",
       "    <tr>\n",
       "      <th>3</th>\n",
       "      <td>064</td>\n",
       "      <td>40953.590</td>\n",
       "    </tr>\n",
       "    <tr>\n",
       "      <th>4</th>\n",
       "      <td>065</td>\n",
       "      <td>25151.470</td>\n",
       "    </tr>\n",
       "  </tbody>\n",
       "</table>\n",
       "</div>"
      ],
      "text/plain": [
       "  drg_id  median_covered_charges\n",
       "0    039               26651.000\n",
       "1    057               20453.050\n",
       "2    069               18342.265\n",
       "3    064               40953.590\n",
       "4    065               25151.470"
      ]
     },
     "execution_count": 11,
     "metadata": {},
     "output_type": "execute_result"
    }
   ],
   "source": [
    "natmed = pd.DataFrame(df.groupby('drg_id',sort=False)['average_covered_charges'].median()).reset_index()\n",
    "natmed = natmed.rename(columns={'average_covered_charges':'median_covered_charges'})\n",
    "natmed.head()"
   ]
  },
  {
   "cell_type": "markdown",
   "metadata": {},
   "source": [
    "Adds a column that is the fractional difference in total charges from the national median (for that particular procedure)"
   ]
  },
  {
   "cell_type": "code",
   "execution_count": 12,
   "metadata": {
    "collapsed": false,
    "scrolled": true
   },
   "outputs": [
    {
     "data": {
      "text/html": [
       "<div>\n",
       "<table border=\"1\" class=\"dataframe\">\n",
       "  <thead>\n",
       "    <tr style=\"text-align: right;\">\n",
       "      <th></th>\n",
       "      <th>drg_id</th>\n",
       "      <th>drg_definition</th>\n",
       "      <th>provider_id</th>\n",
       "      <th>provider_name</th>\n",
       "      <th>provider_street_address</th>\n",
       "      <th>provider_city</th>\n",
       "      <th>provider_state</th>\n",
       "      <th>provider_zip_code</th>\n",
       "      <th>hospital_referral_region_description</th>\n",
       "      <th>total_discharges</th>\n",
       "      <th>average_covered_charges</th>\n",
       "      <th>average_total_payments</th>\n",
       "      <th>average_medicare_payments</th>\n",
       "      <th>frac_diff</th>\n",
       "    </tr>\n",
       "  </thead>\n",
       "  <tbody>\n",
       "    <tr>\n",
       "      <th>0</th>\n",
       "      <td>039</td>\n",
       "      <td>039 - EXTRACRANIAL PROCEDURES W/O CC/MCC</td>\n",
       "      <td>10001</td>\n",
       "      <td>SOUTHEAST ALABAMA MEDICAL CENTER</td>\n",
       "      <td>1108 ROSS CLARK CIRCLE</td>\n",
       "      <td>DOTHAN</td>\n",
       "      <td>AL</td>\n",
       "      <td>36301</td>\n",
       "      <td>AL - Dothan</td>\n",
       "      <td>91.0</td>\n",
       "      <td>32963.07</td>\n",
       "      <td>5777.24</td>\n",
       "      <td>4763.73</td>\n",
       "      <td>0.236842</td>\n",
       "    </tr>\n",
       "    <tr>\n",
       "      <th>1</th>\n",
       "      <td>039</td>\n",
       "      <td>039 - EXTRACRANIAL PROCEDURES W/O CC/MCC</td>\n",
       "      <td>10005</td>\n",
       "      <td>MARSHALL MEDICAL CENTER SOUTH</td>\n",
       "      <td>2505 U S HIGHWAY 431 NORTH</td>\n",
       "      <td>BOAZ</td>\n",
       "      <td>AL</td>\n",
       "      <td>35957</td>\n",
       "      <td>AL - Birmingham</td>\n",
       "      <td>14.0</td>\n",
       "      <td>15131.85</td>\n",
       "      <td>5787.57</td>\n",
       "      <td>4976.71</td>\n",
       "      <td>-0.432222</td>\n",
       "    </tr>\n",
       "    <tr>\n",
       "      <th>2</th>\n",
       "      <td>039</td>\n",
       "      <td>039 - EXTRACRANIAL PROCEDURES W/O CC/MCC</td>\n",
       "      <td>10006</td>\n",
       "      <td>ELIZA COFFEE MEMORIAL HOSPITAL</td>\n",
       "      <td>205 MARENGO STREET</td>\n",
       "      <td>FLORENCE</td>\n",
       "      <td>AL</td>\n",
       "      <td>35631</td>\n",
       "      <td>AL - Birmingham</td>\n",
       "      <td>24.0</td>\n",
       "      <td>37560.37</td>\n",
       "      <td>5434.95</td>\n",
       "      <td>4453.79</td>\n",
       "      <td>0.409342</td>\n",
       "    </tr>\n",
       "  </tbody>\n",
       "</table>\n",
       "</div>"
      ],
      "text/plain": [
       "  drg_id                            drg_definition provider_id  \\\n",
       "0    039  039 - EXTRACRANIAL PROCEDURES W/O CC/MCC       10001   \n",
       "1    039  039 - EXTRACRANIAL PROCEDURES W/O CC/MCC       10005   \n",
       "2    039  039 - EXTRACRANIAL PROCEDURES W/O CC/MCC       10006   \n",
       "\n",
       "                      provider_name     provider_street_address provider_city  \\\n",
       "0  SOUTHEAST ALABAMA MEDICAL CENTER      1108 ROSS CLARK CIRCLE        DOTHAN   \n",
       "1     MARSHALL MEDICAL CENTER SOUTH  2505 U S HIGHWAY 431 NORTH          BOAZ   \n",
       "2    ELIZA COFFEE MEMORIAL HOSPITAL          205 MARENGO STREET      FLORENCE   \n",
       "\n",
       "  provider_state provider_zip_code hospital_referral_region_description  \\\n",
       "0             AL             36301                          AL - Dothan   \n",
       "1             AL             35957                      AL - Birmingham   \n",
       "2             AL             35631                      AL - Birmingham   \n",
       "\n",
       "   total_discharges  average_covered_charges  average_total_payments  \\\n",
       "0              91.0                 32963.07                 5777.24   \n",
       "1              14.0                 15131.85                 5787.57   \n",
       "2              24.0                 37560.37                 5434.95   \n",
       "\n",
       "   average_medicare_payments  frac_diff  \n",
       "0                    4763.73   0.236842  \n",
       "1                    4976.71  -0.432222  \n",
       "2                    4453.79   0.409342  "
      ]
     },
     "execution_count": 12,
     "metadata": {},
     "output_type": "execute_result"
    }
   ],
   "source": [
    "procedures=df.drg_id.unique()\n",
    "\n",
    "for i in procedures:    \n",
    "    sel = df.drg_id == i\n",
    "    med = natmed.loc[natmed.drg_id == i,'median_covered_charges'].iloc[0]\n",
    "    \n",
    "    df.loc[sel,'frac_diff'] = df.loc[sel,'average_covered_charges']/med - 1.0\n",
    "\n",
    "df.head(3)"
   ]
  },
  {
   "cell_type": "code",
   "execution_count": 16,
   "metadata": {
    "collapsed": false,
    "scrolled": false
   },
   "outputs": [
    {
     "data": {
      "text/html": [
       "<div>\n",
       "<table border=\"1\" class=\"dataframe\">\n",
       "  <thead>\n",
       "    <tr style=\"text-align: right;\">\n",
       "      <th></th>\n",
       "      <th>provider_id</th>\n",
       "      <th>provider_name</th>\n",
       "      <th>provider_street_address</th>\n",
       "      <th>provider_city</th>\n",
       "      <th>provider_state</th>\n",
       "      <th>provider_zip_code</th>\n",
       "      <th>hospital_referral_region_description</th>\n",
       "      <th>frac_diff</th>\n",
       "    </tr>\n",
       "  </thead>\n",
       "  <tbody>\n",
       "    <tr>\n",
       "      <th>0</th>\n",
       "      <td>10001</td>\n",
       "      <td>SOUTHEAST ALABAMA MEDICAL CENTER</td>\n",
       "      <td>1108 ROSS CLARK CIRCLE</td>\n",
       "      <td>DOTHAN</td>\n",
       "      <td>AL</td>\n",
       "      <td>36301</td>\n",
       "      <td>AL - Dothan</td>\n",
       "      <td>0.045061</td>\n",
       "    </tr>\n",
       "    <tr>\n",
       "      <th>1</th>\n",
       "      <td>10005</td>\n",
       "      <td>MARSHALL MEDICAL CENTER SOUTH</td>\n",
       "      <td>2505 U S HIGHWAY 431 NORTH</td>\n",
       "      <td>BOAZ</td>\n",
       "      <td>AL</td>\n",
       "      <td>35957</td>\n",
       "      <td>AL - Birmingham</td>\n",
       "      <td>-0.381475</td>\n",
       "    </tr>\n",
       "    <tr>\n",
       "      <th>2</th>\n",
       "      <td>10006</td>\n",
       "      <td>ELIZA COFFEE MEMORIAL HOSPITAL</td>\n",
       "      <td>205 MARENGO STREET</td>\n",
       "      <td>FLORENCE</td>\n",
       "      <td>AL</td>\n",
       "      <td>35631</td>\n",
       "      <td>AL - Birmingham</td>\n",
       "      <td>0.063646</td>\n",
       "    </tr>\n",
       "    <tr>\n",
       "      <th>3</th>\n",
       "      <td>10011</td>\n",
       "      <td>ST VINCENTS EAST</td>\n",
       "      <td>50 MEDICAL PARK EAST DRIVE</td>\n",
       "      <td>BIRMINGHAM</td>\n",
       "      <td>AL</td>\n",
       "      <td>35235</td>\n",
       "      <td>AL - Birmingham</td>\n",
       "      <td>-0.136274</td>\n",
       "    </tr>\n",
       "    <tr>\n",
       "      <th>4</th>\n",
       "      <td>10016</td>\n",
       "      <td>SHELBY BAPTIST MEDICAL CENTER</td>\n",
       "      <td>1000 FIRST STREET NORTH</td>\n",
       "      <td>ALABASTER</td>\n",
       "      <td>AL</td>\n",
       "      <td>35007</td>\n",
       "      <td>AL - Birmingham</td>\n",
       "      <td>0.305562</td>\n",
       "    </tr>\n",
       "  </tbody>\n",
       "</table>\n",
       "</div>"
      ],
      "text/plain": [
       "  provider_id                     provider_name     provider_street_address  \\\n",
       "0       10001  SOUTHEAST ALABAMA MEDICAL CENTER      1108 ROSS CLARK CIRCLE   \n",
       "1       10005     MARSHALL MEDICAL CENTER SOUTH  2505 U S HIGHWAY 431 NORTH   \n",
       "2       10006    ELIZA COFFEE MEMORIAL HOSPITAL          205 MARENGO STREET   \n",
       "3       10011                  ST VINCENTS EAST  50 MEDICAL PARK EAST DRIVE   \n",
       "4       10016     SHELBY BAPTIST MEDICAL CENTER     1000 FIRST STREET NORTH   \n",
       "\n",
       "  provider_city provider_state provider_zip_code  \\\n",
       "0        DOTHAN             AL             36301   \n",
       "1          BOAZ             AL             35957   \n",
       "2      FLORENCE             AL             35631   \n",
       "3    BIRMINGHAM             AL             35235   \n",
       "4     ALABASTER             AL             35007   \n",
       "\n",
       "  hospital_referral_region_description  frac_diff  \n",
       "0                          AL - Dothan   0.045061  \n",
       "1                      AL - Birmingham  -0.381475  \n",
       "2                      AL - Birmingham   0.063646  \n",
       "3                      AL - Birmingham  -0.136274  \n",
       "4                      AL - Birmingham   0.305562  "
      ]
     },
     "execution_count": 16,
     "metadata": {},
     "output_type": "execute_result"
    }
   ],
   "source": [
    "df_uniqprov = df.drop_duplicates(subset='provider_id')\n",
    "df_uniqprov = df_uniqprov.drop(['drg_id','drg_definition']+list(df.columns[9:14]),axis=1)\n",
    "\n",
    "fm = pd.DataFrame(df.groupby('provider_id',sort=False)['frac_diff'].mean()).reset_index()\n",
    "df_uniqprov = df_uniqprov.merge(fm,on='provider_id')\n",
    "\n",
    "df = df_uniqprov\n",
    "df.head()"
   ]
  },
  {
   "cell_type": "markdown",
   "metadata": {},
   "source": [
    "GPS locations of every unique provider."
   ]
  },
  {
   "cell_type": "code",
   "execution_count": 17,
   "metadata": {
    "collapsed": false,
    "scrolled": true
   },
   "outputs": [
    {
     "data": {
      "text/html": [
       "<div>\n",
       "<table border=\"1\" class=\"dataframe\">\n",
       "  <thead>\n",
       "    <tr style=\"text-align: right;\">\n",
       "      <th></th>\n",
       "      <th>provider_id</th>\n",
       "      <th>lat</th>\n",
       "      <th>lng</th>\n",
       "    </tr>\n",
       "  </thead>\n",
       "  <tbody>\n",
       "    <tr>\n",
       "      <th>0</th>\n",
       "      <td>10001</td>\n",
       "      <td>31.216725</td>\n",
       "      <td>-85.363068</td>\n",
       "    </tr>\n",
       "    <tr>\n",
       "      <th>1</th>\n",
       "      <td>10005</td>\n",
       "      <td>34.221556</td>\n",
       "      <td>-86.159441</td>\n",
       "    </tr>\n",
       "    <tr>\n",
       "      <th>2</th>\n",
       "      <td>10006</td>\n",
       "      <td>34.793845</td>\n",
       "      <td>-87.683155</td>\n",
       "    </tr>\n",
       "  </tbody>\n",
       "</table>\n",
       "</div>"
      ],
      "text/plain": [
       "  provider_id        lat        lng\n",
       "0       10001  31.216725 -85.363068\n",
       "1       10005  34.221556 -86.159441\n",
       "2       10006  34.793845 -87.683155"
      ]
     },
     "execution_count": 17,
     "metadata": {},
     "output_type": "execute_result"
    }
   ],
   "source": [
    "dfprov=pd.read_csv('data/Providers_Geocode.csv',usecols=['provider_id','lat','lng'],dtype={'provider_id':str})\n",
    "dfprov.head(3)"
   ]
  },
  {
   "cell_type": "code",
   "execution_count": null,
   "metadata": {
    "collapsed": true
   },
   "outputs": [],
   "source": []
  },
  {
   "cell_type": "code",
   "execution_count": null,
   "metadata": {
    "collapsed": false
   },
   "outputs": [],
   "source": [
    "# dfins = pd.read_csv('InsuranceCoverage_Adults16-64.csv',usecols=['Location','Uninsured'])#,encoding='Latin')\n",
    "# dfins=dfins[1:].reset_index(drop=True)#.head()\n",
    "\n",
    "# # Dataframe that lists states and their abbreviations for mapping\n",
    "# abbrev = pd.read_csv('states.csv').rename(columns={'State':'Location','Abbreviation':'provider_state'})\n",
    "# dfins = dfins.merge(abbrev,on ='Location')[['provider_state','Uninsured']]\n",
    "# dfins.head()"
   ]
  },
  {
   "cell_type": "markdown",
   "metadata": {},
   "source": [
    "Population by state dataframe (Census.gov)"
   ]
  },
  {
   "cell_type": "code",
   "execution_count": 18,
   "metadata": {
    "collapsed": false,
    "scrolled": true
   },
   "outputs": [
    {
     "data": {
      "text/html": [
       "<div>\n",
       "<table border=\"1\" class=\"dataframe\">\n",
       "  <thead>\n",
       "    <tr style=\"text-align: right;\">\n",
       "      <th></th>\n",
       "      <th>provider_state</th>\n",
       "      <th>state_population2011</th>\n",
       "    </tr>\n",
       "  </thead>\n",
       "  <tbody>\n",
       "    <tr>\n",
       "      <th>0</th>\n",
       "      <td>AL</td>\n",
       "      <td>4801108</td>\n",
       "    </tr>\n",
       "    <tr>\n",
       "      <th>1</th>\n",
       "      <td>AK</td>\n",
       "      <td>722720</td>\n",
       "    </tr>\n",
       "    <tr>\n",
       "      <th>2</th>\n",
       "      <td>AZ</td>\n",
       "      <td>6468732</td>\n",
       "    </tr>\n",
       "  </tbody>\n",
       "</table>\n",
       "</div>"
      ],
      "text/plain": [
       "  provider_state  state_population2011\n",
       "0             AL               4801108\n",
       "1             AK                722720\n",
       "2             AZ               6468732"
      ]
     },
     "execution_count": 18,
     "metadata": {},
     "output_type": "execute_result"
    }
   ],
   "source": [
    "dfstates=pd.read_csv('data/NST-EST2015-alldata.csv',usecols=['NAME','POPESTIMATE2011'])#,dtype={'POPESTIMATE2011':float})\n",
    "dfstates = dfstates[5:56].reset_index(drop=True)\n",
    "\n",
    "# Dataframe that lists states and their abbreviations for mapping\n",
    "abbrev = pd.read_csv('data/states.csv').rename(columns={'State':'NAME','Abbreviation':'provider_state'})\n",
    "\n",
    "dfstates = dfstates.merge(abbrev,on ='NAME')\n",
    "dfstates = dfstates[['provider_state','POPESTIMATE2011']]#,'RBIRTH2011','RDEATH2011']]\n",
    "dfstates = dfstates.rename(columns={'POPESTIMATE2011':'state_population2011'})\n",
    "\n",
    "dfstates.head(3)"
   ]
  },
  {
   "cell_type": "markdown",
   "metadata": {},
   "source": [
    "Population by city dataframe (Census.gov)"
   ]
  },
  {
   "cell_type": "code",
   "execution_count": null,
   "metadata": {
    "collapsed": false,
    "scrolled": false
   },
   "outputs": [],
   "source": [
    "# dfcities = pd.read_csv('data/SUB-EST2015_ALL.csv',encoding='latin-1',usecols=['SUMLEV','NAME','STNAME','POPESTIMATE2011'])\n",
    "# dfcities = dfcities[(dfcities.SUMLEV == 162) | (dfcities.SUMLEV == 170)]\n",
    "# print(len(dfcities))\n",
    "# # Dataframe that lists states and their abbreviations for mapping\n",
    "# abbrev = pd.read_csv('data/states.csv').rename(columns={'State':'STNAME','Abbreviation':'provider_state'})\n",
    "\n",
    "# dfcities = dfcities.merge(abbrev,on ='STNAME')\n",
    "# dfcities = dfcities[['NAME','provider_state','POPESTIMATE2011']]\n",
    "# dfcities = dfcities.rename(columns={'NAME':'provider_city','POPESTIMATE2011':'city_population2011'})\n",
    "\n",
    "# #removes ' city' and ' town' from end of name\n",
    "# dfcities.provider_city = dfcities.provider_city.map(lambda x: str(x)[:-5]).str.upper()\n",
    "\n",
    "# dfcities['provider_city_state'] = dfcities.provider_city + ', ' +dfcities.provider_state\n",
    "# dfcities = dfcities[['provider_city_state','city_population2011']]\n",
    "# print(len(dfcities))\n",
    "# dfcities.head()"
   ]
  },
  {
   "cell_type": "code",
   "execution_count": null,
   "metadata": {
    "collapsed": false,
    "scrolled": true
   },
   "outputs": [],
   "source": [
    "# dfcities[(dfcities.NAME.map(lambda x: str(x)[-5:]) != ' town') & \\\n",
    "#          (dfcities.NAME.map(lambda x: str(x)[-5:]) != ' city') & \\\n",
    "#          (dfcities.NAME.map(lambda x: str(x)[-13:]) != ' municipality') & \\\n",
    "#          (dfcities.NAME.map(lambda x: str(x)[-8:]) != ' borough') & \\\n",
    "#          (dfcities.NAME.map(lambda x: str(x)[-8:]) != ' village')].reset_index()"
   ]
  },
  {
   "cell_type": "markdown",
   "metadata": {
    "collapsed": false
   },
   "source": [
    "Population by zip code dataframe (http://notnullhypothesis.com/2010-census-data-by-zip-code-population/)"
   ]
  },
  {
   "cell_type": "code",
   "execution_count": 19,
   "metadata": {
    "collapsed": false,
    "scrolled": true
   },
   "outputs": [
    {
     "data": {
      "text/html": [
       "<div>\n",
       "<table border=\"1\" class=\"dataframe\">\n",
       "  <thead>\n",
       "    <tr style=\"text-align: right;\">\n",
       "      <th></th>\n",
       "      <th>provider_zip_code</th>\n",
       "      <th>zip_population2010</th>\n",
       "      <th>zip_pop2010_density</th>\n",
       "    </tr>\n",
       "  </thead>\n",
       "  <tbody>\n",
       "    <tr>\n",
       "      <th>0</th>\n",
       "      <td>00601</td>\n",
       "      <td>0</td>\n",
       "      <td>0.0</td>\n",
       "    </tr>\n",
       "    <tr>\n",
       "      <th>1</th>\n",
       "      <td>00602</td>\n",
       "      <td>0</td>\n",
       "      <td>0.0</td>\n",
       "    </tr>\n",
       "    <tr>\n",
       "      <th>2</th>\n",
       "      <td>00603</td>\n",
       "      <td>0</td>\n",
       "      <td>0.0</td>\n",
       "    </tr>\n",
       "    <tr>\n",
       "      <th>3</th>\n",
       "      <td>00606</td>\n",
       "      <td>0</td>\n",
       "      <td>0.0</td>\n",
       "    </tr>\n",
       "    <tr>\n",
       "      <th>4</th>\n",
       "      <td>00610</td>\n",
       "      <td>0</td>\n",
       "      <td>0.0</td>\n",
       "    </tr>\n",
       "  </tbody>\n",
       "</table>\n",
       "</div>"
      ],
      "text/plain": [
       "  provider_zip_code  zip_population2010  zip_pop2010_density\n",
       "0             00601                   0                  0.0\n",
       "1             00602                   0                  0.0\n",
       "2             00603                   0                  0.0\n",
       "3             00606                   0                  0.0\n",
       "4             00610                   0                  0.0"
      ]
     },
     "execution_count": 19,
     "metadata": {},
     "output_type": "execute_result"
    }
   ],
   "source": [
    "#dfzip = pd.read_csv('2010CensusPopulationData.csv',usecols=['Zip','Population'],dtype={'Zip':str})\n",
    "dfzip = pd.read_csv('data/Zipcode-ZCTA-Population-Density-And-Area-Unsorted.csv', \\\n",
    "                   dtype={'Zip':str},usecols=['Zip','2010 Population','Density Per Sq Mile'])\n",
    "dfzip.Zip = dfzip.Zip.str.zfill(5)\n",
    "dfzip = dfzip.rename(columns = {'Zip':'provider_zip_code','2010 Population':'zip_population2010', \\\n",
    "                               'Density Per Sq Mile':'zip_pop2010_density'})\n",
    "dfzip.head()"
   ]
  },
  {
   "cell_type": "markdown",
   "metadata": {},
   "source": [
    "Median income by zipcode (http://www.psc.isr.umich.edu/dis/census/Features/tract2zip/)"
   ]
  },
  {
   "cell_type": "code",
   "execution_count": 20,
   "metadata": {
    "collapsed": false
   },
   "outputs": [
    {
     "data": {
      "text/html": [
       "<div>\n",
       "<table border=\"1\" class=\"dataframe\">\n",
       "  <thead>\n",
       "    <tr style=\"text-align: right;\">\n",
       "      <th></th>\n",
       "      <th>provider_zip_code</th>\n",
       "      <th>zip_median_income</th>\n",
       "    </tr>\n",
       "  </thead>\n",
       "  <tbody>\n",
       "    <tr>\n",
       "      <th>0</th>\n",
       "      <td>01001</td>\n",
       "      <td>56663</td>\n",
       "    </tr>\n",
       "    <tr>\n",
       "      <th>1</th>\n",
       "      <td>01002</td>\n",
       "      <td>49853</td>\n",
       "    </tr>\n",
       "    <tr>\n",
       "      <th>2</th>\n",
       "      <td>01003</td>\n",
       "      <td>28462</td>\n",
       "    </tr>\n",
       "    <tr>\n",
       "      <th>3</th>\n",
       "      <td>01005</td>\n",
       "      <td>75423</td>\n",
       "    </tr>\n",
       "    <tr>\n",
       "      <th>4</th>\n",
       "      <td>01007</td>\n",
       "      <td>79076</td>\n",
       "    </tr>\n",
       "  </tbody>\n",
       "</table>\n",
       "</div>"
      ],
      "text/plain": [
       "  provider_zip_code  zip_median_income\n",
       "0             01001              56663\n",
       "1             01002              49853\n",
       "2             01003              28462\n",
       "3             01005              75423\n",
       "4             01007              79076"
      ]
     },
     "execution_count": 20,
     "metadata": {},
     "output_type": "execute_result"
    }
   ],
   "source": [
    "dfincome = pd.read_csv('data/MedianZIP-3.csv',dtype={'Zip':str},usecols=['Zip','Median'])\n",
    "\n",
    "dfincome.Zip = dfincome.Zip.str.zfill(5)\n",
    "dfincome.Median = dfincome.Median.str.replace(',','').astype(int)\n",
    "dfincome = dfincome.rename(columns={'Zip':'provider_zip_code','Median':'zip_median_income'})\n",
    "\n",
    "dfincome.head()"
   ]
  },
  {
   "cell_type": "markdown",
   "metadata": {
    "collapsed": false
   },
   "source": [
    "Combines all into one dataframe and selects the relevant columns"
   ]
  },
  {
   "cell_type": "code",
   "execution_count": 42,
   "metadata": {
    "collapsed": false,
    "scrolled": false
   },
   "outputs": [
    {
     "data": {
      "text/plain": [
       "3165"
      ]
     },
     "execution_count": 42,
     "metadata": {},
     "output_type": "execute_result"
    }
   ],
   "source": [
    "#df['provider_city_state'] = df.provider_city + ', ' + df.provider_state\n",
    "\n",
    "dftot = df.merge(dfprov, on='provider_id')\n",
    "#dftot = dftot.merge(dfins,on='provider_state')\n",
    "#dftot = dftot.merge(dfstates, on='provider_state')\n",
    "#dftot = dftot.merge(dfzip, on='provider_zip_code')\n",
    "#dftot = dftot.merge(dfcities, on=['provider_city_state'])\n",
    "dftot = dftot.merge(dfincome, on='provider_zip_code')\n",
    "#dftot = dftot.drop([list(dftot.columns)[1]]+list(dftot.columns)[3:5]+list(dftot.columns)[11:13],axis=1)\n",
    "#dftot.head()\n",
    "#dftot.provider_id.nunique()\n",
    "len(dftot)"
   ]
  },
  {
   "cell_type": "code",
   "execution_count": 43,
   "metadata": {
    "collapsed": false,
    "scrolled": false
   },
   "outputs": [
    {
     "data": {
      "text/html": [
       "<div>\n",
       "<table border=\"1\" class=\"dataframe\">\n",
       "  <thead>\n",
       "    <tr style=\"text-align: right;\">\n",
       "      <th></th>\n",
       "      <th>provider_id</th>\n",
       "      <th>provider_name</th>\n",
       "      <th>provider_street_address</th>\n",
       "      <th>provider_city</th>\n",
       "      <th>provider_state</th>\n",
       "      <th>provider_zip_code</th>\n",
       "      <th>hospital_referral_region_description</th>\n",
       "      <th>frac_diff</th>\n",
       "      <th>lat</th>\n",
       "      <th>lng</th>\n",
       "      <th>zip_median_income</th>\n",
       "      <th>frac_diff_class</th>\n",
       "    </tr>\n",
       "  </thead>\n",
       "  <tbody>\n",
       "    <tr>\n",
       "      <th>0</th>\n",
       "      <td>10001</td>\n",
       "      <td>SOUTHEAST ALABAMA MEDICAL CENTER</td>\n",
       "      <td>1108 ROSS CLARK CIRCLE</td>\n",
       "      <td>DOTHAN</td>\n",
       "      <td>AL</td>\n",
       "      <td>36301</td>\n",
       "      <td>AL - Dothan</td>\n",
       "      <td>0.045061</td>\n",
       "      <td>31.216725</td>\n",
       "      <td>-85.363068</td>\n",
       "      <td>38008</td>\n",
       "      <td>True</td>\n",
       "    </tr>\n",
       "    <tr>\n",
       "      <th>1</th>\n",
       "      <td>10005</td>\n",
       "      <td>MARSHALL MEDICAL CENTER SOUTH</td>\n",
       "      <td>2505 U S HIGHWAY 431 NORTH</td>\n",
       "      <td>BOAZ</td>\n",
       "      <td>AL</td>\n",
       "      <td>35957</td>\n",
       "      <td>AL - Birmingham</td>\n",
       "      <td>-0.381475</td>\n",
       "      <td>34.221556</td>\n",
       "      <td>-86.159441</td>\n",
       "      <td>33993</td>\n",
       "      <td>False</td>\n",
       "    </tr>\n",
       "    <tr>\n",
       "      <th>2</th>\n",
       "      <td>10011</td>\n",
       "      <td>ST VINCENTS EAST</td>\n",
       "      <td>50 MEDICAL PARK EAST DRIVE</td>\n",
       "      <td>BIRMINGHAM</td>\n",
       "      <td>AL</td>\n",
       "      <td>35235</td>\n",
       "      <td>AL - Birmingham</td>\n",
       "      <td>-0.136274</td>\n",
       "      <td>33.596457</td>\n",
       "      <td>-86.667650</td>\n",
       "      <td>54491</td>\n",
       "      <td>False</td>\n",
       "    </tr>\n",
       "  </tbody>\n",
       "</table>\n",
       "</div>"
      ],
      "text/plain": [
       "  provider_id                     provider_name     provider_street_address  \\\n",
       "0       10001  SOUTHEAST ALABAMA MEDICAL CENTER      1108 ROSS CLARK CIRCLE   \n",
       "1       10005     MARSHALL MEDICAL CENTER SOUTH  2505 U S HIGHWAY 431 NORTH   \n",
       "2       10011                  ST VINCENTS EAST  50 MEDICAL PARK EAST DRIVE   \n",
       "\n",
       "  provider_city provider_state provider_zip_code  \\\n",
       "0        DOTHAN             AL             36301   \n",
       "1          BOAZ             AL             35957   \n",
       "2    BIRMINGHAM             AL             35235   \n",
       "\n",
       "  hospital_referral_region_description  frac_diff        lat        lng  \\\n",
       "0                          AL - Dothan   0.045061  31.216725 -85.363068   \n",
       "1                      AL - Birmingham  -0.381475  34.221556 -86.159441   \n",
       "2                      AL - Birmingham  -0.136274  33.596457 -86.667650   \n",
       "\n",
       "   zip_median_income frac_diff_class  \n",
       "0              38008            True  \n",
       "1              33993           False  \n",
       "2              54491           False  "
      ]
     },
     "execution_count": 43,
     "metadata": {},
     "output_type": "execute_result"
    }
   ],
   "source": [
    "dftot['frac_diff_class'] = dftot.frac_diff >= 0.0\n",
    "dftot.head(3)"
   ]
  },
  {
   "cell_type": "code",
   "execution_count": 44,
   "metadata": {
    "collapsed": false,
    "scrolled": true
   },
   "outputs": [
    {
     "data": {
      "text/plain": [
       "frac_diff_class\n",
       "False    1800\n",
       "True     1365\n",
       "dtype: int64"
      ]
     },
     "execution_count": 44,
     "metadata": {},
     "output_type": "execute_result"
    }
   ],
   "source": [
    "dftot.groupby('frac_diff_class').size()"
   ]
  },
  {
   "cell_type": "markdown",
   "metadata": {
    "collapsed": false
   },
   "source": [
    "For each provider, calculates the number of other providers within a 40 mile radius."
   ]
  },
  {
   "cell_type": "code",
   "execution_count": null,
   "metadata": {
    "collapsed": true
   },
   "outputs": [],
   "source": [
    "from geopy.distance import vincenty\n",
    "import time"
   ]
  },
  {
   "cell_type": "code",
   "execution_count": null,
   "metadata": {
    "collapsed": false,
    "scrolled": false
   },
   "outputs": [],
   "source": [
    "%%time\n",
    "dfprov['n_hosp'] = 0.0\n",
    "\n",
    "pts = [dfprov.lat,dfprov.lng]\n",
    "pts = list(list(x) for x in zip(*pts))\n",
    "i=0\n",
    "\n",
    "for index, row in dfprov[['lat','lng']].iterrows():\n",
    "    count = 0\n",
    "    pt1 = [row.lat,row.lng]\n",
    "    \n",
    "    for pt in pts:\n",
    "        dist = vincenty(pt1, pt).miles\n",
    "        if dist < 40 and dist > 0:\n",
    "            count +=1\n",
    "            \n",
    "    dfprov.loc[index,'n_hosp'] = count\n",
    "    i+=1\n",
    "    if i % 1000 == 0: print(i)"
   ]
  },
  {
   "cell_type": "code",
   "execution_count": null,
   "metadata": {
    "collapsed": false,
    "scrolled": true
   },
   "outputs": [],
   "source": [
    "dfprov.head()"
   ]
  },
  {
   "cell_type": "code",
   "execution_count": null,
   "metadata": {
    "collapsed": false
   },
   "outputs": [],
   "source": []
  },
  {
   "cell_type": "code",
   "execution_count": null,
   "metadata": {
    "collapsed": false
   },
   "outputs": [],
   "source": [
    "dftot = dftot.merge(dfprov[['provider_id','n_hosp']], on='provider_id' )"
   ]
  },
  {
   "cell_type": "code",
   "execution_count": null,
   "metadata": {
    "collapsed": false
   },
   "outputs": [],
   "source": [
    "dftot.head()"
   ]
  },
  {
   "cell_type": "code",
   "execution_count": null,
   "metadata": {
    "collapsed": false
   },
   "outputs": [],
   "source": []
  },
  {
   "cell_type": "markdown",
   "metadata": {},
   "source": [
    "Random Forest Classifier using entire dataset"
   ]
  },
  {
   "cell_type": "code",
   "execution_count": 48,
   "metadata": {
    "collapsed": false
   },
   "outputs": [
    {
     "data": {
      "text/html": [
       "<div>\n",
       "<table border=\"1\" class=\"dataframe\">\n",
       "  <thead>\n",
       "    <tr style=\"text-align: right;\">\n",
       "      <th></th>\n",
       "      <th>lat</th>\n",
       "      <th>lng</th>\n",
       "    </tr>\n",
       "  </thead>\n",
       "  <tbody>\n",
       "    <tr>\n",
       "      <th>0</th>\n",
       "      <td>31.216725</td>\n",
       "      <td>-85.363068</td>\n",
       "    </tr>\n",
       "    <tr>\n",
       "      <th>1</th>\n",
       "      <td>34.221556</td>\n",
       "      <td>-86.159441</td>\n",
       "    </tr>\n",
       "    <tr>\n",
       "      <th>2</th>\n",
       "      <td>33.596457</td>\n",
       "      <td>-86.667650</td>\n",
       "    </tr>\n",
       "    <tr>\n",
       "      <th>3</th>\n",
       "      <td>33.252444</td>\n",
       "      <td>-86.813555</td>\n",
       "    </tr>\n",
       "    <tr>\n",
       "      <th>4</th>\n",
       "      <td>32.326946</td>\n",
       "      <td>-86.271034</td>\n",
       "    </tr>\n",
       "  </tbody>\n",
       "</table>\n",
       "</div>"
      ],
      "text/plain": [
       "         lat        lng\n",
       "0  31.216725 -85.363068\n",
       "1  34.221556 -86.159441\n",
       "2  33.596457 -86.667650\n",
       "3  33.252444 -86.813555\n",
       "4  32.326946 -86.271034"
      ]
     },
     "execution_count": 48,
     "metadata": {},
     "output_type": "execute_result"
    }
   ],
   "source": [
    "inx = ['lat','lng']#'provider_city']#,'zip_pop2010_density','zip_population2010','zip_median_income']#,'provider_id']#['lat','lng']#\n",
    "dfX = dftot.loc[:,inx]#zip_population2010']]\n",
    "dfY = dftot.loc[:,'frac_diff_class']\n",
    "\n",
    "dfX.head()"
   ]
  },
  {
   "cell_type": "code",
   "execution_count": 49,
   "metadata": {
    "collapsed": false
   },
   "outputs": [],
   "source": [
    "# dfX = pd.get_dummies(dfX, columns=['provider_city'], dummy_na=True)\n",
    "# dfX.head()"
   ]
  },
  {
   "cell_type": "code",
   "execution_count": 51,
   "metadata": {
    "collapsed": false,
    "scrolled": true
   },
   "outputs": [
    {
     "data": {
      "text/plain": [
       "0.75165876777251184"
      ]
     },
     "execution_count": 51,
     "metadata": {},
     "output_type": "execute_result"
    }
   ],
   "source": [
    "rf = RandomForestClassifier(n_jobs=-1)\n",
    "#rf.n_estimators=10\n",
    "\n",
    "X_train, X_test, y_train, y_test = train_test_split(dfX, dfY, train_size=2./3)\n",
    "\n",
    "rf.fit(X_train,y_train)\n",
    "\n",
    "y_train_pred = rf.predict(X_train)\n",
    "y_test_pred = rf.predict(X_test)\n",
    "\n",
    "rf.score(X_test,y_test)"
   ]
  },
  {
   "cell_type": "code",
   "execution_count": null,
   "metadata": {
    "collapsed": false
   },
   "outputs": [],
   "source": []
  },
  {
   "cell_type": "code",
   "execution_count": 52,
   "metadata": {
    "collapsed": true
   },
   "outputs": [],
   "source": [
    "def plot_confusion_matrix(cm, title='Confusion matrix', cmap=plt.cm.Blues):\n",
    "    plt.imshow(cm, interpolation='nearest', cmap=cmap)\n",
    "    plt.title(title)\n",
    "    plt.colorbar()\n",
    "    tick_marks = np.arange(2)\n",
    "    tick_label = ['f < 0','f > 0']\n",
    "    plt.xticks(tick_marks, tick_label, rotation=45)\n",
    "    plt.yticks(tick_marks, tick_label)\n",
    "    plt.tight_layout()\n",
    "    plt.ylabel('True label')\n",
    "    plt.xlabel('Predicted label')"
   ]
  },
  {
   "cell_type": "code",
   "execution_count": 53,
   "metadata": {
    "collapsed": false,
    "scrolled": false
   },
   "outputs": [
    {
     "name": "stdout",
     "output_type": "stream",
     "text": [
      "Confusion matrix\n",
      "[[483 115]\n",
      " [147 310]]\n",
      "Normalized confusion matrix\n",
      "[[ 0.80769231  0.19230769]\n",
      " [ 0.32166302  0.67833698]]\n"
     ]
    },
    {
     "data": {
      "image/png": "[encoded data removed]",
      "text/plain": [
       "<matplotlib.figure.Figure at 0x7fab8d972d68>"
      ]
     },
     "metadata": {},
     "output_type": "display_data"
    },
    {
     "data": {
      "image/png": "[encoded data removed]",
      "text/plain": [
       "<matplotlib.figure.Figure at 0x7fab8d869b38>"
      ]
     },
     "metadata": {},
     "output_type": "display_data"
    }
   ],
   "source": [
    "cm = mt.confusion_matrix(y_test, y_test_pred)\n",
    "\n",
    "print('Confusion matrix')\n",
    "print(cm)\n",
    "\n",
    "cm_normalized = cm.astype('float') / cm.sum(axis=1)[:, np.newaxis]\n",
    "print('Normalized confusion matrix')\n",
    "print(cm_normalized)\n",
    "\n",
    "\n",
    "plt.figure()\n",
    "plot_confusion_matrix(cm,title='Confusion matrix, without normalization')\n",
    "plt.figure()\n",
    "plot_confusion_matrix(cm_normalized, title='Normalized confusion matrix')"
   ]
  },
  {
   "cell_type": "code",
   "execution_count": 54,
   "metadata": {
    "collapsed": false,
    "scrolled": false
   },
   "outputs": [
    {
     "name": "stdout",
     "output_type": "stream",
     "text": [
      "AUC Score = 0.810575733847\n"
     ]
    },
    {
     "data": {
      "image/png": "[encoded data removed]",
      "text/plain": [
       "<matplotlib.figure.Figure at 0x7fab8d829b38>"
      ]
     },
     "metadata": {},
     "output_type": "display_data"
    }
   ],
   "source": [
    "y_score = rf.predict_proba(X_test)[:,1]\n",
    "\n",
    "print('AUC Score =',mt.roc_auc_score(y_test, y_score))\n",
    "fpr, tpr, thresholds = mt.roc_curve(y_test,y_score)\n",
    "plt.figure()\n",
    "plt.plot(fpr,tpr)\n",
    "plt.xlabel('False Positive Rate')\n",
    "plt.ylabel('True Positive Rate');"
   ]
  },
  {
   "cell_type": "code",
   "execution_count": null,
   "metadata": {
    "collapsed": false
   },
   "outputs": [],
   "source": []
  },
  {
   "cell_type": "code",
   "execution_count": null,
   "metadata": {
    "collapsed": false
   },
   "outputs": [],
   "source": [
    "dftmp = dftot.loc[y_test.index][['provider_state','frac_diff_class']]\n",
    "dftmp['frac_diff_class_pred'] = y_test_pred\n",
    "dftmp['class_pred'] = dftmp.frac_diff_class == dftmp.frac_diff_class_pred\n",
    "dftmp.head()"
   ]
  },
  {
   "cell_type": "code",
   "execution_count": null,
   "metadata": {
    "collapsed": false
   },
   "outputs": [],
   "source": [
    "df_state_pred = dftmp.groupby(['provider_state','class_pred']).size().unstack()\n",
    "df_state_pred['Percent'] = df_state_pred[df_state_pred.columns[1]]/df_state_pred.sum(axis=1)\n",
    "df_state_pred.head()"
   ]
  },
  {
   "cell_type": "code",
   "execution_count": null,
   "metadata": {
    "collapsed": false
   },
   "outputs": [],
   "source": [
    "df_state_pred.plot(y='Percent',kind='bar',figsize=(25,12),fontsize=20);"
   ]
  },
  {
   "cell_type": "code",
   "execution_count": null,
   "metadata": {
    "collapsed": false,
    "scrolled": false
   },
   "outputs": [],
   "source": [
    "#finds the median gps coordinates of all providers in each state\n",
    "df_state_geo = dftot[['provider_state','lat','lng']]\n",
    "df_state_geo = df_state_geo.groupby(['provider_state']).median()\n",
    "df_state_geo.head()"
   ]
  },
  {
   "cell_type": "code",
   "execution_count": null,
   "metadata": {
    "collapsed": false
   },
   "outputs": [],
   "source": []
  },
  {
   "cell_type": "code",
   "execution_count": null,
   "metadata": {
    "collapsed": false
   },
   "outputs": [],
   "source": [
    "df_state = df_state_pred.merge(df_state_geo,right_index=True,left_index=True)\n",
    "df_state.head()"
   ]
  },
  {
   "cell_type": "code",
   "execution_count": null,
   "metadata": {
    "collapsed": false
   },
   "outputs": [],
   "source": []
  },
  {
   "cell_type": "code",
   "execution_count": null,
   "metadata": {
    "collapsed": false
   },
   "outputs": [],
   "source": [
    "df_state.sort_values('lng').plot(y = 'Percent',kind ='bar',figsize=(20,10));"
   ]
  },
  {
   "cell_type": "code",
   "execution_count": null,
   "metadata": {
    "collapsed": true
   },
   "outputs": [],
   "source": []
  }
 ],
 "metadata": {
  "kernelspec": {
   "display_name": "Python 3",
   "language": "python",
   "name": "python3"
  },
  "language_info": {
   "codemirror_mode": {
    "name": "ipython",
    "version": 3
   },
   "file_extension": ".py",
   "mimetype": "text/x-python",
   "name": "python",
   "nbconvert_exporter": "python",
   "pygments_lexer": "ipython3",
   "version": "3.5.2"
  }
 },
 "nbformat": 4,
 "nbformat_minor": 0
}
