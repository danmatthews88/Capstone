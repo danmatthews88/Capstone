{
 "cells": [
  {
   "cell_type": "code",
   "execution_count": null,
   "metadata": {
    "collapsed": true
   },
   "outputs": [],
   "source": [
    "import pandas as pd"
   ]
  },
  {
   "cell_type": "markdown",
   "metadata": {},
   "source": [
    "Reads csv file and creates dataframe."
   ]
  },
  {
   "cell_type": "code",
   "execution_count": null,
   "metadata": {
    "collapsed": false
   },
   "outputs": [],
   "source": [
    "df=pd.read_csv('data/Inpatient_Prospective_Payment_System__IPPS__Provider_Summary_for_the_Top_100_Diagnosis-Related_Groups__DRG__-_FY2011.csv')\n",
    "df.head(1)"
   ]
  },
  {
   "cell_type": "markdown",
   "metadata": {},
   "source": [
    "Strips whitespace from beginning and end of column names. Replaces spaces in column names with underscores and makes all characters lower case."
   ]
  },
  {
   "cell_type": "code",
   "execution_count": null,
   "metadata": {
    "collapsed": false
   },
   "outputs": [],
   "source": [
    "df.columns = df.columns.str.lstrip().str.rstrip()\n",
    "df.columns = df.columns.str.replace(\" \",\"_\").str.lower()\n",
    "df.head(1)"
   ]
  },
  {
   "cell_type": "markdown",
   "metadata": {},
   "source": [
    "For columns with dollar amounts, strips the dollar sign makes them float values."
   ]
  },
  {
   "cell_type": "code",
   "execution_count": null,
   "metadata": {
    "collapsed": false
   },
   "outputs": [],
   "source": [
    "df.average_covered_charges = df.average_covered_charges.str.replace('$','').astype('float')\n",
    "df.average_total_payments = df.average_total_payments.str.replace('$','').astype('float')\n",
    "df.average_medicare_payments = df.average_medicare_payments.str.replace('$','').astype('float')\n",
    "df.head(1)"
   ]
  },
  {
   "cell_type": "markdown",
   "metadata": {},
   "source": [
    "Zip codes with leading zeros were in the csv files as 4 digit numbers, so this pads the zip code to a 5 character string instead of an integer."
   ]
  },
  {
   "cell_type": "code",
   "execution_count": null,
   "metadata": {
    "collapsed": true
   },
   "outputs": [],
   "source": [
    "df.provider_zip_code = df.provider_zip_code.astype(str).str.zfill(5)"
   ]
  },
  {
   "cell_type": "markdown",
   "metadata": {},
   "source": [
    "Removes some characters that interfere with geocoding (finding gps coordinates of each provider)."
   ]
  },
  {
   "cell_type": "code",
   "execution_count": null,
   "metadata": {
    "collapsed": true
   },
   "outputs": [],
   "source": [
    "df.provider_name = df.provider_name.str.replace(\", THE\",\"\")\n",
    "df.provider_name = df.provider_name.str.replace(\",\",\"\").str.replace(\"'\",\"\")\n",
    "df.provider_street_address = df.provider_street_address.str.replace(\",\",\"\").str.replace(\"'\",\"\")"
   ]
  },
  {
   "cell_type": "markdown",
   "metadata": {},
   "source": [
    "City names longer than 15 characters were cut off at 15. This code selects all unique providers by their id number, filters on all cities with 15 characters and writes them to a csv file. This csv file was edited by hand to add a second column that contains the corrected city names, which is used for the replacement code in the next cell. Correcting the city names improved the geocoding results."
   ]
  },
  {
   "cell_type": "code",
   "execution_count": null,
   "metadata": {
    "collapsed": false,
    "scrolled": false
   },
   "outputs": [],
   "source": [
    "dfp=df.drop_duplicates(subset='provider_id')\n",
    "dfp = dfp[dfp.provider_city.map(lambda x: len(x) >= 15)].reset_index(drop=True)\n",
    "dfp['provider_city'].to_csv('data/LongCityNames.csv',index=False)"
   ]
  },
  {
   "cell_type": "markdown",
   "metadata": {},
   "source": [
    "This uses the csv file described previously to replace all of the truncated city names with the full names"
   ]
  },
  {
   "cell_type": "code",
   "execution_count": null,
   "metadata": {
    "collapsed": true
   },
   "outputs": [],
   "source": [
    "dfcity = pd.read_csv('data/city_corrections.csv')\n",
    "for idx,ci in dfcity.iterrows():\n",
    "    df.provider_city = df.provider_city.str.replace(ci.city,ci.corrected_city)"
   ]
  },
  {
   "cell_type": "markdown",
   "metadata": {},
   "source": [
    "Adds a column with just the three digit code describing the procedure to make selecting procedure types easier. Also moves the column to the beginning of the dataframe."
   ]
  },
  {
   "cell_type": "code",
   "execution_count": null,
   "metadata": {
    "collapsed": true
   },
   "outputs": [],
   "source": [
    "df['drg_id']=df.drg_definition.str[:3]\n",
    "df = df[[df.columns[-1]]+list(df.columns[0:-1])]"
   ]
  },
  {
   "cell_type": "code",
   "execution_count": null,
   "metadata": {
    "collapsed": false
   },
   "outputs": [],
   "source": [
    "df.head()"
   ]
  },
  {
   "cell_type": "markdown",
   "metadata": {},
   "source": [
    "Writes the dataframe containing the cleaned data to a csv file."
   ]
  },
  {
   "cell_type": "code",
   "execution_count": null,
   "metadata": {
    "collapsed": true
   },
   "outputs": [],
   "source": [
    "df.to_csv('data/IPPS_Data_Clean_tmp.csv',index=False)"
   ]
  }
 ],
 "metadata": {
  "anaconda-cloud": {},
  "kernelspec": {
   "display_name": "Python [default]",
   "language": "python",
   "name": "python3"
  },
  "language_info": {
   "codemirror_mode": {
    "name": "ipython",
    "version": 3
   },
   "file_extension": ".py",
   "mimetype": "text/x-python",
   "name": "python",
   "nbconvert_exporter": "python",
   "pygments_lexer": "ipython3",
   "version": "3.5.2"
  }
 },
 "nbformat": 4,
 "nbformat_minor": 0
}
