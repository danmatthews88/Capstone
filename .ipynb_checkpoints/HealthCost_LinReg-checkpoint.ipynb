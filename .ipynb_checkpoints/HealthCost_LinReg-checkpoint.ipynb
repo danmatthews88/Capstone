{
 "cells": [
  {
   "cell_type": "code",
   "execution_count": 1,
   "metadata": {
    "collapsed": true
   },
   "outputs": [],
   "source": [
    "import pandas as pd\n",
    "import numpy as np\n",
    "import matplotlib.pyplot as plt"
   ]
  },
  {
   "cell_type": "code",
   "execution_count": 2,
   "metadata": {
    "collapsed": true
   },
   "outputs": [],
   "source": [
    "%matplotlib inline"
   ]
  },
  {
   "cell_type": "code",
   "execution_count": 4,
   "metadata": {
    "collapsed": false
   },
   "outputs": [
    {
     "data": {
      "text/html": [
       "<div>\n",
       "<table border=\"1\" class=\"dataframe\">\n",
       "  <thead>\n",
       "    <tr style=\"text-align: right;\">\n",
       "      <th></th>\n",
       "      <th>drg_id</th>\n",
       "      <th>drg_definition</th>\n",
       "      <th>provider_id</th>\n",
       "      <th>provider_name</th>\n",
       "      <th>provider_street_address</th>\n",
       "      <th>provider_city</th>\n",
       "      <th>provider_state</th>\n",
       "      <th>provider_zip_code</th>\n",
       "      <th>hospital_referral_region_description</th>\n",
       "      <th>total_discharges</th>\n",
       "      <th>average_covered_charges</th>\n",
       "      <th>average_total_payments</th>\n",
       "      <th>average_medicare_payments</th>\n",
       "    </tr>\n",
       "  </thead>\n",
       "  <tbody>\n",
       "    <tr>\n",
       "      <th>0</th>\n",
       "      <td>039</td>\n",
       "      <td>039 - EXTRACRANIAL PROCEDURES W/O CC/MCC</td>\n",
       "      <td>10001</td>\n",
       "      <td>SOUTHEAST ALABAMA MEDICAL CENTER</td>\n",
       "      <td>1108 ROSS CLARK CIRCLE</td>\n",
       "      <td>DOTHAN</td>\n",
       "      <td>AL</td>\n",
       "      <td>36301</td>\n",
       "      <td>AL - Dothan</td>\n",
       "      <td>91.0</td>\n",
       "      <td>32963.07</td>\n",
       "      <td>5777.24</td>\n",
       "      <td>4763.73</td>\n",
       "    </tr>\n",
       "    <tr>\n",
       "      <th>1</th>\n",
       "      <td>039</td>\n",
       "      <td>039 - EXTRACRANIAL PROCEDURES W/O CC/MCC</td>\n",
       "      <td>10005</td>\n",
       "      <td>MARSHALL MEDICAL CENTER SOUTH</td>\n",
       "      <td>2505 U S HIGHWAY 431 NORTH</td>\n",
       "      <td>BOAZ</td>\n",
       "      <td>AL</td>\n",
       "      <td>35957</td>\n",
       "      <td>AL - Birmingham</td>\n",
       "      <td>14.0</td>\n",
       "      <td>15131.85</td>\n",
       "      <td>5787.57</td>\n",
       "      <td>4976.71</td>\n",
       "    </tr>\n",
       "    <tr>\n",
       "      <th>2</th>\n",
       "      <td>039</td>\n",
       "      <td>039 - EXTRACRANIAL PROCEDURES W/O CC/MCC</td>\n",
       "      <td>10006</td>\n",
       "      <td>ELIZA COFFEE MEMORIAL HOSPITAL</td>\n",
       "      <td>205 MARENGO STREET</td>\n",
       "      <td>FLORENCE</td>\n",
       "      <td>AL</td>\n",
       "      <td>35631</td>\n",
       "      <td>AL - Birmingham</td>\n",
       "      <td>24.0</td>\n",
       "      <td>37560.37</td>\n",
       "      <td>5434.95</td>\n",
       "      <td>4453.79</td>\n",
       "    </tr>\n",
       "  </tbody>\n",
       "</table>\n",
       "</div>"
      ],
      "text/plain": [
       "  drg_id                            drg_definition provider_id  \\\n",
       "0    039  039 - EXTRACRANIAL PROCEDURES W/O CC/MCC       10001   \n",
       "1    039  039 - EXTRACRANIAL PROCEDURES W/O CC/MCC       10005   \n",
       "2    039  039 - EXTRACRANIAL PROCEDURES W/O CC/MCC       10006   \n",
       "\n",
       "                      provider_name     provider_street_address provider_city  \\\n",
       "0  SOUTHEAST ALABAMA MEDICAL CENTER      1108 ROSS CLARK CIRCLE        DOTHAN   \n",
       "1     MARSHALL MEDICAL CENTER SOUTH  2505 U S HIGHWAY 431 NORTH          BOAZ   \n",
       "2    ELIZA COFFEE MEMORIAL HOSPITAL          205 MARENGO STREET      FLORENCE   \n",
       "\n",
       "  provider_state provider_zip_code hospital_referral_region_description  \\\n",
       "0             AL             36301                          AL - Dothan   \n",
       "1             AL             35957                      AL - Birmingham   \n",
       "2             AL             35631                      AL - Birmingham   \n",
       "\n",
       "   total_discharges  average_covered_charges  average_total_payments  \\\n",
       "0              91.0                 32963.07                 5777.24   \n",
       "1              14.0                 15131.85                 5787.57   \n",
       "2              24.0                 37560.37                 5434.95   \n",
       "\n",
       "   average_medicare_payments  \n",
       "0                    4763.73  \n",
       "1                    4976.71  \n",
       "2                    4453.79  "
      ]
     },
     "execution_count": 4,
     "metadata": {},
     "output_type": "execute_result"
    }
   ],
   "source": [
    "# cleaned up IPPS dataset\n",
    "df=pd.read_csv('data/IPPS_Data_Clean.csv', \\\n",
    "               dtype={'provider_id':str,'provider_zip_code':str, 'drg_id':str,'total_discharges':float})\n",
    "df.head(3)"
   ]
  },
  {
   "cell_type": "code",
   "execution_count": null,
   "metadata": {
    "collapsed": false
   },
   "outputs": [],
   "source": []
  },
  {
   "cell_type": "code",
   "execution_count": 6,
   "metadata": {
    "collapsed": false
   },
   "outputs": [
    {
     "data": {
      "text/html": [
       "<div>\n",
       "<table border=\"1\" class=\"dataframe\">\n",
       "  <thead>\n",
       "    <tr style=\"text-align: right;\">\n",
       "      <th></th>\n",
       "      <th>provider_id</th>\n",
       "      <th>lat</th>\n",
       "      <th>lng</th>\n",
       "    </tr>\n",
       "  </thead>\n",
       "  <tbody>\n",
       "    <tr>\n",
       "      <th>0</th>\n",
       "      <td>10001</td>\n",
       "      <td>31.216725</td>\n",
       "      <td>-85.363068</td>\n",
       "    </tr>\n",
       "    <tr>\n",
       "      <th>1</th>\n",
       "      <td>10005</td>\n",
       "      <td>34.221556</td>\n",
       "      <td>-86.159441</td>\n",
       "    </tr>\n",
       "    <tr>\n",
       "      <th>2</th>\n",
       "      <td>10006</td>\n",
       "      <td>34.793845</td>\n",
       "      <td>-87.683155</td>\n",
       "    </tr>\n",
       "  </tbody>\n",
       "</table>\n",
       "</div>"
      ],
      "text/plain": [
       "  provider_id        lat        lng\n",
       "0       10001  31.216725 -85.363068\n",
       "1       10005  34.221556 -86.159441\n",
       "2       10006  34.793845 -87.683155"
      ]
     },
     "execution_count": 6,
     "metadata": {},
     "output_type": "execute_result"
    }
   ],
   "source": [
    "# GPS locations of every unique provider\n",
    "dfprov=pd.read_csv('data/Providers_Geocode.csv',usecols=['provider_id','lat','lng'],dtype={'provider_id':str})\n",
    "dfprov.head(3)"
   ]
  },
  {
   "cell_type": "code",
   "execution_count": 7,
   "metadata": {
    "collapsed": false
   },
   "outputs": [
    {
     "data": {
      "text/html": [
       "<div>\n",
       "<table border=\"1\" class=\"dataframe\">\n",
       "  <thead>\n",
       "    <tr style=\"text-align: right;\">\n",
       "      <th></th>\n",
       "      <th>SUMLEV</th>\n",
       "      <th>REGION</th>\n",
       "      <th>DIVISION</th>\n",
       "      <th>STATE</th>\n",
       "      <th>NAME</th>\n",
       "      <th>CENSUS2010POP</th>\n",
       "      <th>ESTIMATESBASE2010</th>\n",
       "      <th>POPESTIMATE2010</th>\n",
       "      <th>POPESTIMATE2011</th>\n",
       "      <th>POPESTIMATE2012</th>\n",
       "      <th>...</th>\n",
       "      <th>RDOMESTICMIG2011</th>\n",
       "      <th>RDOMESTICMIG2012</th>\n",
       "      <th>RDOMESTICMIG2013</th>\n",
       "      <th>RDOMESTICMIG2014</th>\n",
       "      <th>RDOMESTICMIG2015</th>\n",
       "      <th>RNETMIG2011</th>\n",
       "      <th>RNETMIG2012</th>\n",
       "      <th>RNETMIG2013</th>\n",
       "      <th>RNETMIG2014</th>\n",
       "      <th>RNETMIG2015</th>\n",
       "    </tr>\n",
       "  </thead>\n",
       "  <tbody>\n",
       "    <tr>\n",
       "      <th>0</th>\n",
       "      <td>40</td>\n",
       "      <td>3</td>\n",
       "      <td>6</td>\n",
       "      <td>1</td>\n",
       "      <td>Alabama</td>\n",
       "      <td>4779736</td>\n",
       "      <td>4780127</td>\n",
       "      <td>4785161</td>\n",
       "      <td>4801108.0</td>\n",
       "      <td>4816089</td>\n",
       "      <td>...</td>\n",
       "      <td>0.002295</td>\n",
       "      <td>-0.193196</td>\n",
       "      <td>0.381066</td>\n",
       "      <td>0.582002</td>\n",
       "      <td>-0.467369</td>\n",
       "      <td>1.030015</td>\n",
       "      <td>0.826644</td>\n",
       "      <td>1.383282</td>\n",
       "      <td>1.724718</td>\n",
       "      <td>0.712594</td>\n",
       "    </tr>\n",
       "    <tr>\n",
       "      <th>1</th>\n",
       "      <td>40</td>\n",
       "      <td>4</td>\n",
       "      <td>9</td>\n",
       "      <td>2</td>\n",
       "      <td>Alaska</td>\n",
       "      <td>710231</td>\n",
       "      <td>710249</td>\n",
       "      <td>714021</td>\n",
       "      <td>722720.0</td>\n",
       "      <td>731228</td>\n",
       "      <td>...</td>\n",
       "      <td>-1.173489</td>\n",
       "      <td>-1.946424</td>\n",
       "      <td>-3.915107</td>\n",
       "      <td>-14.438910</td>\n",
       "      <td>-10.407475</td>\n",
       "      <td>0.931274</td>\n",
       "      <td>1.818497</td>\n",
       "      <td>-0.757148</td>\n",
       "      <td>-11.271709</td>\n",
       "      <td>-6.881838</td>\n",
       "    </tr>\n",
       "    <tr>\n",
       "      <th>2</th>\n",
       "      <td>40</td>\n",
       "      <td>4</td>\n",
       "      <td>8</td>\n",
       "      <td>4</td>\n",
       "      <td>Arizona</td>\n",
       "      <td>6392017</td>\n",
       "      <td>6392307</td>\n",
       "      <td>6408208</td>\n",
       "      <td>6468732.0</td>\n",
       "      <td>6553262</td>\n",
       "      <td>...</td>\n",
       "      <td>1.327489</td>\n",
       "      <td>5.245740</td>\n",
       "      <td>3.905473</td>\n",
       "      <td>6.219955</td>\n",
       "      <td>6.776501</td>\n",
       "      <td>3.290378</td>\n",
       "      <td>7.337279</td>\n",
       "      <td>6.123606</td>\n",
       "      <td>8.761352</td>\n",
       "      <td>9.335208</td>\n",
       "    </tr>\n",
       "  </tbody>\n",
       "</table>\n",
       "<p>3 rows × 91 columns</p>\n",
       "</div>"
      ],
      "text/plain": [
       "   SUMLEV REGION DIVISION  STATE     NAME  CENSUS2010POP  ESTIMATESBASE2010  \\\n",
       "0      40      3        6      1  Alabama        4779736            4780127   \n",
       "1      40      4        9      2   Alaska         710231             710249   \n",
       "2      40      4        8      4  Arizona        6392017            6392307   \n",
       "\n",
       "   POPESTIMATE2010  POPESTIMATE2011  POPESTIMATE2012     ...       \\\n",
       "0          4785161        4801108.0          4816089     ...        \n",
       "1           714021         722720.0           731228     ...        \n",
       "2          6408208        6468732.0          6553262     ...        \n",
       "\n",
       "   RDOMESTICMIG2011  RDOMESTICMIG2012  RDOMESTICMIG2013  RDOMESTICMIG2014  \\\n",
       "0          0.002295         -0.193196          0.381066          0.582002   \n",
       "1         -1.173489         -1.946424         -3.915107        -14.438910   \n",
       "2          1.327489          5.245740          3.905473          6.219955   \n",
       "\n",
       "   RDOMESTICMIG2015  RNETMIG2011  RNETMIG2012  RNETMIG2013  RNETMIG2014  \\\n",
       "0         -0.467369     1.030015     0.826644     1.383282     1.724718   \n",
       "1        -10.407475     0.931274     1.818497    -0.757148   -11.271709   \n",
       "2          6.776501     3.290378     7.337279     6.123606     8.761352   \n",
       "\n",
       "   RNETMIG2015  \n",
       "0     0.712594  \n",
       "1    -6.881838  \n",
       "2     9.335208  \n",
       "\n",
       "[3 rows x 91 columns]"
      ]
     },
     "execution_count": 7,
     "metadata": {},
     "output_type": "execute_result"
    }
   ],
   "source": [
    "# State data (from Census.gov)\n",
    "dfstates=pd.read_csv('data/NST-EST2015-alldata.csv',dtype={'POPESTIMATE2011':float})\n",
    "dfstates = dfstates[5:56].reset_index(drop=True)\n",
    "dfstates.head(3)"
   ]
  },
  {
   "cell_type": "code",
   "execution_count": 8,
   "metadata": {
    "collapsed": false
   },
   "outputs": [
    {
     "data": {
      "text/plain": [
       "311718857.0"
      ]
     },
     "execution_count": 8,
     "metadata": {},
     "output_type": "execute_result"
    }
   ],
   "source": [
    "totalpop = dfstates.POPESTIMATE2011.sum()\n",
    "totalpop"
   ]
  },
  {
   "cell_type": "code",
   "execution_count": 10,
   "metadata": {
    "collapsed": false
   },
   "outputs": [
    {
     "data": {
      "text/html": [
       "<div>\n",
       "<table border=\"1\" class=\"dataframe\">\n",
       "  <thead>\n",
       "    <tr style=\"text-align: right;\">\n",
       "      <th></th>\n",
       "      <th>provider_state</th>\n",
       "      <th>POPESTIMATE2011</th>\n",
       "      <th>RBIRTH2011</th>\n",
       "      <th>RDEATH2011</th>\n",
       "    </tr>\n",
       "  </thead>\n",
       "  <tbody>\n",
       "    <tr>\n",
       "      <th>0</th>\n",
       "      <td>AL</td>\n",
       "      <td>4801108.0</td>\n",
       "      <td>12.453020</td>\n",
       "      <td>10.183524</td>\n",
       "    </tr>\n",
       "    <tr>\n",
       "      <th>1</th>\n",
       "      <td>AK</td>\n",
       "      <td>722720.0</td>\n",
       "      <td>16.302173</td>\n",
       "      <td>5.467931</td>\n",
       "    </tr>\n",
       "    <tr>\n",
       "      <th>2</th>\n",
       "      <td>AZ</td>\n",
       "      <td>6468732.0</td>\n",
       "      <td>13.373364</td>\n",
       "      <td>7.478795</td>\n",
       "    </tr>\n",
       "    <tr>\n",
       "      <th>3</th>\n",
       "      <td>AR</td>\n",
       "      <td>2938538.0</td>\n",
       "      <td>13.119074</td>\n",
       "      <td>10.041748</td>\n",
       "    </tr>\n",
       "    <tr>\n",
       "      <th>4</th>\n",
       "      <td>CA</td>\n",
       "      <td>37700034.0</td>\n",
       "      <td>13.587606</td>\n",
       "      <td>6.356202</td>\n",
       "    </tr>\n",
       "  </tbody>\n",
       "</table>\n",
       "</div>"
      ],
      "text/plain": [
       "  provider_state  POPESTIMATE2011  RBIRTH2011  RDEATH2011\n",
       "0             AL        4801108.0   12.453020   10.183524\n",
       "1             AK         722720.0   16.302173    5.467931\n",
       "2             AZ        6468732.0   13.373364    7.478795\n",
       "3             AR        2938538.0   13.119074   10.041748\n",
       "4             CA       37700034.0   13.587606    6.356202"
      ]
     },
     "execution_count": 10,
     "metadata": {},
     "output_type": "execute_result"
    }
   ],
   "source": [
    "dfpop = dfstates[['NAME','POPESTIMATE2011','RBIRTH2011','RDEATH2011']]\n",
    "\n",
    "# Dataframe that lists states and their abbreviations\n",
    "abbrev = pd.read_csv('data/states.csv')\n",
    "abbrev = abbrev.rename(columns={'State':'NAME','Abbreviation':'provider_state'})\n",
    "\n",
    "dfpop = dfpop.merge(abbrev,on ='NAME')\n",
    "dfpop = dfpop[['provider_state','POPESTIMATE2011','RBIRTH2011','RDEATH2011']]\n",
    "dfpop.head()"
   ]
  },
  {
   "cell_type": "code",
   "execution_count": 29,
   "metadata": {
    "collapsed": false
   },
   "outputs": [
    {
     "data": {
      "text/html": [
       "<div>\n",
       "<table border=\"1\" class=\"dataframe\">\n",
       "  <thead>\n",
       "    <tr style=\"text-align: right;\">\n",
       "      <th></th>\n",
       "      <th>drg_id</th>\n",
       "      <th>provider_city</th>\n",
       "      <th>provider_state</th>\n",
       "      <th>hospital_referral_region_description</th>\n",
       "      <th>total_discharges</th>\n",
       "      <th>average_covered_charges</th>\n",
       "      <th>average_total_payments</th>\n",
       "      <th>average_medicare_payments</th>\n",
       "      <th>lat</th>\n",
       "      <th>lng</th>\n",
       "      <th>POPESTIMATE2011</th>\n",
       "      <th>RBIRTH2011</th>\n",
       "      <th>RDEATH2011</th>\n",
       "    </tr>\n",
       "  </thead>\n",
       "  <tbody>\n",
       "    <tr>\n",
       "      <th>0</th>\n",
       "      <td>039</td>\n",
       "      <td>DOTHAN</td>\n",
       "      <td>AL</td>\n",
       "      <td>AL - Dothan</td>\n",
       "      <td>91.0</td>\n",
       "      <td>32963.07</td>\n",
       "      <td>5777.24</td>\n",
       "      <td>4763.73</td>\n",
       "      <td>31.216725</td>\n",
       "      <td>-85.363068</td>\n",
       "      <td>4801108.0</td>\n",
       "      <td>12.45302</td>\n",
       "      <td>10.183524</td>\n",
       "    </tr>\n",
       "    <tr>\n",
       "      <th>1</th>\n",
       "      <td>057</td>\n",
       "      <td>DOTHAN</td>\n",
       "      <td>AL</td>\n",
       "      <td>AL - Dothan</td>\n",
       "      <td>38.0</td>\n",
       "      <td>20312.78</td>\n",
       "      <td>4894.76</td>\n",
       "      <td>3865.50</td>\n",
       "      <td>31.216725</td>\n",
       "      <td>-85.363068</td>\n",
       "      <td>4801108.0</td>\n",
       "      <td>12.45302</td>\n",
       "      <td>10.183524</td>\n",
       "    </tr>\n",
       "    <tr>\n",
       "      <th>2</th>\n",
       "      <td>064</td>\n",
       "      <td>DOTHAN</td>\n",
       "      <td>AL</td>\n",
       "      <td>AL - Dothan</td>\n",
       "      <td>84.0</td>\n",
       "      <td>38820.39</td>\n",
       "      <td>10260.21</td>\n",
       "      <td>9167.08</td>\n",
       "      <td>31.216725</td>\n",
       "      <td>-85.363068</td>\n",
       "      <td>4801108.0</td>\n",
       "      <td>12.45302</td>\n",
       "      <td>10.183524</td>\n",
       "    </tr>\n",
       "  </tbody>\n",
       "</table>\n",
       "</div>"
      ],
      "text/plain": [
       "  drg_id provider_city provider_state hospital_referral_region_description  \\\n",
       "0    039        DOTHAN             AL                          AL - Dothan   \n",
       "1    057        DOTHAN             AL                          AL - Dothan   \n",
       "2    064        DOTHAN             AL                          AL - Dothan   \n",
       "\n",
       "   total_discharges  average_covered_charges  average_total_payments  \\\n",
       "0              91.0                 32963.07                 5777.24   \n",
       "1              38.0                 20312.78                 4894.76   \n",
       "2              84.0                 38820.39                10260.21   \n",
       "\n",
       "   average_medicare_payments        lat        lng  POPESTIMATE2011  \\\n",
       "0                    4763.73  31.216725 -85.363068        4801108.0   \n",
       "1                    3865.50  31.216725 -85.363068        4801108.0   \n",
       "2                    9167.08  31.216725 -85.363068        4801108.0   \n",
       "\n",
       "   RBIRTH2011  RDEATH2011  \n",
       "0    12.45302   10.183524  \n",
       "1    12.45302   10.183524  \n",
       "2    12.45302   10.183524  "
      ]
     },
     "execution_count": 29,
     "metadata": {},
     "output_type": "execute_result"
    }
   ],
   "source": [
    "# Combines all into one dataframe\n",
    "dftot = df.merge(dfprov, on='provider_id')\n",
    "dftot = dftot.merge(dfpop, on='provider_state')\n",
    "#dftot = dftot.drop([list(dftot.columns)[1]]+list(dftot.columns)[3:5]+list(dftot.columns)[11:13],axis=1)\n",
    "dftot = dftot.drop(['drg_definition','provider_id','provider_name', \\\n",
    "                    'provider_street_address','provider_zip_code'],axis=1)\n",
    "dftot.head(3)"
   ]
  },
  {
   "cell_type": "code",
   "execution_count": null,
   "metadata": {
    "collapsed": false
   },
   "outputs": [],
   "source": []
  },
  {
   "cell_type": "code",
   "execution_count": 30,
   "metadata": {
    "collapsed": true
   },
   "outputs": [],
   "source": [
    "from sklearn.linear_model import LinearRegression\n",
    "from sklearn.ensemble import RandomForestRegressor\n",
    "from sklearn.cross_validation import train_test_split\n",
    "from sklearn.preprocessing import LabelEncoder\n",
    "from sklearn.preprocessing import OneHotEncoder"
   ]
  },
  {
   "cell_type": "code",
   "execution_count": 31,
   "metadata": {
    "collapsed": false
   },
   "outputs": [
    {
     "data": {
      "text/html": [
       "<div>\n",
       "<table border=\"1\" class=\"dataframe\">\n",
       "  <thead>\n",
       "    <tr style=\"text-align: right;\">\n",
       "      <th></th>\n",
       "      <th>drg_id</th>\n",
       "      <th>provider_city</th>\n",
       "      <th>provider_state</th>\n",
       "      <th>hospital_referral_region_description</th>\n",
       "      <th>total_discharges</th>\n",
       "      <th>average_covered_charges</th>\n",
       "      <th>average_total_payments</th>\n",
       "      <th>average_medicare_payments</th>\n",
       "      <th>lat</th>\n",
       "      <th>lng</th>\n",
       "      <th>POPESTIMATE2011</th>\n",
       "      <th>RBIRTH2011</th>\n",
       "      <th>RDEATH2011</th>\n",
       "    </tr>\n",
       "  </thead>\n",
       "  <tbody>\n",
       "    <tr>\n",
       "      <th>0</th>\n",
       "      <td>039</td>\n",
       "      <td>454</td>\n",
       "      <td>1</td>\n",
       "      <td>2</td>\n",
       "      <td>91.0</td>\n",
       "      <td>32963.07</td>\n",
       "      <td>5777.24</td>\n",
       "      <td>4763.73</td>\n",
       "      <td>31.216725</td>\n",
       "      <td>-85.363068</td>\n",
       "      <td>4801108.0</td>\n",
       "      <td>12.45302</td>\n",
       "      <td>10.183524</td>\n",
       "    </tr>\n",
       "    <tr>\n",
       "      <th>1</th>\n",
       "      <td>057</td>\n",
       "      <td>454</td>\n",
       "      <td>1</td>\n",
       "      <td>2</td>\n",
       "      <td>38.0</td>\n",
       "      <td>20312.78</td>\n",
       "      <td>4894.76</td>\n",
       "      <td>3865.50</td>\n",
       "      <td>31.216725</td>\n",
       "      <td>-85.363068</td>\n",
       "      <td>4801108.0</td>\n",
       "      <td>12.45302</td>\n",
       "      <td>10.183524</td>\n",
       "    </tr>\n",
       "    <tr>\n",
       "      <th>2</th>\n",
       "      <td>064</td>\n",
       "      <td>454</td>\n",
       "      <td>1</td>\n",
       "      <td>2</td>\n",
       "      <td>84.0</td>\n",
       "      <td>38820.39</td>\n",
       "      <td>10260.21</td>\n",
       "      <td>9167.08</td>\n",
       "      <td>31.216725</td>\n",
       "      <td>-85.363068</td>\n",
       "      <td>4801108.0</td>\n",
       "      <td>12.45302</td>\n",
       "      <td>10.183524</td>\n",
       "    </tr>\n",
       "    <tr>\n",
       "      <th>3</th>\n",
       "      <td>065</td>\n",
       "      <td>454</td>\n",
       "      <td>1</td>\n",
       "      <td>2</td>\n",
       "      <td>169.0</td>\n",
       "      <td>27345.10</td>\n",
       "      <td>6542.08</td>\n",
       "      <td>5438.50</td>\n",
       "      <td>31.216725</td>\n",
       "      <td>-85.363068</td>\n",
       "      <td>4801108.0</td>\n",
       "      <td>12.45302</td>\n",
       "      <td>10.183524</td>\n",
       "    </tr>\n",
       "    <tr>\n",
       "      <th>4</th>\n",
       "      <td>066</td>\n",
       "      <td>454</td>\n",
       "      <td>1</td>\n",
       "      <td>2</td>\n",
       "      <td>33.0</td>\n",
       "      <td>17605.51</td>\n",
       "      <td>4596.39</td>\n",
       "      <td>3618.93</td>\n",
       "      <td>31.216725</td>\n",
       "      <td>-85.363068</td>\n",
       "      <td>4801108.0</td>\n",
       "      <td>12.45302</td>\n",
       "      <td>10.183524</td>\n",
       "    </tr>\n",
       "  </tbody>\n",
       "</table>\n",
       "</div>"
      ],
      "text/plain": [
       "  drg_id  provider_city  provider_state  hospital_referral_region_description  \\\n",
       "0    039            454               1                                     2   \n",
       "1    057            454               1                                     2   \n",
       "2    064            454               1                                     2   \n",
       "3    065            454               1                                     2   \n",
       "4    066            454               1                                     2   \n",
       "\n",
       "   total_discharges  average_covered_charges  average_total_payments  \\\n",
       "0              91.0                 32963.07                 5777.24   \n",
       "1              38.0                 20312.78                 4894.76   \n",
       "2              84.0                 38820.39                10260.21   \n",
       "3             169.0                 27345.10                 6542.08   \n",
       "4              33.0                 17605.51                 4596.39   \n",
       "\n",
       "   average_medicare_payments        lat        lng  POPESTIMATE2011  \\\n",
       "0                    4763.73  31.216725 -85.363068        4801108.0   \n",
       "1                    3865.50  31.216725 -85.363068        4801108.0   \n",
       "2                    9167.08  31.216725 -85.363068        4801108.0   \n",
       "3                    5438.50  31.216725 -85.363068        4801108.0   \n",
       "4                    3618.93  31.216725 -85.363068        4801108.0   \n",
       "\n",
       "   RBIRTH2011  RDEATH2011  \n",
       "0    12.45302   10.183524  \n",
       "1    12.45302   10.183524  \n",
       "2    12.45302   10.183524  \n",
       "3    12.45302   10.183524  \n",
       "4    12.45302   10.183524  "
      ]
     },
     "execution_count": 31,
     "metadata": {},
     "output_type": "execute_result"
    }
   ],
   "source": [
    "le = LabelEncoder()\n",
    "\n",
    "state_enc = le.fit_transform(dftot.provider_state)\n",
    "city_enc = le.fit_transform(dftot.provider_city)\n",
    "refreg_enc = le.fit_transform(dftot.hospital_referral_region_description)\n",
    "\n",
    "dftot['provider_state'] = state_enc\n",
    "dftot['provider_city'] = city_enc\n",
    "dftot['hospital_referral_region_description'] = refreg_enc\n",
    "\n",
    "dftot.head()"
   ]
  },
  {
   "cell_type": "code",
   "execution_count": null,
   "metadata": {
    "collapsed": false
   },
   "outputs": [],
   "source": []
  },
  {
   "cell_type": "code",
   "execution_count": 32,
   "metadata": {
    "collapsed": false
   },
   "outputs": [],
   "source": [
    "proc = dftot.drg_id.unique()"
   ]
  },
  {
   "cell_type": "code",
   "execution_count": 33,
   "metadata": {
    "collapsed": false,
    "scrolled": false
   },
   "outputs": [
    {
     "name": "stdout",
     "output_type": "stream",
     "text": [
      "drg_id:  039\n"
     ]
    },
    {
     "data": {
      "text/html": [
       "<div>\n",
       "<table border=\"1\" class=\"dataframe\">\n",
       "  <thead>\n",
       "    <tr style=\"text-align: right;\">\n",
       "      <th></th>\n",
       "      <th>provider_city</th>\n",
       "      <th>provider_state</th>\n",
       "      <th>hospital_referral_region_description</th>\n",
       "      <th>total_discharges</th>\n",
       "      <th>lat</th>\n",
       "      <th>lng</th>\n",
       "      <th>POPESTIMATE2011</th>\n",
       "      <th>RBIRTH2011</th>\n",
       "      <th>RDEATH2011</th>\n",
       "    </tr>\n",
       "  </thead>\n",
       "  <tbody>\n",
       "    <tr>\n",
       "      <th>0</th>\n",
       "      <td>454</td>\n",
       "      <td>1</td>\n",
       "      <td>2</td>\n",
       "      <td>91.0</td>\n",
       "      <td>31.216725</td>\n",
       "      <td>-85.363068</td>\n",
       "      <td>4801108.0</td>\n",
       "      <td>12.45302</td>\n",
       "      <td>10.183524</td>\n",
       "    </tr>\n",
       "    <tr>\n",
       "      <th>1</th>\n",
       "      <td>177</td>\n",
       "      <td>1</td>\n",
       "      <td>1</td>\n",
       "      <td>14.0</td>\n",
       "      <td>34.221556</td>\n",
       "      <td>-86.159441</td>\n",
       "      <td>4801108.0</td>\n",
       "      <td>12.45302</td>\n",
       "      <td>10.183524</td>\n",
       "    </tr>\n",
       "    <tr>\n",
       "      <th>2</th>\n",
       "      <td>582</td>\n",
       "      <td>1</td>\n",
       "      <td>1</td>\n",
       "      <td>24.0</td>\n",
       "      <td>34.793845</td>\n",
       "      <td>-87.683155</td>\n",
       "      <td>4801108.0</td>\n",
       "      <td>12.45302</td>\n",
       "      <td>10.183524</td>\n",
       "    </tr>\n",
       "    <tr>\n",
       "      <th>3</th>\n",
       "      <td>162</td>\n",
       "      <td>1</td>\n",
       "      <td>1</td>\n",
       "      <td>25.0</td>\n",
       "      <td>33.596457</td>\n",
       "      <td>-86.667650</td>\n",
       "      <td>4801108.0</td>\n",
       "      <td>12.45302</td>\n",
       "      <td>10.183524</td>\n",
       "    </tr>\n",
       "    <tr>\n",
       "      <th>4</th>\n",
       "      <td>13</td>\n",
       "      <td>1</td>\n",
       "      <td>1</td>\n",
       "      <td>18.0</td>\n",
       "      <td>33.252444</td>\n",
       "      <td>-86.813555</td>\n",
       "      <td>4801108.0</td>\n",
       "      <td>12.45302</td>\n",
       "      <td>10.183524</td>\n",
       "    </tr>\n",
       "  </tbody>\n",
       "</table>\n",
       "</div>"
      ],
      "text/plain": [
       "   provider_city  provider_state  hospital_referral_region_description  \\\n",
       "0            454               1                                     2   \n",
       "1            177               1                                     1   \n",
       "2            582               1                                     1   \n",
       "3            162               1                                     1   \n",
       "4             13               1                                     1   \n",
       "\n",
       "   total_discharges        lat        lng  POPESTIMATE2011  RBIRTH2011  \\\n",
       "0              91.0  31.216725 -85.363068        4801108.0    12.45302   \n",
       "1              14.0  34.221556 -86.159441        4801108.0    12.45302   \n",
       "2              24.0  34.793845 -87.683155        4801108.0    12.45302   \n",
       "3              25.0  33.596457 -86.667650        4801108.0    12.45302   \n",
       "4              18.0  33.252444 -86.813555        4801108.0    12.45302   \n",
       "\n",
       "   RDEATH2011  \n",
       "0   10.183524  \n",
       "1   10.183524  \n",
       "2   10.183524  \n",
       "3   10.183524  \n",
       "4   10.183524  "
      ]
     },
     "execution_count": 33,
     "metadata": {},
     "output_type": "execute_result"
    }
   ],
   "source": [
    "inproc = proc[0]\n",
    "print('drg_id: ',inproc)\n",
    "dfcalc = dftot[dftot.drg_id == inproc].reset_index(drop=True)\n",
    "dfX = dfcalc.drop(['drg_id','average_covered_charges','average_total_payments','average_medicare_payments'],axis=1)\n",
    "#dfX.POPESTIMATE2011 = dfX.POPESTIMATE2011/totalpop\n",
    "dfX.head()"
   ]
  },
  {
   "cell_type": "code",
   "execution_count": 34,
   "metadata": {
    "collapsed": false
   },
   "outputs": [],
   "source": [
    "dfY = dfcalc.average_covered_charges"
   ]
  },
  {
   "cell_type": "code",
   "execution_count": 35,
   "metadata": {
    "collapsed": false,
    "scrolled": true
   },
   "outputs": [
    {
     "data": {
      "text/html": [
       "<div>\n",
       "<table border=\"1\" class=\"dataframe\">\n",
       "  <thead>\n",
       "    <tr style=\"text-align: right;\">\n",
       "      <th></th>\n",
       "      <th>coefficients</th>\n",
       "      <th>features</th>\n",
       "    </tr>\n",
       "  </thead>\n",
       "  <tbody>\n",
       "    <tr>\n",
       "      <th>0</th>\n",
       "      <td>-0.378081</td>\n",
       "      <td>provider_city</td>\n",
       "    </tr>\n",
       "    <tr>\n",
       "      <th>1</th>\n",
       "      <td>-97.650353</td>\n",
       "      <td>provider_state</td>\n",
       "    </tr>\n",
       "    <tr>\n",
       "      <th>2</th>\n",
       "      <td>1.380426</td>\n",
       "      <td>hospital_referral_region_description</td>\n",
       "    </tr>\n",
       "    <tr>\n",
       "      <th>3</th>\n",
       "      <td>-123.173973</td>\n",
       "      <td>total_discharges</td>\n",
       "    </tr>\n",
       "    <tr>\n",
       "      <th>4</th>\n",
       "      <td>-601.152950</td>\n",
       "      <td>lat</td>\n",
       "    </tr>\n",
       "    <tr>\n",
       "      <th>5</th>\n",
       "      <td>-300.160632</td>\n",
       "      <td>lng</td>\n",
       "    </tr>\n",
       "    <tr>\n",
       "      <th>6</th>\n",
       "      <td>0.000504</td>\n",
       "      <td>POPESTIMATE2011</td>\n",
       "    </tr>\n",
       "    <tr>\n",
       "      <th>7</th>\n",
       "      <td>-2317.253228</td>\n",
       "      <td>RBIRTH2011</td>\n",
       "    </tr>\n",
       "    <tr>\n",
       "      <th>8</th>\n",
       "      <td>211.544444</td>\n",
       "      <td>RDEATH2011</td>\n",
       "    </tr>\n",
       "  </tbody>\n",
       "</table>\n",
       "</div>"
      ],
      "text/plain": [
       "   coefficients                              features\n",
       "0     -0.378081                         provider_city\n",
       "1    -97.650353                        provider_state\n",
       "2      1.380426  hospital_referral_region_description\n",
       "3   -123.173973                      total_discharges\n",
       "4   -601.152950                                   lat\n",
       "5   -300.160632                                   lng\n",
       "6      0.000504                       POPESTIMATE2011\n",
       "7  -2317.253228                            RBIRTH2011\n",
       "8    211.544444                            RDEATH2011"
      ]
     },
     "execution_count": 35,
     "metadata": {},
     "output_type": "execute_result"
    }
   ],
   "source": [
    "lm = LinearRegression()\n",
    "lm.fit(dfX,dfY)\n",
    "\n",
    "pd.DataFrame({'features':dfX.columns,'coefficients':lm.coef_})"
   ]
  },
  {
   "cell_type": "code",
   "execution_count": 36,
   "metadata": {
    "collapsed": false
   },
   "outputs": [
    {
     "data": {
      "text/plain": [
       "0.28030314596377437"
      ]
     },
     "execution_count": 36,
     "metadata": {},
     "output_type": "execute_result"
    }
   ],
   "source": [
    "lm.score(dfX,dfcalc.average_covered_charges)"
   ]
  },
  {
   "cell_type": "code",
   "execution_count": 37,
   "metadata": {
    "collapsed": false,
    "scrolled": false
   },
   "outputs": [
    {
     "data": {
      "text/plain": [
       "<matplotlib.collections.PathCollection at 0x7f563fded780>"
      ]
     },
     "execution_count": 37,
     "metadata": {},
     "output_type": "execute_result"
    },
    {
     "data": {
      "image/png": "[encoded data removed]",
      "text/plain": [
       "<matplotlib.figure.Figure at 0x7f5642936f60>"
      ]
     },
     "metadata": {},
     "output_type": "display_data"
    }
   ],
   "source": [
    "plt.figure(figsize=(25,12))\n",
    "plt.scatter(dfcalc.hospital_referral_region_description,dfcalc.average_covered_charges)"
   ]
  },
  {
   "cell_type": "code",
   "execution_count": null,
   "metadata": {
    "collapsed": false,
    "scrolled": true
   },
   "outputs": [],
   "source": []
  },
  {
   "cell_type": "code",
   "execution_count": 46,
   "metadata": {
    "collapsed": false
   },
   "outputs": [
    {
     "name": "stdout",
     "output_type": "stream",
     "text": [
      "drg_id:  057\n"
     ]
    },
    {
     "data": {
      "text/html": [
       "<div>\n",
       "<table border=\"1\" class=\"dataframe\">\n",
       "  <thead>\n",
       "    <tr style=\"text-align: right;\">\n",
       "      <th></th>\n",
       "      <th>provider_city</th>\n",
       "      <th>provider_state</th>\n",
       "      <th>hospital_referral_region_description</th>\n",
       "      <th>total_discharges</th>\n",
       "      <th>POPESTIMATE2011</th>\n",
       "      <th>RBIRTH2011</th>\n",
       "      <th>RDEATH2011</th>\n",
       "    </tr>\n",
       "  </thead>\n",
       "  <tbody>\n",
       "    <tr>\n",
       "      <th>0</th>\n",
       "      <td>454</td>\n",
       "      <td>1</td>\n",
       "      <td>2</td>\n",
       "      <td>38.0</td>\n",
       "      <td>4801108.0</td>\n",
       "      <td>12.45302</td>\n",
       "      <td>10.183524</td>\n",
       "    </tr>\n",
       "    <tr>\n",
       "      <th>1</th>\n",
       "      <td>162</td>\n",
       "      <td>1</td>\n",
       "      <td>1</td>\n",
       "      <td>24.0</td>\n",
       "      <td>4801108.0</td>\n",
       "      <td>12.45302</td>\n",
       "      <td>10.183524</td>\n",
       "    </tr>\n",
       "  </tbody>\n",
       "</table>\n",
       "</div>"
      ],
      "text/plain": [
       "   provider_city  provider_state  hospital_referral_region_description  \\\n",
       "0            454               1                                     2   \n",
       "1            162               1                                     1   \n",
       "\n",
       "   total_discharges  POPESTIMATE2011  RBIRTH2011  RDEATH2011  \n",
       "0              38.0        4801108.0    12.45302   10.183524  \n",
       "1              24.0        4801108.0    12.45302   10.183524  "
      ]
     },
     "execution_count": 46,
     "metadata": {},
     "output_type": "execute_result"
    }
   ],
   "source": [
    "inproc = proc[1]\n",
    "print('drg_id: ',inproc)\n",
    "dfcalc = dftot[dftot.drg_id == inproc].reset_index(drop=True)\n",
    "dfX = dfcalc.drop(['drg_id','average_covered_charges','average_total_payments','average_medicare_payments','lat','lng'],axis=1)\n",
    "#dfX.POPESTIMATE2011 = dfX.POPESTIMATE2011/totalpop\n",
    "dfX.head(2)"
   ]
  },
  {
   "cell_type": "code",
   "execution_count": null,
   "metadata": {
    "collapsed": false
   },
   "outputs": [],
   "source": []
  },
  {
   "cell_type": "code",
   "execution_count": 47,
   "metadata": {
    "collapsed": false
   },
   "outputs": [
    {
     "data": {
      "text/plain": [
       "0    1\n",
       "1    2\n",
       "2    2\n",
       "3    0\n",
       "4    3\n",
       "Name: average_covered_charges, dtype: category\n",
       "Categories (4, int64): [0 < 1 < 2 < 3]"
      ]
     },
     "execution_count": 47,
     "metadata": {},
     "output_type": "execute_result"
    }
   ],
   "source": [
    "dfY = pd.qcut(dfcalc.average_covered_charges,4,labels=range(4))\n",
    "dfY.head()"
   ]
  },
  {
   "cell_type": "code",
   "execution_count": 52,
   "metadata": {
    "collapsed": false
   },
   "outputs": [
    {
     "data": {
      "text/plain": [
       "0.88276537807398758"
      ]
     },
     "execution_count": 52,
     "metadata": {},
     "output_type": "execute_result"
    }
   ],
   "source": [
    "rf = RandomForestRegressor(n_jobs=-1)\n",
    "rf.n_estimators=10\n",
    "\n",
    "rf.fit(dfX,dfY)\n",
    "rf.score(dfX,dfY)"
   ]
  },
  {
   "cell_type": "code",
   "execution_count": null,
   "metadata": {
    "collapsed": false
   },
   "outputs": [],
   "source": []
  },
  {
   "cell_type": "code",
   "execution_count": 53,
   "metadata": {
    "collapsed": false
   },
   "outputs": [
    {
     "data": {
      "image/png": "[encoded data removed]",
      "text/plain": [
       "<matplotlib.figure.Figure at 0x7f5642929cc0>"
      ]
     },
     "metadata": {},
     "output_type": "display_data"
    }
   ],
   "source": [
    "rf = RandomForestRegressor(n_jobs=-1)\n",
    "rf.n_estimators=10\n",
    "i = 0\n",
    "it = 10\n",
    "score = [0.0]*it\n",
    "\n",
    "for i in range(it):\n",
    "    X_train, X_test, y_train, y_test = train_test_split(dfX, dfY, train_size=2./3)\n",
    "    rf.fit(X_train,y_train)\n",
    "    score[i] = rf.score(X_test,y_test)\n",
    "    \n",
    "plt.plot(score)\n",
    "plt.ylim(0,1);"
   ]
  },
  {
   "cell_type": "code",
   "execution_count": null,
   "metadata": {
    "collapsed": false
   },
   "outputs": [],
   "source": []
  },
  {
   "cell_type": "code",
   "execution_count": null,
   "metadata": {
    "collapsed": false
   },
   "outputs": [],
   "source": [
    "# Combines all into one dataframe\n",
    "dftot = df.merge(dfprov, on='provider_id')\n",
    "dftot = dftot.merge(dfpop, on='provider_state')\n",
    "dftot = dftot.drop(dftot.columns[0:4].union(dftot.columns[6:7]),axis=1)\n",
    "dftot.head(3)"
   ]
  },
  {
   "cell_type": "code",
   "execution_count": null,
   "metadata": {
    "collapsed": false,
    "scrolled": false
   },
   "outputs": [],
   "source": [
    "#ohe = OneHotEncoder()\n",
    "df_ohe = pd.get_dummies(dftot, columns=['provider_city','provider_state','hospital_referral_region_description'], dummy_na=True)\n",
    "df_ohe.head()"
   ]
  },
  {
   "cell_type": "code",
   "execution_count": null,
   "metadata": {
    "collapsed": false
   },
   "outputs": [],
   "source": [
    "inproc = proc[1]\n",
    "print('drg_id: ',inproc)\n",
    "dfcalc = df_ohe[df_ohe.drg_id == inproc].reset_index(drop=True)\n",
    "dfX = dfcalc.drop(['drg_id','average_covered_charges','average_total_payments','average_medicare_payments'],axis=1)\n",
    "#dfX.POPESTIMATE2011 = dfX.POPESTIMATE2011/totalpop\n",
    "dfX.head(2)"
   ]
  },
  {
   "cell_type": "code",
   "execution_count": null,
   "metadata": {
    "collapsed": false
   },
   "outputs": [],
   "source": [
    "dfY = pd.qcut(dfcalc.average_covered_charges,6,labels=range(6))\n",
    "dfY.head()"
   ]
  },
  {
   "cell_type": "code",
   "execution_count": null,
   "metadata": {
    "collapsed": false
   },
   "outputs": [],
   "source": [
    "rf = RandomForestRegressor(n_jobs=-1)\n",
    "rf.n_estimators=100\n",
    "i = 0\n",
    "it = 10\n",
    "score = [0.0]*it\n",
    "\n",
    "for i in range(it):\n",
    "    X_train, X_test, y_train, y_test = train_test_split(dfX, dfY, train_size=2./3)\n",
    "    rf.fit(X_train,y_train)\n",
    "    score[i] = rf.score(X_test,y_test)\n",
    "    \n",
    "plt.plot(score)\n",
    "plt.ylim(0,1);"
   ]
  },
  {
   "cell_type": "code",
   "execution_count": null,
   "metadata": {
    "collapsed": false
   },
   "outputs": [],
   "source": [
    "dftot.head()"
   ]
  },
  {
   "cell_type": "code",
   "execution_count": null,
   "metadata": {
    "collapsed": true
   },
   "outputs": [],
   "source": []
  },
  {
   "cell_type": "code",
   "execution_count": null,
   "metadata": {
    "collapsed": false
   },
   "outputs": [],
   "source": []
  },
  {
   "cell_type": "code",
   "execution_count": null,
   "metadata": {
    "collapsed": false
   },
   "outputs": [],
   "source": []
  },
  {
   "cell_type": "code",
   "execution_count": null,
   "metadata": {
    "collapsed": false
   },
   "outputs": [],
   "source": [
    "\n"
   ]
  },
  {
   "cell_type": "code",
   "execution_count": null,
   "metadata": {
    "collapsed": false
   },
   "outputs": [],
   "source": []
  },
  {
   "cell_type": "code",
   "execution_count": null,
   "metadata": {
    "collapsed": false
   },
   "outputs": [],
   "source": []
  },
  {
   "cell_type": "code",
   "execution_count": null,
   "metadata": {
    "collapsed": false
   },
   "outputs": [],
   "source": []
  },
  {
   "cell_type": "code",
   "execution_count": null,
   "metadata": {
    "collapsed": false
   },
   "outputs": [],
   "source": []
  },
  {
   "cell_type": "code",
   "execution_count": null,
   "metadata": {
    "collapsed": false
   },
   "outputs": [],
   "source": []
  },
  {
   "cell_type": "code",
   "execution_count": null,
   "metadata": {
    "collapsed": true
   },
   "outputs": [],
   "source": []
  }
 ],
 "metadata": {
  "kernelspec": {
   "display_name": "Python 3",
   "language": "python",
   "name": "python3"
  },
  "language_info": {
   "codemirror_mode": {
    "name": "ipython",
    "version": 3
   },
   "file_extension": ".py",
   "mimetype": "text/x-python",
   "name": "python",
   "nbconvert_exporter": "python",
   "pygments_lexer": "ipython3",
   "version": "3.5.2"
  }
 },
 "nbformat": 4,
 "nbformat_minor": 0
}
