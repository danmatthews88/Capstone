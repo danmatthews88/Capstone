{
 "cells": [
  {
   "cell_type": "code",
   "execution_count": 35,
   "metadata": {
    "collapsed": true
   },
   "outputs": [],
   "source": [
    "import pandas as pd\n",
    "import numpy as np\n",
    "import matplotlib.pyplot as plt"
   ]
  },
  {
   "cell_type": "code",
   "execution_count": 36,
   "metadata": {
    "collapsed": true
   },
   "outputs": [],
   "source": [
    "%matplotlib inline"
   ]
  },
  {
   "cell_type": "code",
   "execution_count": 37,
   "metadata": {
    "collapsed": false
   },
   "outputs": [],
   "source": [
    "from sklearn.linear_model import LinearRegression,LogisticRegression\n",
    "from sklearn.ensemble import RandomForestRegressor, RandomForestClassifier\n",
    "from sklearn.cross_validation import train_test_split\n",
    "from sklearn.preprocessing import LabelEncoder, OneHotEncoder, scale\n",
    "from sklearn import metrics as mt # mean_squared_error, confusion_matrix, roc_auc_score\n",
    "from sklearn.neighbors import NearestNeighbors"
   ]
  },
  {
   "cell_type": "code",
   "execution_count": null,
   "metadata": {
    "collapsed": true
   },
   "outputs": [],
   "source": []
  },
  {
   "cell_type": "code",
   "execution_count": 133,
   "metadata": {
    "collapsed": false,
    "scrolled": false
   },
   "outputs": [
    {
     "data": {
      "text/html": [
       "<div>\n",
       "<table border=\"1\" class=\"dataframe\">\n",
       "  <thead>\n",
       "    <tr style=\"text-align: right;\">\n",
       "      <th></th>\n",
       "      <th>drg_id</th>\n",
       "      <th>drg_definition</th>\n",
       "      <th>provider_id</th>\n",
       "      <th>provider_name</th>\n",
       "      <th>provider_street_address</th>\n",
       "      <th>provider_city</th>\n",
       "      <th>provider_state</th>\n",
       "      <th>provider_zip_code</th>\n",
       "      <th>hospital_referral_region_description</th>\n",
       "      <th>total_discharges</th>\n",
       "      <th>average_covered_charges</th>\n",
       "      <th>average_total_payments</th>\n",
       "      <th>average_medicare_payments</th>\n",
       "      <th>provider_city_state</th>\n",
       "    </tr>\n",
       "  </thead>\n",
       "  <tbody>\n",
       "    <tr>\n",
       "      <th>0</th>\n",
       "      <td>039</td>\n",
       "      <td>039 - EXTRACRANIAL PROCEDURES W/O CC/MCC</td>\n",
       "      <td>10001</td>\n",
       "      <td>SOUTHEAST ALABAMA MEDICAL CENTER</td>\n",
       "      <td>1108 ROSS CLARK CIRCLE</td>\n",
       "      <td>DOTHAN</td>\n",
       "      <td>AL</td>\n",
       "      <td>36301</td>\n",
       "      <td>AL - Dothan</td>\n",
       "      <td>91.0</td>\n",
       "      <td>32963.07</td>\n",
       "      <td>5777.24</td>\n",
       "      <td>4763.73</td>\n",
       "      <td>DOTHAN, AL</td>\n",
       "    </tr>\n",
       "    <tr>\n",
       "      <th>1</th>\n",
       "      <td>039</td>\n",
       "      <td>039 - EXTRACRANIAL PROCEDURES W/O CC/MCC</td>\n",
       "      <td>10005</td>\n",
       "      <td>MARSHALL MEDICAL CENTER SOUTH</td>\n",
       "      <td>2505 U S HIGHWAY 431 NORTH</td>\n",
       "      <td>BOAZ</td>\n",
       "      <td>AL</td>\n",
       "      <td>35957</td>\n",
       "      <td>AL - Birmingham</td>\n",
       "      <td>14.0</td>\n",
       "      <td>15131.85</td>\n",
       "      <td>5787.57</td>\n",
       "      <td>4976.71</td>\n",
       "      <td>BOAZ, AL</td>\n",
       "    </tr>\n",
       "    <tr>\n",
       "      <th>2</th>\n",
       "      <td>039</td>\n",
       "      <td>039 - EXTRACRANIAL PROCEDURES W/O CC/MCC</td>\n",
       "      <td>10006</td>\n",
       "      <td>ELIZA COFFEE MEMORIAL HOSPITAL</td>\n",
       "      <td>205 MARENGO STREET</td>\n",
       "      <td>FLORENCE</td>\n",
       "      <td>AL</td>\n",
       "      <td>35631</td>\n",
       "      <td>AL - Birmingham</td>\n",
       "      <td>24.0</td>\n",
       "      <td>37560.37</td>\n",
       "      <td>5434.95</td>\n",
       "      <td>4453.79</td>\n",
       "      <td>FLORENCE, AL</td>\n",
       "    </tr>\n",
       "  </tbody>\n",
       "</table>\n",
       "</div>"
      ],
      "text/plain": [
       "  drg_id                            drg_definition provider_id  \\\n",
       "0    039  039 - EXTRACRANIAL PROCEDURES W/O CC/MCC       10001   \n",
       "1    039  039 - EXTRACRANIAL PROCEDURES W/O CC/MCC       10005   \n",
       "2    039  039 - EXTRACRANIAL PROCEDURES W/O CC/MCC       10006   \n",
       "\n",
       "                      provider_name     provider_street_address provider_city  \\\n",
       "0  SOUTHEAST ALABAMA MEDICAL CENTER      1108 ROSS CLARK CIRCLE        DOTHAN   \n",
       "1     MARSHALL MEDICAL CENTER SOUTH  2505 U S HIGHWAY 431 NORTH          BOAZ   \n",
       "2    ELIZA COFFEE MEMORIAL HOSPITAL          205 MARENGO STREET      FLORENCE   \n",
       "\n",
       "  provider_state provider_zip_code hospital_referral_region_description  \\\n",
       "0             AL             36301                          AL - Dothan   \n",
       "1             AL             35957                      AL - Birmingham   \n",
       "2             AL             35631                      AL - Birmingham   \n",
       "\n",
       "   total_discharges  average_covered_charges  average_total_payments  \\\n",
       "0              91.0                 32963.07                 5777.24   \n",
       "1              14.0                 15131.85                 5787.57   \n",
       "2              24.0                 37560.37                 5434.95   \n",
       "\n",
       "   average_medicare_payments provider_city_state  \n",
       "0                    4763.73          DOTHAN, AL  \n",
       "1                    4976.71            BOAZ, AL  \n",
       "2                    4453.79        FLORENCE, AL  "
      ]
     },
     "execution_count": 133,
     "metadata": {},
     "output_type": "execute_result"
    }
   ],
   "source": [
    "# cleaned up IPPS dataset\n",
    "df=pd.read_csv('data/IPPS_Data_Clean.csv', \\\n",
    "               dtype={'provider_id':str,'provider_zip_code':str, 'drg_id':str,'total_discharges':float})\n",
    "\n",
    "df['provider_city_state'] = df.provider_city + ', ' + df.provider_state\n",
    "df.head(3)"
   ]
  },
  {
   "cell_type": "code",
   "execution_count": null,
   "metadata": {
    "collapsed": false,
    "scrolled": false
   },
   "outputs": [],
   "source": []
  },
  {
   "cell_type": "code",
   "execution_count": 134,
   "metadata": {
    "collapsed": false
   },
   "outputs": [
    {
     "data": {
      "text/html": [
       "<div>\n",
       "<table border=\"1\" class=\"dataframe\">\n",
       "  <thead>\n",
       "    <tr style=\"text-align: right;\">\n",
       "      <th></th>\n",
       "      <th>drg_id</th>\n",
       "      <th>median_covered_charges</th>\n",
       "    </tr>\n",
       "  </thead>\n",
       "  <tbody>\n",
       "    <tr>\n",
       "      <th>0</th>\n",
       "      <td>039</td>\n",
       "      <td>26651.000</td>\n",
       "    </tr>\n",
       "    <tr>\n",
       "      <th>1</th>\n",
       "      <td>057</td>\n",
       "      <td>20453.050</td>\n",
       "    </tr>\n",
       "    <tr>\n",
       "      <th>2</th>\n",
       "      <td>069</td>\n",
       "      <td>18342.265</td>\n",
       "    </tr>\n",
       "    <tr>\n",
       "      <th>3</th>\n",
       "      <td>064</td>\n",
       "      <td>40953.590</td>\n",
       "    </tr>\n",
       "    <tr>\n",
       "      <th>4</th>\n",
       "      <td>065</td>\n",
       "      <td>25151.470</td>\n",
       "    </tr>\n",
       "  </tbody>\n",
       "</table>\n",
       "</div>"
      ],
      "text/plain": [
       "  drg_id  median_covered_charges\n",
       "0    039               26651.000\n",
       "1    057               20453.050\n",
       "2    069               18342.265\n",
       "3    064               40953.590\n",
       "4    065               25151.470"
      ]
     },
     "execution_count": 134,
     "metadata": {},
     "output_type": "execute_result"
    }
   ],
   "source": [
    "# Calculates the national median cost for each procedure\n",
    "natmed = pd.DataFrame(df.groupby('drg_id',sort=False)['average_covered_charges'].median()).reset_index()\n",
    "natmed = natmed.rename(columns={'average_covered_charges':'median_covered_charges'})\n",
    "natmed.head()"
   ]
  },
  {
   "cell_type": "code",
   "execution_count": 135,
   "metadata": {
    "collapsed": false,
    "scrolled": true
   },
   "outputs": [
    {
     "data": {
      "text/html": [
       "<div>\n",
       "<table border=\"1\" class=\"dataframe\">\n",
       "  <thead>\n",
       "    <tr style=\"text-align: right;\">\n",
       "      <th></th>\n",
       "      <th>drg_id</th>\n",
       "      <th>drg_definition</th>\n",
       "      <th>provider_id</th>\n",
       "      <th>provider_name</th>\n",
       "      <th>provider_street_address</th>\n",
       "      <th>provider_city</th>\n",
       "      <th>provider_state</th>\n",
       "      <th>provider_zip_code</th>\n",
       "      <th>hospital_referral_region_description</th>\n",
       "      <th>total_discharges</th>\n",
       "      <th>average_covered_charges</th>\n",
       "      <th>average_total_payments</th>\n",
       "      <th>average_medicare_payments</th>\n",
       "      <th>provider_city_state</th>\n",
       "      <th>frac_diff</th>\n",
       "    </tr>\n",
       "  </thead>\n",
       "  <tbody>\n",
       "    <tr>\n",
       "      <th>0</th>\n",
       "      <td>039</td>\n",
       "      <td>039 - EXTRACRANIAL PROCEDURES W/O CC/MCC</td>\n",
       "      <td>10001</td>\n",
       "      <td>SOUTHEAST ALABAMA MEDICAL CENTER</td>\n",
       "      <td>1108 ROSS CLARK CIRCLE</td>\n",
       "      <td>DOTHAN</td>\n",
       "      <td>AL</td>\n",
       "      <td>36301</td>\n",
       "      <td>AL - Dothan</td>\n",
       "      <td>91.0</td>\n",
       "      <td>32963.07</td>\n",
       "      <td>5777.24</td>\n",
       "      <td>4763.73</td>\n",
       "      <td>DOTHAN, AL</td>\n",
       "      <td>0.236842</td>\n",
       "    </tr>\n",
       "    <tr>\n",
       "      <th>1</th>\n",
       "      <td>039</td>\n",
       "      <td>039 - EXTRACRANIAL PROCEDURES W/O CC/MCC</td>\n",
       "      <td>10005</td>\n",
       "      <td>MARSHALL MEDICAL CENTER SOUTH</td>\n",
       "      <td>2505 U S HIGHWAY 431 NORTH</td>\n",
       "      <td>BOAZ</td>\n",
       "      <td>AL</td>\n",
       "      <td>35957</td>\n",
       "      <td>AL - Birmingham</td>\n",
       "      <td>14.0</td>\n",
       "      <td>15131.85</td>\n",
       "      <td>5787.57</td>\n",
       "      <td>4976.71</td>\n",
       "      <td>BOAZ, AL</td>\n",
       "      <td>-0.432222</td>\n",
       "    </tr>\n",
       "    <tr>\n",
       "      <th>2</th>\n",
       "      <td>039</td>\n",
       "      <td>039 - EXTRACRANIAL PROCEDURES W/O CC/MCC</td>\n",
       "      <td>10006</td>\n",
       "      <td>ELIZA COFFEE MEMORIAL HOSPITAL</td>\n",
       "      <td>205 MARENGO STREET</td>\n",
       "      <td>FLORENCE</td>\n",
       "      <td>AL</td>\n",
       "      <td>35631</td>\n",
       "      <td>AL - Birmingham</td>\n",
       "      <td>24.0</td>\n",
       "      <td>37560.37</td>\n",
       "      <td>5434.95</td>\n",
       "      <td>4453.79</td>\n",
       "      <td>FLORENCE, AL</td>\n",
       "      <td>0.409342</td>\n",
       "    </tr>\n",
       "  </tbody>\n",
       "</table>\n",
       "</div>"
      ],
      "text/plain": [
       "  drg_id                            drg_definition provider_id  \\\n",
       "0    039  039 - EXTRACRANIAL PROCEDURES W/O CC/MCC       10001   \n",
       "1    039  039 - EXTRACRANIAL PROCEDURES W/O CC/MCC       10005   \n",
       "2    039  039 - EXTRACRANIAL PROCEDURES W/O CC/MCC       10006   \n",
       "\n",
       "                      provider_name     provider_street_address provider_city  \\\n",
       "0  SOUTHEAST ALABAMA MEDICAL CENTER      1108 ROSS CLARK CIRCLE        DOTHAN   \n",
       "1     MARSHALL MEDICAL CENTER SOUTH  2505 U S HIGHWAY 431 NORTH          BOAZ   \n",
       "2    ELIZA COFFEE MEMORIAL HOSPITAL          205 MARENGO STREET      FLORENCE   \n",
       "\n",
       "  provider_state provider_zip_code hospital_referral_region_description  \\\n",
       "0             AL             36301                          AL - Dothan   \n",
       "1             AL             35957                      AL - Birmingham   \n",
       "2             AL             35631                      AL - Birmingham   \n",
       "\n",
       "   total_discharges  average_covered_charges  average_total_payments  \\\n",
       "0              91.0                 32963.07                 5777.24   \n",
       "1              14.0                 15131.85                 5787.57   \n",
       "2              24.0                 37560.37                 5434.95   \n",
       "\n",
       "   average_medicare_payments provider_city_state  frac_diff  \n",
       "0                    4763.73          DOTHAN, AL   0.236842  \n",
       "1                    4976.71            BOAZ, AL  -0.432222  \n",
       "2                    4453.79        FLORENCE, AL   0.409342  "
      ]
     },
     "execution_count": 135,
     "metadata": {},
     "output_type": "execute_result"
    }
   ],
   "source": [
    "# Adds a column that is the fractional difference in total charges from the national median (for that \n",
    "# particular procedure)\n",
    "procedures=df.drg_id.unique()\n",
    "df['frac_diff'] = 0.0#pd.Series([0.0]*len(df))\n",
    "\n",
    "for i in procedures:\n",
    "    med = natmed.loc[natmed.drg_id == i,'median_covered_charges'].iloc[0]\n",
    "    df.loc[df.drg_id == i,'frac_diff'] = df.loc[df.drg_id == i,'average_covered_charges']/med - 1.0\n",
    "\n",
    "df.head(3)"
   ]
  },
  {
   "cell_type": "code",
   "execution_count": null,
   "metadata": {
    "collapsed": false,
    "scrolled": false
   },
   "outputs": [],
   "source": [
    "# prov = df.provider_id.unique()\n",
    "# dfprov = df.drop_duplicates(subset='provider_id')\n",
    "# dfprov = dfprov.drop(['drg_id','drg_definition']+list(df.columns[9:14]),axis=1)\n",
    "\n",
    "# fm = pd.DataFrame(df.groupby('provider_id',sort=False)['frac_diff'].mean()).reset_index()\n",
    "# dfprov = dfprov.merge(fm,on='provider_id')\n",
    "\n",
    "# df = dfprov\n",
    "# df.head()"
   ]
  },
  {
   "cell_type": "code",
   "execution_count": 136,
   "metadata": {
    "collapsed": false
   },
   "outputs": [
    {
     "data": {
      "text/html": [
       "<div>\n",
       "<table border=\"1\" class=\"dataframe\">\n",
       "  <thead>\n",
       "    <tr style=\"text-align: right;\">\n",
       "      <th></th>\n",
       "      <th>provider_id</th>\n",
       "      <th>lat</th>\n",
       "      <th>lng</th>\n",
       "    </tr>\n",
       "  </thead>\n",
       "  <tbody>\n",
       "    <tr>\n",
       "      <th>0</th>\n",
       "      <td>10001</td>\n",
       "      <td>31.216725</td>\n",
       "      <td>-85.363068</td>\n",
       "    </tr>\n",
       "    <tr>\n",
       "      <th>1</th>\n",
       "      <td>10005</td>\n",
       "      <td>34.221556</td>\n",
       "      <td>-86.159441</td>\n",
       "    </tr>\n",
       "    <tr>\n",
       "      <th>2</th>\n",
       "      <td>10006</td>\n",
       "      <td>34.793845</td>\n",
       "      <td>-87.683155</td>\n",
       "    </tr>\n",
       "  </tbody>\n",
       "</table>\n",
       "</div>"
      ],
      "text/plain": [
       "  provider_id        lat        lng\n",
       "0       10001  31.216725 -85.363068\n",
       "1       10005  34.221556 -86.159441\n",
       "2       10006  34.793845 -87.683155"
      ]
     },
     "execution_count": 136,
     "metadata": {},
     "output_type": "execute_result"
    }
   ],
   "source": [
    "# GPS locations of every unique provider\n",
    "\n",
    "dfprov=pd.read_csv('data/Providers_Geocode.csv',usecols=['provider_id','lat','lng'],dtype={'provider_id':str})\n",
    "dfprov.head(3)"
   ]
  },
  {
   "cell_type": "code",
   "execution_count": null,
   "metadata": {
    "collapsed": false
   },
   "outputs": [],
   "source": [
    "# dfins = pd.read_csv('InsuranceCoverage_Adults16-64.csv',usecols=['Location','Uninsured'])#,encoding='Latin')\n",
    "# dfins=dfins[1:].reset_index(drop=True)#.head()\n",
    "\n",
    "# # Dataframe that lists states and their abbreviations for mapping\n",
    "# abbrev = pd.read_csv('states.csv').rename(columns={'State':'Location','Abbreviation':'provider_state'})\n",
    "# dfins = dfins.merge(abbrev,on ='Location')[['provider_state','Uninsured']]\n",
    "# dfins.head()"
   ]
  },
  {
   "cell_type": "code",
   "execution_count": 137,
   "metadata": {
    "collapsed": false
   },
   "outputs": [
    {
     "data": {
      "text/html": [
       "<div>\n",
       "<table border=\"1\" class=\"dataframe\">\n",
       "  <thead>\n",
       "    <tr style=\"text-align: right;\">\n",
       "      <th></th>\n",
       "      <th>provider_state</th>\n",
       "      <th>state_population2011</th>\n",
       "    </tr>\n",
       "  </thead>\n",
       "  <tbody>\n",
       "    <tr>\n",
       "      <th>0</th>\n",
       "      <td>AL</td>\n",
       "      <td>4801108</td>\n",
       "    </tr>\n",
       "    <tr>\n",
       "      <th>1</th>\n",
       "      <td>AK</td>\n",
       "      <td>722720</td>\n",
       "    </tr>\n",
       "    <tr>\n",
       "      <th>2</th>\n",
       "      <td>AZ</td>\n",
       "      <td>6468732</td>\n",
       "    </tr>\n",
       "  </tbody>\n",
       "</table>\n",
       "</div>"
      ],
      "text/plain": [
       "  provider_state  state_population2011\n",
       "0             AL               4801108\n",
       "1             AK                722720\n",
       "2             AZ               6468732"
      ]
     },
     "execution_count": 137,
     "metadata": {},
     "output_type": "execute_result"
    }
   ],
   "source": [
    "# Population by state dataframe (Census.gov)\n",
    "\n",
    "dfstates=pd.read_csv('data/NST-EST2015-alldata.csv',usecols=['NAME','POPESTIMATE2011'])#,dtype={'POPESTIMATE2011':float})\n",
    "dfstates = dfstates[5:56].reset_index(drop=True)\n",
    "\n",
    "# Dataframe that lists states and their abbreviations for mapping\n",
    "abbrev = pd.read_csv('data/states.csv').rename(columns={'State':'NAME','Abbreviation':'provider_state'})\n",
    "\n",
    "dfstates = dfstates.merge(abbrev,on ='NAME')\n",
    "dfstates = dfstates[['provider_state','POPESTIMATE2011']]#,'RBIRTH2011','RDEATH2011']]\n",
    "dfstates = dfstates.rename(columns={'POPESTIMATE2011':'state_population2011'})\n",
    "\n",
    "dfstates.head(3)"
   ]
  },
  {
   "cell_type": "code",
   "execution_count": 138,
   "metadata": {
    "collapsed": false,
    "scrolled": false
   },
   "outputs": [
    {
     "name": "stdout",
     "output_type": "stream",
     "text": [
      "19513\n",
      "19513\n"
     ]
    },
    {
     "data": {
      "text/html": [
       "<div>\n",
       "<table border=\"1\" class=\"dataframe\">\n",
       "  <thead>\n",
       "    <tr style=\"text-align: right;\">\n",
       "      <th></th>\n",
       "      <th>provider_city_state</th>\n",
       "      <th>city_population2011</th>\n",
       "    </tr>\n",
       "  </thead>\n",
       "  <tbody>\n",
       "    <tr>\n",
       "      <th>0</th>\n",
       "      <td>ABBEVILLE, AL</td>\n",
       "      <td>2686</td>\n",
       "    </tr>\n",
       "    <tr>\n",
       "      <th>1</th>\n",
       "      <td>ADAMSVILLE, AL</td>\n",
       "      <td>4496</td>\n",
       "    </tr>\n",
       "    <tr>\n",
       "      <th>2</th>\n",
       "      <td>ADDISON, AL</td>\n",
       "      <td>753</td>\n",
       "    </tr>\n",
       "    <tr>\n",
       "      <th>3</th>\n",
       "      <td>AKRON, AL</td>\n",
       "      <td>345</td>\n",
       "    </tr>\n",
       "    <tr>\n",
       "      <th>4</th>\n",
       "      <td>ALABASTER, AL</td>\n",
       "      <td>31281</td>\n",
       "    </tr>\n",
       "  </tbody>\n",
       "</table>\n",
       "</div>"
      ],
      "text/plain": [
       "  provider_city_state  city_population2011\n",
       "0       ABBEVILLE, AL                 2686\n",
       "1      ADAMSVILLE, AL                 4496\n",
       "2         ADDISON, AL                  753\n",
       "3           AKRON, AL                  345\n",
       "4       ALABASTER, AL                31281"
      ]
     },
     "execution_count": 138,
     "metadata": {},
     "output_type": "execute_result"
    }
   ],
   "source": [
    "# Population by city dataframe (Census.gov)\n",
    "\n",
    "dfcities = pd.read_csv('data/SUB-EST2015_ALL.csv',encoding='latin-1',usecols=['SUMLEV','NAME','STNAME','POPESTIMATE2011'])\n",
    "dfcities = dfcities[(dfcities.SUMLEV == 162) | (dfcities.SUMLEV == 170)]\n",
    "print(len(dfcities))\n",
    "# Dataframe that lists states and their abbreviations for mapping\n",
    "abbrev = pd.read_csv('data/states.csv').rename(columns={'State':'STNAME','Abbreviation':'provider_state'})\n",
    "\n",
    "dfcities = dfcities.merge(abbrev,on ='STNAME')\n",
    "dfcities = dfcities[['NAME','provider_state','POPESTIMATE2011']]\n",
    "dfcities = dfcities.rename(columns={'NAME':'provider_city','POPESTIMATE2011':'city_population2011'})\n",
    "\n",
    "#removes ' city' and ' town' from end of name\n",
    "dfcities.provider_city = dfcities.provider_city.map(lambda x: str(x)[:-5]).str.upper()\n",
    "\n",
    "dfcities['provider_city_state'] = dfcities.provider_city + ', ' +dfcities.provider_state\n",
    "dfcities = dfcities[['provider_city_state','city_population2011']]\n",
    "print(len(dfcities))\n",
    "dfcities.head()"
   ]
  },
  {
   "cell_type": "code",
   "execution_count": 130,
   "metadata": {
    "collapsed": false,
    "scrolled": true
   },
   "outputs": [],
   "source": [
    "# dfcities[(dfcities.NAME.map(lambda x: str(x)[-5:]) != ' town') & \\\n",
    "#          (dfcities.NAME.map(lambda x: str(x)[-5:]) != ' city') & \\\n",
    "#          (dfcities.NAME.map(lambda x: str(x)[-13:]) != ' municipality') & \\\n",
    "#          (dfcities.NAME.map(lambda x: str(x)[-8:]) != ' borough') & \\\n",
    "#          (dfcities.NAME.map(lambda x: str(x)[-8:]) != ' village')].reset_index()"
   ]
  },
  {
   "cell_type": "code",
   "execution_count": null,
   "metadata": {
    "collapsed": false
   },
   "outputs": [],
   "source": []
  },
  {
   "cell_type": "code",
   "execution_count": 139,
   "metadata": {
    "collapsed": false
   },
   "outputs": [
    {
     "data": {
      "text/html": [
       "<div>\n",
       "<table border=\"1\" class=\"dataframe\">\n",
       "  <thead>\n",
       "    <tr style=\"text-align: right;\">\n",
       "      <th></th>\n",
       "      <th>provider_zip_code</th>\n",
       "      <th>zip_population2010</th>\n",
       "      <th>zip_pop2010_density</th>\n",
       "    </tr>\n",
       "  </thead>\n",
       "  <tbody>\n",
       "    <tr>\n",
       "      <th>0</th>\n",
       "      <td>00601</td>\n",
       "      <td>0</td>\n",
       "      <td>0.0</td>\n",
       "    </tr>\n",
       "    <tr>\n",
       "      <th>1</th>\n",
       "      <td>00602</td>\n",
       "      <td>0</td>\n",
       "      <td>0.0</td>\n",
       "    </tr>\n",
       "    <tr>\n",
       "      <th>2</th>\n",
       "      <td>00603</td>\n",
       "      <td>0</td>\n",
       "      <td>0.0</td>\n",
       "    </tr>\n",
       "    <tr>\n",
       "      <th>3</th>\n",
       "      <td>00606</td>\n",
       "      <td>0</td>\n",
       "      <td>0.0</td>\n",
       "    </tr>\n",
       "    <tr>\n",
       "      <th>4</th>\n",
       "      <td>00610</td>\n",
       "      <td>0</td>\n",
       "      <td>0.0</td>\n",
       "    </tr>\n",
       "  </tbody>\n",
       "</table>\n",
       "</div>"
      ],
      "text/plain": [
       "  provider_zip_code  zip_population2010  zip_pop2010_density\n",
       "0             00601                   0                  0.0\n",
       "1             00602                   0                  0.0\n",
       "2             00603                   0                  0.0\n",
       "3             00606                   0                  0.0\n",
       "4             00610                   0                  0.0"
      ]
     },
     "execution_count": 139,
     "metadata": {},
     "output_type": "execute_result"
    }
   ],
   "source": [
    "# Population by zip code dataframe (http://notnullhypothesis.com/2010-census-data-by-zip-code-population/)\n",
    "\n",
    "#dfzip = pd.read_csv('2010CensusPopulationData.csv',usecols=['Zip','Population'],dtype={'Zip':str})\n",
    "dfzip = pd.read_csv('data/Zipcode-ZCTA-Population-Density-And-Area-Unsorted.csv', \\\n",
    "                   dtype={'Zip':str},usecols=['Zip','2010 Population','Density Per Sq Mile'])\n",
    "dfzip.Zip = dfzip.Zip.str.zfill(5)\n",
    "dfzip = dfzip.rename(columns = {'Zip':'provider_zip_code','2010 Population':'zip_population2010', \\\n",
    "                               'Density Per Sq Mile':'zip_pop2010_density'})\n",
    "dfzip.head()"
   ]
  },
  {
   "cell_type": "code",
   "execution_count": 140,
   "metadata": {
    "collapsed": false
   },
   "outputs": [
    {
     "data": {
      "text/html": [
       "<div>\n",
       "<table border=\"1\" class=\"dataframe\">\n",
       "  <thead>\n",
       "    <tr style=\"text-align: right;\">\n",
       "      <th></th>\n",
       "      <th>provider_zip_code</th>\n",
       "      <th>zip_median_income</th>\n",
       "    </tr>\n",
       "  </thead>\n",
       "  <tbody>\n",
       "    <tr>\n",
       "      <th>0</th>\n",
       "      <td>01001</td>\n",
       "      <td>56663</td>\n",
       "    </tr>\n",
       "    <tr>\n",
       "      <th>1</th>\n",
       "      <td>01002</td>\n",
       "      <td>49853</td>\n",
       "    </tr>\n",
       "    <tr>\n",
       "      <th>2</th>\n",
       "      <td>01003</td>\n",
       "      <td>28462</td>\n",
       "    </tr>\n",
       "    <tr>\n",
       "      <th>3</th>\n",
       "      <td>01005</td>\n",
       "      <td>75423</td>\n",
       "    </tr>\n",
       "    <tr>\n",
       "      <th>4</th>\n",
       "      <td>01007</td>\n",
       "      <td>79076</td>\n",
       "    </tr>\n",
       "  </tbody>\n",
       "</table>\n",
       "</div>"
      ],
      "text/plain": [
       "  provider_zip_code  zip_median_income\n",
       "0             01001              56663\n",
       "1             01002              49853\n",
       "2             01003              28462\n",
       "3             01005              75423\n",
       "4             01007              79076"
      ]
     },
     "execution_count": 140,
     "metadata": {},
     "output_type": "execute_result"
    }
   ],
   "source": [
    "# Median income by zipcode (http://www.psc.isr.umich.edu/dis/census/Features/tract2zip/)\n",
    "\n",
    "dfincome = pd.read_csv('data/MedianZIP-3.csv',dtype={'Zip':str},usecols=['Zip','Median'])\n",
    "\n",
    "dfincome.Zip = dfincome.Zip.str.zfill(5)\n",
    "dfincome.Median = dfincome.Median.str.replace(',','').astype(int)\n",
    "dfincome = dfincome.rename(columns={'Zip':'provider_zip_code','Median':'zip_median_income'})\n",
    "\n",
    "dfincome.head()"
   ]
  },
  {
   "cell_type": "code",
   "execution_count": 142,
   "metadata": {
    "collapsed": false
   },
   "outputs": [
    {
     "name": "stdout",
     "output_type": "stream",
     "text": [
      "19513\n",
      "19502\n"
     ]
    }
   ],
   "source": [
    "print(len(dfcities))\n",
    "print(len(dfcities.drop_duplicates(subset='provider_city_state')))"
   ]
  },
  {
   "cell_type": "code",
   "execution_count": 143,
   "metadata": {
    "collapsed": false,
    "scrolled": false
   },
   "outputs": [
    {
     "data": {
      "text/plain": [
       "163065"
      ]
     },
     "execution_count": 143,
     "metadata": {},
     "output_type": "execute_result"
    }
   ],
   "source": [
    "# Combines all into one dataframe and selects the relevant columns\n",
    "#df['provider_city_state'] = df.provider_city + ', ' + df.provider_state\n",
    "\n",
    "dftot = df.merge(dfprov, on='provider_id')\n",
    "#dftot = dftot.merge(dfins,on='provider_state')\n",
    "#dftot = dftot.merge(dfstates, on='provider_state')\n",
    "#dftot = dftot.merge(dfzip, on='provider_zip_code')\n",
    "#dftot = dftot.merge(dfcities, on=['provider_city_state'])\n",
    "#dftot = dftot.merge(dfincome, on='provider_zip_code')\n",
    "#dftot = dftot.drop([list(dftot.columns)[1]]+list(dftot.columns)[3:5]+list(dftot.columns)[11:13],axis=1)\n",
    "#dftot.head()\n",
    "#dftot.provider_id.nunique()\n",
    "len(dftot)"
   ]
  },
  {
   "cell_type": "code",
   "execution_count": 146,
   "metadata": {
    "collapsed": false,
    "scrolled": true
   },
   "outputs": [
    {
     "data": {
      "text/html": [
       "<div>\n",
       "<table border=\"1\" class=\"dataframe\">\n",
       "  <thead>\n",
       "    <tr style=\"text-align: right;\">\n",
       "      <th></th>\n",
       "      <th>drg_id</th>\n",
       "      <th>drg_definition</th>\n",
       "      <th>provider_id</th>\n",
       "      <th>provider_name</th>\n",
       "      <th>provider_street_address</th>\n",
       "      <th>provider_city</th>\n",
       "      <th>provider_state</th>\n",
       "      <th>provider_zip_code</th>\n",
       "      <th>hospital_referral_region_description</th>\n",
       "      <th>total_discharges</th>\n",
       "      <th>average_covered_charges</th>\n",
       "      <th>average_total_payments</th>\n",
       "      <th>average_medicare_payments</th>\n",
       "      <th>provider_city_state</th>\n",
       "      <th>frac_diff</th>\n",
       "      <th>lat</th>\n",
       "      <th>lng</th>\n",
       "      <th>frac_diff_class</th>\n",
       "    </tr>\n",
       "  </thead>\n",
       "  <tbody>\n",
       "    <tr>\n",
       "      <th>0</th>\n",
       "      <td>039</td>\n",
       "      <td>039 - EXTRACRANIAL PROCEDURES W/O CC/MCC</td>\n",
       "      <td>10001</td>\n",
       "      <td>SOUTHEAST ALABAMA MEDICAL CENTER</td>\n",
       "      <td>1108 ROSS CLARK CIRCLE</td>\n",
       "      <td>DOTHAN</td>\n",
       "      <td>AL</td>\n",
       "      <td>36301</td>\n",
       "      <td>AL - Dothan</td>\n",
       "      <td>91.0</td>\n",
       "      <td>32963.07</td>\n",
       "      <td>5777.24</td>\n",
       "      <td>4763.73</td>\n",
       "      <td>DOTHAN, AL</td>\n",
       "      <td>0.236842</td>\n",
       "      <td>31.216725</td>\n",
       "      <td>-85.363068</td>\n",
       "      <td>True</td>\n",
       "    </tr>\n",
       "    <tr>\n",
       "      <th>1</th>\n",
       "      <td>057</td>\n",
       "      <td>057 - DEGENERATIVE NERVOUS SYSTEM DISORDERS W/...</td>\n",
       "      <td>10001</td>\n",
       "      <td>SOUTHEAST ALABAMA MEDICAL CENTER</td>\n",
       "      <td>1108 ROSS CLARK CIRCLE</td>\n",
       "      <td>DOTHAN</td>\n",
       "      <td>AL</td>\n",
       "      <td>36301</td>\n",
       "      <td>AL - Dothan</td>\n",
       "      <td>38.0</td>\n",
       "      <td>20312.78</td>\n",
       "      <td>4894.76</td>\n",
       "      <td>3865.50</td>\n",
       "      <td>DOTHAN, AL</td>\n",
       "      <td>-0.006858</td>\n",
       "      <td>31.216725</td>\n",
       "      <td>-85.363068</td>\n",
       "      <td>False</td>\n",
       "    </tr>\n",
       "    <tr>\n",
       "      <th>2</th>\n",
       "      <td>064</td>\n",
       "      <td>064 - INTRACRANIAL HEMORRHAGE OR CEREBRAL INFA...</td>\n",
       "      <td>10001</td>\n",
       "      <td>SOUTHEAST ALABAMA MEDICAL CENTER</td>\n",
       "      <td>1108 ROSS CLARK CIRCLE</td>\n",
       "      <td>DOTHAN</td>\n",
       "      <td>AL</td>\n",
       "      <td>36301</td>\n",
       "      <td>AL - Dothan</td>\n",
       "      <td>84.0</td>\n",
       "      <td>38820.39</td>\n",
       "      <td>10260.21</td>\n",
       "      <td>9167.08</td>\n",
       "      <td>DOTHAN, AL</td>\n",
       "      <td>-0.052088</td>\n",
       "      <td>31.216725</td>\n",
       "      <td>-85.363068</td>\n",
       "      <td>False</td>\n",
       "    </tr>\n",
       "  </tbody>\n",
       "</table>\n",
       "</div>"
      ],
      "text/plain": [
       "  drg_id                                     drg_definition provider_id  \\\n",
       "0    039           039 - EXTRACRANIAL PROCEDURES W/O CC/MCC       10001   \n",
       "1    057  057 - DEGENERATIVE NERVOUS SYSTEM DISORDERS W/...       10001   \n",
       "2    064  064 - INTRACRANIAL HEMORRHAGE OR CEREBRAL INFA...       10001   \n",
       "\n",
       "                      provider_name provider_street_address provider_city  \\\n",
       "0  SOUTHEAST ALABAMA MEDICAL CENTER  1108 ROSS CLARK CIRCLE        DOTHAN   \n",
       "1  SOUTHEAST ALABAMA MEDICAL CENTER  1108 ROSS CLARK CIRCLE        DOTHAN   \n",
       "2  SOUTHEAST ALABAMA MEDICAL CENTER  1108 ROSS CLARK CIRCLE        DOTHAN   \n",
       "\n",
       "  provider_state provider_zip_code hospital_referral_region_description  \\\n",
       "0             AL             36301                          AL - Dothan   \n",
       "1             AL             36301                          AL - Dothan   \n",
       "2             AL             36301                          AL - Dothan   \n",
       "\n",
       "   total_discharges  average_covered_charges  average_total_payments  \\\n",
       "0              91.0                 32963.07                 5777.24   \n",
       "1              38.0                 20312.78                 4894.76   \n",
       "2              84.0                 38820.39                10260.21   \n",
       "\n",
       "   average_medicare_payments provider_city_state  frac_diff        lat  \\\n",
       "0                    4763.73          DOTHAN, AL   0.236842  31.216725   \n",
       "1                    3865.50          DOTHAN, AL  -0.006858  31.216725   \n",
       "2                    9167.08          DOTHAN, AL  -0.052088  31.216725   \n",
       "\n",
       "         lng frac_diff_class  \n",
       "0 -85.363068            True  \n",
       "1 -85.363068           False  \n",
       "2 -85.363068           False  "
      ]
     },
     "execution_count": 146,
     "metadata": {},
     "output_type": "execute_result"
    }
   ],
   "source": [
    "dftot['frac_diff_class'] = dftot.frac_diff >= 0.0\n",
    "dftot.head(3)"
   ]
  },
  {
   "cell_type": "code",
   "execution_count": null,
   "metadata": {
    "collapsed": false
   },
   "outputs": [],
   "source": []
  },
  {
   "cell_type": "code",
   "execution_count": 147,
   "metadata": {
    "collapsed": false,
    "scrolled": true
   },
   "outputs": [
    {
     "data": {
      "text/plain": [
       "frac_diff_class\n",
       "False    81506\n",
       "True     81559\n",
       "dtype: int64"
      ]
     },
     "execution_count": 147,
     "metadata": {},
     "output_type": "execute_result"
    }
   ],
   "source": [
    "dftot.groupby('frac_diff_class').size()"
   ]
  },
  {
   "cell_type": "code",
   "execution_count": null,
   "metadata": {
    "collapsed": false
   },
   "outputs": [],
   "source": []
  },
  {
   "cell_type": "code",
   "execution_count": null,
   "metadata": {
    "collapsed": true
   },
   "outputs": [],
   "source": [
    "# from geopy.distance import vincenty\n",
    "# import time"
   ]
  },
  {
   "cell_type": "code",
   "execution_count": null,
   "metadata": {
    "collapsed": false,
    "scrolled": false
   },
   "outputs": [],
   "source": [
    "# %%time\n",
    "# df_frac['n_hosp'] = 0.0\n",
    "\n",
    "# pts = [df_frac.lat,df_frac.lng]\n",
    "# pts = list(list(x) for x in zip(*pts))\n",
    "# i=0\n",
    "\n",
    "# for index, row in df_frac[['lat','lng']].iterrows():\n",
    "#     ts = time.clock()\n",
    "#     count = 0\n",
    "#     pt1 = [row.lat,row.lng]\n",
    "    \n",
    "#     for pt in pts:\n",
    "#         dist = vincenty(pt1, pt).miles\n",
    "#         if dist < 40 and dist > 0:\n",
    "#             count +=1\n",
    "            \n",
    "#     df_frac.loc[index,'n_hosp'] = count\n",
    "#     i+=1\n",
    "#     if i % 100 == 0: print(i,time.clock()-ts)"
   ]
  },
  {
   "cell_type": "code",
   "execution_count": null,
   "metadata": {
    "collapsed": false,
    "scrolled": false
   },
   "outputs": [],
   "source": []
  },
  {
   "cell_type": "code",
   "execution_count": null,
   "metadata": {
    "collapsed": false
   },
   "outputs": [],
   "source": [
    "#dftot = dftot.merge(df_frac['n_hosp'].reset_index(), on='provider_id' )"
   ]
  },
  {
   "cell_type": "code",
   "execution_count": null,
   "metadata": {
    "collapsed": false
   },
   "outputs": [],
   "source": [
    "# %%time\n",
    "\n",
    "# df_frac['n_hosp'] = 0.0\n",
    "\n",
    "# pts = [df_frac.lat,df_frac.lng]\n",
    "# pts = list(list(x) for x in zip(*pts))\n",
    "\n",
    "# i=0\n",
    "# for index1, row1 in df_frac[['lat','lng']].iterrows():\n",
    "#     if i == 20: break\n",
    "#     pt1 = [row1.lat,row1.lng]\n",
    "#     ts = time.clock()\n",
    "#     for index2, row2 in df_frac.loc[index1:,['lat','lng']].iterrows():\n",
    "#         dist = vincenty(pt1, [row2.lat,row2.lng]).miles\n",
    "#         if dist < 40 and dist > 0:\n",
    "#             df_frac.loc[index1,'n_hosp'] += 1\n",
    "#             df_frac.loc[index2,'n_hosp'] += 1\n",
    "#     #print(time.clock()-ts)\n",
    "#     i+=1"
   ]
  },
  {
   "cell_type": "code",
   "execution_count": null,
   "metadata": {
    "collapsed": false
   },
   "outputs": [],
   "source": []
  },
  {
   "cell_type": "code",
   "execution_count": null,
   "metadata": {
    "collapsed": false
   },
   "outputs": [],
   "source": [
    "# Random Forest Regressor using entire dataset\n",
    "inx = ['lat','lng']#lat','lng']#,'zip_pop2010_density','zip_population2010','zip_median_income']#,'provider_id']#['lat','lng']#\n",
    "dfX = df_frac.loc[:,inx]#zip_population2010']]\n",
    "dfY = df_frac.loc[:,'frac_class']\n",
    "\n",
    "dfX.head()"
   ]
  },
  {
   "cell_type": "code",
   "execution_count": null,
   "metadata": {
    "collapsed": false
   },
   "outputs": [],
   "source": [
    "# dfX = pd.get_dummies(dfX, columns=['drg_id'], dummy_na=True)\n",
    "# dfX.head()"
   ]
  },
  {
   "cell_type": "code",
   "execution_count": null,
   "metadata": {
    "collapsed": true
   },
   "outputs": [],
   "source": []
  },
  {
   "cell_type": "code",
   "execution_count": null,
   "metadata": {
    "collapsed": false,
    "scrolled": true
   },
   "outputs": [],
   "source": [
    "rf = RandomForestClassifier(n_jobs=-1)\n",
    "#rf.n_estimators=10\n",
    "\n",
    "X_train, X_test, y_train, y_test = train_test_split(dfX, dfY, train_size=2./3)\n",
    "\n",
    "rf.fit(X_train,y_train)\n",
    "\n",
    "y_train_pred = rf.predict(X_train)\n",
    "y_test_pred = rf.predict(X_test)\n",
    "\n",
    "rf.score(X_test,y_test)"
   ]
  },
  {
   "cell_type": "code",
   "execution_count": null,
   "metadata": {
    "collapsed": false
   },
   "outputs": [],
   "source": [
    "# clf = LogisticRegression()\n",
    "# X_train, X_test, y_train, y_test = train_test_split(dfX, dfY, train_size=2./3)\n",
    "\n",
    "# clf.fit(X_train,y_train)\n",
    "\n",
    "# y_train_pred = clf.predict(X_train)\n",
    "# y_test_pred = clf.predict(X_test)\n",
    "\n",
    "# clf.score(X_test,y_test)"
   ]
  },
  {
   "cell_type": "code",
   "execution_count": null,
   "metadata": {
    "collapsed": true
   },
   "outputs": [],
   "source": [
    "def plot_confusion_matrix(cm, title='Confusion matrix', cmap=plt.cm.Blues):\n",
    "    plt.imshow(cm, interpolation='nearest', cmap=cmap)\n",
    "    plt.title(title)\n",
    "    plt.colorbar()\n",
    "    tick_marks = np.arange(2)\n",
    "    tick_label = ['f < 0','f > 0']\n",
    "    plt.xticks(tick_marks, tick_label, rotation=45)\n",
    "    plt.yticks(tick_marks, tick_label)\n",
    "    plt.tight_layout()\n",
    "    plt.ylabel('True label')\n",
    "    plt.xlabel('Predicted label')"
   ]
  },
  {
   "cell_type": "code",
   "execution_count": null,
   "metadata": {
    "collapsed": false,
    "scrolled": false
   },
   "outputs": [],
   "source": [
    "cm = mt.confusion_matrix(y_test, y_test_pred)\n",
    "\n",
    "print('Confusion matrix')\n",
    "print(cm)\n",
    "\n",
    "cm_normalized = cm.astype('float') / cm.sum(axis=1)[:, np.newaxis]\n",
    "print('Normalized confusion matrix')\n",
    "print(cm_normalized)\n",
    "\n",
    "\n",
    "plt.figure()\n",
    "plot_confusion_matrix(cm,title='Confusion matrix, without normalization')\n",
    "plt.figure()\n",
    "plot_confusion_matrix(cm_normalized, title='Normalized confusion matrix')"
   ]
  },
  {
   "cell_type": "code",
   "execution_count": null,
   "metadata": {
    "collapsed": false,
    "scrolled": false
   },
   "outputs": [],
   "source": [
    "y_score = rf.predict_proba(X_test)[:,1]\n",
    "\n",
    "print('AUC Score =',mt.roc_auc_score(y_test, y_score))\n",
    "fpr, tpr, thresholds = mt.roc_curve(y_test,y_score)\n",
    "plt.figure()\n",
    "plt.plot(fpr,tpr)\n",
    "plt.xlabel('False Positive Rate')\n",
    "plt.ylabel('True Positive Rate');"
   ]
  },
  {
   "cell_type": "code",
   "execution_count": null,
   "metadata": {
    "collapsed": false
   },
   "outputs": [],
   "source": []
  },
  {
   "cell_type": "code",
   "execution_count": null,
   "metadata": {
    "collapsed": false
   },
   "outputs": [],
   "source": [
    "dftmp = dftot.loc[y_test.index][['provider_state','frac_diff_class']]\n",
    "dftmp['frac_diff_class_pred'] = y_test_pred\n",
    "dftmp['class_pred'] = dftmp.frac_diff_class == dftmp.frac_diff_class_pred\n",
    "dftmp.head()"
   ]
  },
  {
   "cell_type": "code",
   "execution_count": null,
   "metadata": {
    "collapsed": false
   },
   "outputs": [],
   "source": [
    "df_state_pred = dftmp.groupby(['provider_state','class_pred']).size().unstack()\n",
    "df_state_pred['Percent'] = df_state_pred[df_state_pred.columns[1]]/df_state_pred.sum(axis=1)\n",
    "df_state_pred.head()"
   ]
  },
  {
   "cell_type": "code",
   "execution_count": null,
   "metadata": {
    "collapsed": false
   },
   "outputs": [],
   "source": [
    "df_state_pred.plot(y='Percent',kind='bar',figsize=(25,12),fontsize=20);"
   ]
  },
  {
   "cell_type": "code",
   "execution_count": null,
   "metadata": {
    "collapsed": false,
    "scrolled": false
   },
   "outputs": [],
   "source": [
    "#finds the median gps coordinates of all providers in each state\n",
    "df_state_geo = dftot[['provider_state','lat','lng']]\n",
    "df_state_geo = df_state_geo.groupby(['provider_state']).median()\n",
    "df_state_geo.head()"
   ]
  },
  {
   "cell_type": "code",
   "execution_count": null,
   "metadata": {
    "collapsed": false
   },
   "outputs": [],
   "source": []
  },
  {
   "cell_type": "code",
   "execution_count": null,
   "metadata": {
    "collapsed": false
   },
   "outputs": [],
   "source": [
    "df_state = df_state_pred.merge(df_state_geo,right_index=True,left_index=True)\n",
    "df_state.head()"
   ]
  },
  {
   "cell_type": "code",
   "execution_count": null,
   "metadata": {
    "collapsed": false
   },
   "outputs": [],
   "source": []
  },
  {
   "cell_type": "code",
   "execution_count": null,
   "metadata": {
    "collapsed": false
   },
   "outputs": [],
   "source": [
    "df_state.sort_values('lng').plot(y = 'Percent',kind ='bar',figsize=(20,10));"
   ]
  },
  {
   "cell_type": "code",
   "execution_count": null,
   "metadata": {
    "collapsed": true
   },
   "outputs": [],
   "source": []
  }
 ],
 "metadata": {
  "kernelspec": {
   "display_name": "Python 3",
   "language": "python",
   "name": "python3"
  },
  "language_info": {
   "codemirror_mode": {
    "name": "ipython",
    "version": 3
   },
   "file_extension": ".py",
   "mimetype": "text/x-python",
   "name": "python",
   "nbconvert_exporter": "python",
   "pygments_lexer": "ipython3",
   "version": "3.5.2"
  }
 },
 "nbformat": 4,
 "nbformat_minor": 0
}
